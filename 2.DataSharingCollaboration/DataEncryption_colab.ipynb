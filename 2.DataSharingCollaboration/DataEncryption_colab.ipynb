{
  "cells": [
    {
      "cell_type": "markdown",
      "metadata": {
        "id": "view-in-github",
        "colab_type": "text"
      },
      "source": [
        "<a href=\"https://colab.research.google.com/github/reworkhow/AG2PI-Workshop/blob/main/2.DataSharingCollaboration/data_encryption.ipynb\" target=\"_parent\"><img src=\"https://colab.research.google.com/assets/colab-badge.svg\" alt=\"Open In Colab\"/></a>"
      ]
    },
    {
      "cell_type": "markdown",
      "metadata": {
        "id": "oYAXaX5ko5iq"
      },
      "source": [
        "# <img src=\"https://github.com/JuliaLang/julia-logo-graphics/raw/master/images/julia-logo-color.png\" height=\"100\" /> _Colab Notebook Template_\n",
        "\n",
        "## Instructions\n",
        "1. Work on a copy of this notebook: _File_ > _Save a copy in Drive_ (you will need a Google account). Alternatively, you can download the notebook using _File_ > _Download .ipynb_, then upload it to [Colab](https://colab.research.google.com/).\n",
        "2. If you need a GPU: _Runtime_ > _Change runtime type_ > _Harware accelerator_ = _GPU_.\n",
        "3. Execute the following cell (click on it and press Ctrl+Enter) to install Julia, IJulia and other packages (if needed, update `JULIA_VERSION` and the other parameters). This takes a couple of minutes.\n",
        "4. Reload this page (press Ctrl+R, or ⌘+R, or the F5 key) and continue to the next section.\n",
        "\n",
        "_Notes_:\n",
        "* If your Colab Runtime gets reset (e.g., due to inactivity), repeat steps 2, 3 and 4.\n",
        "* After installation, if you want to change the Julia version or activate/deactivate the GPU, you will need to reset the Runtime: _Runtime_ > _Factory reset runtime_ and repeat steps 3 and 4."
      ]
    },
    {
      "cell_type": "code",
      "execution_count": null,
      "metadata": {
        "colab": {
          "background_save": true,
          "base_uri": "https://localhost:8080/"
        },
        "id": "GIeFXS0F0zww",
        "outputId": "4ded62f4-0acc-409a-b9cf-ee741bc96e14"
      },
      "outputs": [
        {
          "name": "stdout",
          "output_type": "stream",
          "text": [
            "Installing Julia 1.8.5 on the current Colab Runtime...\n",
            "2023-06-14 21:26:14 URL:https://storage.googleapis.com/julialang2/bin/linux/x64/1.8/julia-1.8.5-linux-x86_64.tar.gz [130873886/130873886] -> \"/tmp/julia.tar.gz\" [1]\n",
            "Installing Julia package IJulia...\n",
            "Installing Julia package CSV...\n",
            "Installing Julia package DataFrames...\n",
            "Installing Julia package Random...\n",
            "Installing Julia package Statistics...\n",
            "Installing Julia package Distributions...\n",
            "Installing Julia package LinearAlgebra...\n",
            "Installing Julia package JWAS...\n",
            "Installing IJulia kernel...\n",
            "\u001b[36m\u001b[1m[ \u001b[22m\u001b[39m\u001b[36m\u001b[1mInfo: \u001b[22m\u001b[39mInstalling julia kernelspec in /root/.local/share/jupyter/kernels/julia-1.8\n",
            "\n",
            "Successfully installed julia version 1.8.5!\n",
            "Please reload this page (press Ctrl+R, ⌘+R, or the F5 key) then\n",
            "jump to the 'Checking the Installation' section.\n"
          ]
        },
        {
          "data": {
            "text/plain": []
          },
          "execution_count": 1,
          "metadata": {},
          "output_type": "execute_result"
        }
      ],
      "source": [
        "%%shell\n",
        "set -e\n",
        "\n",
        "#---------------------------------------------------#\n",
        "JULIA_VERSION=\"1.8.5\" # any version ≥ 0.7.0\n",
        "JULIA_PACKAGES=\"IJulia CSV DataFrames Random Statistics Distributions LinearAlgebra JWAS\"  # Plots will cause error\n",
        "JULIA_PACKAGES_IF_GPU=\"\"\n",
        "JULIA_NUM_THREADS=4\n",
        "#---------------------------------------------------#\n",
        "\n",
        "if [ -n \"$COLAB_GPU\" ] && [ -z `which julia` ]; then\n",
        "  # Install Julia\n",
        "  JULIA_VER=`cut -d '.' -f -2 <<< \"$JULIA_VERSION\"`\n",
        "  echo \"Installing Julia $JULIA_VERSION on the current Colab Runtime...\"\n",
        "  BASE_URL=\"https://julialang-s3.julialang.org/bin/linux/x64\"\n",
        "  URL=\"$BASE_URL/$JULIA_VER/julia-$JULIA_VERSION-linux-x86_64.tar.gz\"\n",
        "  wget -nv $URL -O /tmp/julia.tar.gz # -nv means \"not verbose\"\n",
        "  tar -x -f /tmp/julia.tar.gz -C /usr/local --strip-components 1\n",
        "  rm /tmp/julia.tar.gz\n",
        "\n",
        "  # Install Packages\n",
        "  if [ \"$COLAB_GPU\" = \"1\" ]; then\n",
        "      JULIA_PACKAGES=\"$JULIA_PACKAGES $JULIA_PACKAGES_IF_GPU\"\n",
        "  fi\n",
        "  for PKG in `echo $JULIA_PACKAGES`; do\n",
        "    echo \"Installing Julia package $PKG...\"\n",
        "    julia -e 'using Pkg; pkg\"add '$PKG'; precompile;\"' &> /dev/null\n",
        "  done\n",
        "\n",
        "  # Install kernel and rename it to \"julia\"\n",
        "  echo \"Installing IJulia kernel...\"\n",
        "  julia -e 'using IJulia; IJulia.installkernel(\"julia\", env=Dict(\n",
        "      \"JULIA_NUM_THREADS\"=>\"'\"$JULIA_NUM_THREADS\"'\"))'\n",
        "  KERNEL_DIR=`julia -e \"using IJulia; print(IJulia.kerneldir())\"`\n",
        "  KERNEL_NAME=`ls -d \"$KERNEL_DIR\"/julia*`\n",
        "  mv -f $KERNEL_NAME \"$KERNEL_DIR\"/julia\n",
        "\n",
        "  echo ''\n",
        "  echo \"Successfully installed `julia -v`!\"\n",
        "  echo \"Please reload this page (press Ctrl+R, ⌘+R, or the F5 key) then\"\n",
        "  echo \"jump to the 'Checking the Installation' section.\"\n",
        "fi"
      ]
    },
    {
      "cell_type": "code",
      "execution_count": null,
      "metadata": {
        "colab": {
          "base_uri": "https://localhost:8080/"
        },
        "id": "EEzvvzCl1i0F",
        "outputId": "7857d898-1982-42db-ab16-8105015ac213"
      },
      "outputs": [
        {
          "name": "stdout",
          "output_type": "stream",
          "text": [
            "Julia Version 1.8.5\n",
            "Commit 17cfb8e65ea (2023-01-08 06:45 UTC)\n",
            "Platform Info:\n",
            "  OS: Linux (x86_64-linux-gnu)\n",
            "  CPU: 2 × Intel(R) Xeon(R) CPU @ 2.30GHz\n",
            "  WORD_SIZE: 64\n",
            "  LIBM: libopenlibm\n",
            "  LLVM: libLLVM-13.0.1 (ORCJIT, haswell)\n",
            "  Threads: 4 on 2 virtual cores\n",
            "Environment:\n",
            "  LD_LIBRARY_PATH = /usr/lib64-nvidia\n",
            "  JULIA_NUM_THREADS = 4\n"
          ]
        }
      ],
      "source": [
        "versioninfo()"
      ]
    },
    {
      "cell_type": "code",
      "execution_count": null,
      "metadata": {
        "id": "zk6HC4EuokOz"
      },
      "outputs": [],
      "source": [
        "using CSV, DataFrames, Random, Statistics, Distributions, LinearAlgebra, JWAS"
      ]
    },
    {
      "cell_type": "markdown",
      "metadata": {
        "id": "jL-l5cOSpq1b"
      },
      "source": [
        "# Homomorphic encryption using high-dimensional random orthogonal matrix"
      ]
    },
    {
      "cell_type": "markdown",
      "metadata": {
        "id": "z-YKHzP3qv7H"
      },
      "source": [
        "Simulate raw genotypes (M) and phenotypes (y) data. Number of individuals=100, number of markers=10."
      ]
    },
    {
      "cell_type": "code",
      "execution_count": null,
      "metadata": {
        "id": "gOgxopfVpp60"
      },
      "outputs": [],
      "source": [
        "Random.seed!(123)\n",
        "n, p = 100,10\n",
        "M  = rand([0.0,1,2],n,p)\n",
        "g  = M*randn(p)\n",
        "y  = g + randn(n)*sqrt(var(g))\n",
        "M = M.-mean(M,dims=1)\n",
        "y = y.-mean(y);"
      ]
    },
    {
      "cell_type": "markdown",
      "metadata": {
        "id": "xl445ENgq2Kw"
      },
      "source": [
        "generate random orthogonal matrix:"
      ]
    },
    {
      "cell_type": "code",
      "execution_count": null,
      "metadata": {
        "colab": {
          "base_uri": "https://localhost:8080/"
        },
        "id": "7s2gMuhgqB0E",
        "outputId": "b4f649b9-8d01-484f-cee0-db8d4be43148"
      },
      "outputs": [
        {
          "data": {
            "text/plain": [
              "5×5 Matrix{Float64}:\n",
              "  0.0545174  -0.0434924  -0.0755381     0.022179    -0.0868766\n",
              " -0.219804    0.120624   -0.0956059     0.100837    -0.130328\n",
              "  0.181158    0.126938    0.000617421   0.00680411  -0.119745\n",
              " -0.123869    0.0369384  -0.0976296    -0.121432     0.00928307\n",
              "  0.0763924  -0.0964402   0.0865538    -0.0205998   -0.172082"
            ]
          },
          "execution_count": 6,
          "metadata": {},
          "output_type": "execute_result"
        }
      ],
      "source": [
        "function stiefel(n,p;rng)\n",
        "   A  = randn(rng,n,p)\n",
        "   AA = A'*A\n",
        "   return A*AA^(-0.5)\n",
        "end\n",
        "P = stiefel(n,n,rng=MersenneTwister(3))\n",
        "\n",
        "P[1:5,1:5]"
      ]
    },
    {
      "cell_type": "code",
      "execution_count": null,
      "metadata": {
        "colab": {
          "base_uri": "https://localhost:8080/"
        },
        "id": "SBshQDcmzevz",
        "outputId": "4bee25ee-c600-4c30-c19a-c058d62deebb"
      },
      "outputs": [
        {
          "data": {
            "text/plain": [
              "5×5 Matrix{Float64}:\n",
              "  1.0  -0.0  -0.0  -0.0   0.0\n",
              " -0.0   1.0  -0.0   0.0  -0.0\n",
              " -0.0  -0.0   1.0   0.0   0.0\n",
              " -0.0   0.0   0.0   1.0  -0.0\n",
              "  0.0  -0.0   0.0  -0.0   1.0"
            ]
          },
          "execution_count": 7,
          "metadata": {},
          "output_type": "execute_result"
        }
      ],
      "source": [
        "round.(P'P,digits=3)[1:5,1:5]"
      ]
    },
    {
      "cell_type": "markdown",
      "metadata": {
        "id": "7_Ea4H0prg7Y"
      },
      "source": [
        "encrypt genotype and phenotype data:"
      ]
    },
    {
      "cell_type": "code",
      "execution_count": null,
      "metadata": {
        "colab": {
          "base_uri": "https://localhost:8080/"
        },
        "id": "89HOPcdS6QES",
        "outputId": "1b52081d-d9cb-4437-fc1a-bc8e1753a544"
      },
      "outputs": [
        {
          "data": {
            "text/plain": [
              "3×3 Matrix{Float64}:\n",
              " -0.01   0.05  0.95\n",
              " -0.01  -0.95  0.95\n",
              "  0.99   0.05  0.95"
            ]
          },
          "execution_count": 12,
          "metadata": {},
          "output_type": "execute_result"
        }
      ],
      "source": [
        "M[1:3,1:3]"
      ]
    },
    {
      "cell_type": "code",
      "execution_count": null,
      "metadata": {
        "colab": {
          "base_uri": "https://localhost:8080/"
        },
        "id": "TCRBf-RGrgTB",
        "outputId": "374ae259-f6f7-45d5-9c3e-93170bfa1917"
      },
      "outputs": [
        {
          "data": {
            "text/plain": [
              "3×3 Matrix{Float64}:\n",
              "  0.22479    -1.0301    -0.477804\n",
              "  0.0317817   0.986898   0.720304\n",
              " -1.00543    -0.554276   1.33093"
            ]
          },
          "execution_count": 13,
          "metadata": {},
          "output_type": "execute_result"
        }
      ],
      "source": [
        "#encrypt genotypes P*X\n",
        "M_encrypted = P*M\n",
        "M_encrypted[1:3,1:3]"
      ]
    },
    {
      "cell_type": "code",
      "execution_count": null,
      "metadata": {
        "colab": {
          "base_uri": "https://localhost:8080/"
        },
        "id": "c_NTeTt76cXy",
        "outputId": "d8cac2ca-dfe7-446d-b243-02f6d25d70b3"
      },
      "outputs": [
        {
          "data": {
            "text/plain": [
              "3-element Vector{Float64}:\n",
              " 1.4583758399849935\n",
              " 2.0685919432881854\n",
              " 3.6662720880277546"
            ]
          },
          "execution_count": 14,
          "metadata": {},
          "output_type": "execute_result"
        }
      ],
      "source": [
        "y[1:3]"
      ]
    },
    {
      "cell_type": "code",
      "execution_count": null,
      "metadata": {
        "colab": {
          "base_uri": "https://localhost:8080/"
        },
        "id": "ORB2NgyeqvMy",
        "outputId": "7da57c99-da7a-4d91-90ec-a6311caee758"
      },
      "outputs": [
        {
          "data": {
            "text/plain": [
              "3-element Vector{Float64}:\n",
              "  3.4279651874846992\n",
              " -0.3124339258801001\n",
              "  5.241554432345621"
            ]
          },
          "execution_count": 15,
          "metadata": {},
          "output_type": "execute_result"
        }
      ],
      "source": [
        "#encrypt phenotypes P*y\n",
        "y_encrypted = P*y\n",
        "y_encrypted[1:3]"
      ]
    },
    {
      "cell_type": "markdown",
      "metadata": {
        "id": "LhnJ4d65sOor"
      },
      "source": [
        "## Preserved relationships between SNPs"
      ]
    },
    {
      "cell_type": "code",
      "execution_count": null,
      "metadata": {
        "colab": {
          "base_uri": "https://localhost:8080/"
        },
        "id": "SOtkhv_xuJ0e",
        "outputId": "9385396c-5a14-489f-f377-51377083e814"
      },
      "outputs": [
        {
          "data": {
            "text/plain": [
              "5×5 Matrix{Float64}:\n",
              "  68.99   -3.95   3.95  -11.11  -2.15\n",
              "  -3.95   66.75   3.25  -14.45  -5.25\n",
              "   3.95    3.25  76.75   -7.55   9.25\n",
              " -11.11  -14.45  -7.55   65.79  -0.65\n",
              "  -2.15   -5.25   9.25   -0.65  54.75"
            ]
          },
          "execution_count": 22,
          "metadata": {},
          "output_type": "execute_result"
        }
      ],
      "source": [
        "(M'M)[1:5,1:5]"
      ]
    },
    {
      "cell_type": "code",
      "execution_count": null,
      "metadata": {
        "colab": {
          "base_uri": "https://localhost:8080/"
        },
        "id": "hQNNgbkFuNXQ",
        "outputId": "f7c039b2-ae51-4d10-a7e7-c52f56c614a3"
      },
      "outputs": [
        {
          "data": {
            "text/plain": [
              "5×5 Matrix{Float64}:\n",
              "  68.99   -3.95   3.95  -11.11  -2.15\n",
              "  -3.95   66.75   3.25  -14.45  -5.25\n",
              "   3.95    3.25  76.75   -7.55   9.25\n",
              " -11.11  -14.45  -7.55   65.79  -0.65\n",
              "  -2.15   -5.25   9.25   -0.65  54.75"
            ]
          },
          "execution_count": 23,
          "metadata": {},
          "output_type": "execute_result"
        }
      ],
      "source": [
        "(M_encrypted'M_encrypted)[1:5,1:5]"
      ]
    },
    {
      "cell_type": "markdown",
      "metadata": {
        "id": "NDw0WAOFuZfZ"
      },
      "source": [
        "## Scrambled relationships between individuals"
      ]
    },
    {
      "cell_type": "code",
      "execution_count": null,
      "metadata": {
        "colab": {
          "base_uri": "https://localhost:8080/"
        },
        "id": "f3QvEgrruPug",
        "outputId": "b4fb2809-185a-4d58-c278-e1e9eedba21b"
      },
      "outputs": [
        {
          "data": {
            "text/plain": [
              "5×5 Matrix{Float64}:\n",
              "  6.7559  -3.1641   0.1359  -3.0141   0.3059\n",
              " -3.1641   4.9159   1.2159   2.0659   1.3859\n",
              "  0.1359   1.2159   4.5159  -0.6341   1.6859\n",
              " -3.0141   2.0659  -0.6341   8.2159  -0.4641\n",
              "  0.3059   1.3859   1.6859  -0.4641   2.8559"
            ]
          },
          "execution_count": 24,
          "metadata": {},
          "output_type": "execute_result"
        }
      ],
      "source": [
        "(M*M')[1:5,1:5]"
      ]
    },
    {
      "cell_type": "code",
      "execution_count": null,
      "metadata": {
        "colab": {
          "base_uri": "https://localhost:8080/"
        },
        "id": "j8o7zsKEugyU",
        "outputId": "9462c1cc-bf7a-4359-f382-985e1b47dbb2"
      },
      "outputs": [
        {
          "data": {
            "text/plain": [
              "5×5 Matrix{Float64}:\n",
              "  5.49998   -0.188062   0.674004   0.414616   0.469399\n",
              " -0.188062   5.7496    -1.18879   -1.15605   -1.62761\n",
              "  0.674004  -1.18879    9.05803   -1.55662    0.489959\n",
              "  0.414616  -1.15605   -1.55662    6.721     -2.54658\n",
              "  0.469399  -1.62761    0.489959  -2.54658   10.9648"
            ]
          },
          "execution_count": 25,
          "metadata": {},
          "output_type": "execute_result"
        }
      ],
      "source": [
        "(M_encrypted*M_encrypted')[1:5,1:5]"
      ]
    },
    {
      "cell_type": "markdown",
      "metadata": {
        "id": "Yc-t_Md0sQas"
      },
      "source": [
        "# Bayesian variable selection model (BayesC$\\pi$) using raw and encrypted data"
      ]
    },
    {
      "cell_type": "code",
      "execution_count": null,
      "metadata": {
        "id": "IFSRoJkTvBF4"
      },
      "outputs": [],
      "source": [
        "using JWAS,LinearAlgebra"
      ]
    },
    {
      "cell_type": "code",
      "execution_count": null,
      "metadata": {
        "colab": {
          "base_uri": "https://localhost:8080/"
        },
        "id": "b4-0_XPpPrs4",
        "outputId": "1a674bbc-14b5-4d7a-c582-ea03062c0245"
      },
      "outputs": [
        {
          "data": {
            "text/plain": [
              "1.0"
            ]
          },
          "execution_count": 27,
          "metadata": {},
          "output_type": "execute_result"
        }
      ],
      "source": [
        "Random.seed!(1)\n",
        "G = R = 1.0"
      ]
    },
    {
      "cell_type": "markdown",
      "metadata": {
        "id": "3DpFgE05z1Ib"
      },
      "source": [
        "Raw data:"
      ]
    },
    {
      "cell_type": "code",
      "execution_count": null,
      "metadata": {
        "colab": {
          "base_uri": "https://localhost:8080/"
        },
        "id": "lrrqBMqfP8Sl",
        "outputId": "caf3d93a-3cad-41df-f7c9-775bf72ce043"
      },
      "outputs": [
        {
          "name": "stdout",
          "output_type": "stream",
          "text": [
            "\u001b[0m\u001b[1mThe marker IDs are set to 1,2,...,#markers\u001b[22m\n",
            "\u001b[0m\u001b[1mThe individual IDs is set to 1,2,...,#observations\u001b[22m\n",
            "Genotype informatin:\n",
            "#markers: 10; #individuals: 100\n",
            "\u001b[32mThe folder results is created to save results.\u001b[39m\n",
            "\u001b[32mChecking genotypes...\u001b[39m\n",
            "\u001b[32mChecking phenotypes...\u001b[39m\n",
            "\u001b[32mIndividual IDs (strings) are provided in the first column of the phenotypic data.\u001b[39m\n",
            "\u001b[32mPredicted values for individuals of interest will be obtained as the summation of Any[] (Note that genomic data is always included for now).\u001b[39m\u001b[32mPhenotypes for 100 observations are used in the analysis.These individual IDs are saved in the file IDs_for_individuals_with_phenotypes.txt.\u001b[39m\n",
            "\n",
            "\u001b[0m\u001b[1mA Linear Mixed Model was build using model equations:\u001b[22m\n",
            "\n",
            "y = intercept + genotypes\n",
            "\n",
            "\u001b[0m\u001b[1mModel Information:\u001b[22m\n",
            "\n",
            "Term            C/F          F/R            nLevels\n",
            "intercept       factor       fixed                1\n",
            "\n",
            "\u001b[0m\u001b[1mMCMC Information:\u001b[22m\n",
            "\n",
            "chain_length                                  50000\n",
            "burnin                                            0\n",
            "starting_value                                 true\n",
            "printout_frequency                            50001\n",
            "output_samples_frequency                         50\n",
            "constraint                                    false\n",
            "missing_phenotypes                             true\n",
            "update_priors_frequency                           0\n",
            "seed                                          false\n",
            "\n",
            "\u001b[0m\u001b[1mHyper-parameters Information:\u001b[22m\n",
            "\n",
            "residual variances:                           1.000\n",
            "\n",
            "\u001b[0m\u001b[1mGenomic Information:\u001b[22m\n",
            "\n",
            "complete genomic data (i.e., non-single-step analysis)\n",
            "\n",
            "Genomic Category                          genotypes\n",
            "Method                                       BayesC\n",
            "marker effect variances:                      1.000\n",
            "π                                               0.0\n",
            "estimatePi                                     true\n",
            "estimateScale                                 false\n",
            "\n",
            "\u001b[0m\u001b[1mDegree of freedom for hyper-parameters:\u001b[22m\n",
            "\n",
            "residual variances:                           4.000\n",
            "marker effect variances:                      4.000\n",
            "\n",
            "\n",
            "\n",
            "\u001b[32mThe file results/MCMC_samples_residual_variance.txt is created to save MCMC samples for residual_variance.\u001b[39m\n",
            "\u001b[32mThe file results/MCMC_samples_marker_effects_genotypes_y.txt is created to save MCMC samples for marker_effects_genotypes_y.\u001b[39m\n",
            "\u001b[32mThe file results/MCMC_samples_marker_effects_variances_genotypes.txt is created to save MCMC samples for marker_effects_variances_genotypes.\u001b[39m\n",
            "\u001b[32mThe file results/MCMC_samples_pi_genotypes.txt is created to save MCMC samples for pi_genotypes.\u001b[39m\n",
            "\u001b[32mThe file results/MCMC_samples_EBV_y.txt is created to save MCMC samples for EBV_y.\u001b[39m\n",
            "\u001b[32mThe file results/MCMC_samples_genetic_variance.txt is created to save MCMC samples for genetic_variance.\u001b[39m\n",
            "\u001b[32mThe file results/MCMC_samples_heritability.txt is created to save MCMC samples for heritability.\u001b[39m\n"
          ]
        },
        {
          "name": "stderr",
          "output_type": "stream",
          "text": [
            "\u001b[32mrunning MCMC ... 100%|███████████████████████████████████| Time: 0:00:04\u001b[39m\n"
          ]
        },
        {
          "name": "stdout",
          "output_type": "stream",
          "text": [
            "\n",
            "\n",
            "\u001b[0m\u001b[1mThe version of Julia and Platform in use:\u001b[22m\n",
            "\n",
            "Julia Version 1.8.5\n",
            "Commit 17cfb8e65ea (2023-01-08 06:45 UTC)\n",
            "Platform Info:\n",
            "  OS: Linux (x86_64-linux-gnu)\n",
            "  CPU: 2 × Intel(R) Xeon(R) CPU @ 2.30GHz\n",
            "  WORD_SIZE: 64\n",
            "  LIBM: libopenlibm\n",
            "  LLVM: libLLVM-13.0.1 (ORCJIT, haswell)\n",
            "  Threads: 4 on 2 virtual cores\n",
            "Environment:\n",
            "  LD_LIBRARY_PATH = /usr/lib64-nvidia\n",
            "  JULIA_NUM_THREADS = 4\n",
            "\n",
            "\n",
            "\u001b[0m\u001b[1mThe analysis has finished. Results are saved in the returned \u001b[22m\u001b[0m\u001b[1mvariable and text files. MCMC samples are saved in text files.\u001b[22m\n",
            "\n",
            "\n"
          ]
        }
      ],
      "source": [
        "genotypes       = get_genotypes(M,G,G_is_marker_variance = true,center=false,method=\"BayesC\",quality_control=false)\n",
        "model_equation  = \"y = intercept + genotypes\";\n",
        "model           = build_model(model_equation,R);\n",
        "pheno           = DataFrame(ID=1:n,y=y);\n",
        "out             = runMCMC(model,pheno,chain_length=50_000,double_precision=true);"
      ]
    },
    {
      "cell_type": "markdown",
      "metadata": {
        "id": "Zydb-29Xz5es"
      },
      "source": [
        "Encrypted data:"
      ]
    },
    {
      "cell_type": "code",
      "execution_count": null,
      "metadata": {
        "colab": {
          "base_uri": "https://localhost:8080/"
        },
        "id": "5PVwZZwlvVah",
        "outputId": "d912dee4-c068-4c6a-ea8c-4983eadb5d6e"
      },
      "outputs": [
        {
          "name": "stdout",
          "output_type": "stream",
          "text": [
            "\u001b[0m\u001b[1mThe marker IDs are set to 1,2,...,#markers\u001b[22m\n",
            "\u001b[0m\u001b[1mThe individual IDs is set to 1,2,...,#observations\u001b[22m\n",
            "Genotype informatin:\n",
            "#markers: 10; #individuals: 100\n",
            "\u001b[31mThe folder results already exists.\u001b[39m\n",
            "\u001b[32mThe folder results1 is created to save results.\u001b[39m\n",
            "\u001b[32mChecking genotypes...\u001b[39m\n",
            "\u001b[32mChecking phenotypes...\u001b[39m\n",
            "\u001b[32mIndividual IDs (strings) are provided in the first column of the phenotypic data.\u001b[39m\n",
            "\u001b[32mPredicted values for individuals of interest will be obtained as the summation of Any[] (Note that genomic data is always included for now).\u001b[39m\u001b[32mPhenotypes for 100 observations are used in the analysis.These individual IDs are saved in the file IDs_for_individuals_with_phenotypes.txt.\u001b[39m\n",
            "\n",
            "\u001b[0m\u001b[1mA Linear Mixed Model was build using model equations:\u001b[22m\n",
            "\n",
            "y_encrypted = intercept + genotypes_encrypted\n",
            "\n",
            "\u001b[0m\u001b[1mModel Information:\u001b[22m\n",
            "\n",
            "Term            C/F          F/R            nLevels\n",
            "intercept       factor       fixed                1\n",
            "\n",
            "\u001b[0m\u001b[1mMCMC Information:\u001b[22m\n",
            "\n",
            "chain_length                                  50000\n",
            "burnin                                            0\n",
            "starting_value                                 true\n",
            "printout_frequency                            50001\n",
            "output_samples_frequency                         50\n",
            "constraint                                    false\n",
            "missing_phenotypes                             true\n",
            "update_priors_frequency                           0\n",
            "seed                                          false\n",
            "\n",
            "\u001b[0m\u001b[1mHyper-parameters Information:\u001b[22m\n",
            "\n",
            "residual variances:                           1.000\n",
            "\n",
            "\u001b[0m\u001b[1mGenomic Information:\u001b[22m\n",
            "\n",
            "complete genomic data (i.e., non-single-step analysis)\n",
            "\n",
            "Genomic Category                genotypes_encrypted\n",
            "Method                                       BayesC\n",
            "marker effect variances:                      1.000\n",
            "π                                               0.0\n",
            "estimatePi                                     true\n",
            "estimateScale                                 false\n",
            "\n",
            "\u001b[0m\u001b[1mDegree of freedom for hyper-parameters:\u001b[22m\n",
            "\n",
            "residual variances:                           4.000\n",
            "marker effect variances:                      4.000\n",
            "\n",
            "\n",
            "\n",
            "\u001b[32mThe file results1/MCMC_samples_residual_variance.txt is created to save MCMC samples for residual_variance.\u001b[39m\n",
            "\u001b[32mThe file results1/MCMC_samples_marker_effects_genotypes_encrypted_y_encrypted.txt is created to save MCMC samples for marker_effects_genotypes_encrypted_y_encrypted.\u001b[39m\n",
            "\u001b[32mThe file results1/MCMC_samples_marker_effects_variances_genotypes_encrypted.txt is created to save MCMC samples for marker_effects_variances_genotypes_encrypted.\u001b[39m\n",
            "\u001b[32mThe file results1/MCMC_samples_pi_genotypes_encrypted.txt is created to save MCMC samples for pi_genotypes_encrypted.\u001b[39m\n",
            "\u001b[32mThe file results1/MCMC_samples_EBV_y_encrypted.txt is created to save MCMC samples for EBV_y_encrypted.\u001b[39m\n",
            "\u001b[32mThe file results1/MCMC_samples_genetic_variance.txt is created to save MCMC samples for genetic_variance.\u001b[39m\n",
            "\u001b[32mThe file results1/MCMC_samples_heritability.txt is created to save MCMC samples for heritability.\u001b[39m\n"
          ]
        },
        {
          "name": "stderr",
          "output_type": "stream",
          "text": [
            "\u001b[32mrunning MCMC ... 100%|███████████████████████████████████| Time: 0:00:00\u001b[39m\n"
          ]
        },
        {
          "name": "stdout",
          "output_type": "stream",
          "text": [
            "\n",
            "\n",
            "\u001b[0m\u001b[1mThe version of Julia and Platform in use:\u001b[22m\n",
            "\n",
            "Julia Version 1.8.5\n",
            "Commit 17cfb8e65ea (2023-01-08 06:45 UTC)\n",
            "Platform Info:\n",
            "  OS: Linux (x86_64-linux-gnu)\n",
            "  CPU: 2 × Intel(R) Xeon(R) CPU @ 2.30GHz\n",
            "  WORD_SIZE: 64\n",
            "  LIBM: libopenlibm\n",
            "  LLVM: libLLVM-13.0.1 (ORCJIT, haswell)\n",
            "  Threads: 4 on 2 virtual cores\n",
            "Environment:\n",
            "  LD_LIBRARY_PATH = /usr/lib64-nvidia\n",
            "  JULIA_NUM_THREADS = 4\n",
            "\n",
            "\n",
            "\u001b[0m\u001b[1mThe analysis has finished. Results are saved in the returned \u001b[22m\u001b[0m\u001b[1mvariable and text files. MCMC samples are saved in text files.\u001b[22m\n",
            "\n",
            "\n"
          ]
        }
      ],
      "source": [
        "genotypes_encrypted       = get_genotypes(M_encrypted,G,G_is_marker_variance = true,center=false,method=\"BayesC\",quality_control=false)\n",
        "model_equation_encrypted  =\"y_encrypted = intercept + genotypes_encrypted\";\n",
        "model_encrypted           = build_model(model_equation_encrypted,R);\n",
        "pheno_encrypted           = DataFrame(ID=1:n,y_encrypted=y_encrypted);\n",
        "out_encrypted             = runMCMC(model_encrypted,pheno_encrypted,chain_length=50_000,double_precision=true);"
      ]
    },
    {
      "cell_type": "markdown",
      "metadata": {
        "id": "PAB-O0lGQw1o"
      },
      "source": [
        "marker effects:"
      ]
    },
    {
      "cell_type": "code",
      "execution_count": null,
      "metadata": {
        "colab": {
          "base_uri": "https://localhost:8080/"
        },
        "id": "CSrxw79nQe_u",
        "outputId": "c59a6149-ff92-4f7f-9ae7-69a35417fd7c"
      },
      "outputs": [
        {
          "name": "stdout",
          "output_type": "stream",
          "text": [
            "The correlation is: 0.9998764117229259\n"
          ]
        },
        {
          "data": {
            "text/plain": [
              "10×2 Matrix{Float64}:\n",
              " -0.0365045  -0.0213402\n",
              " -0.503389   -0.476628\n",
              "  1.42329     1.40781\n",
              "  0.482046    0.500435\n",
              " -1.36591    -1.35355\n",
              " -1.09932    -1.10219\n",
              " -0.508864   -0.515837\n",
              "  1.22906     1.25062\n",
              " -0.588028   -0.583852\n",
              " -0.56502    -0.538082"
            ]
          },
          "execution_count": 30,
          "metadata": {},
          "output_type": "execute_result"
        }
      ],
      "source": [
        "println(\"The correlation is: \", cor(out[\"marker effects genotypes\"][!,:Estimate],out_encrypted[\"marker effects genotypes_encrypted\"][!,:Estimate]))\n",
        "\n",
        "[out[\"marker effects genotypes\"][!,:Estimate] out_encrypted[\"marker effects genotypes_encrypted\"][!,:Estimate]]"
      ]
    },
    {
      "cell_type": "markdown",
      "metadata": {
        "id": "BMQkTOkPSUHi"
      },
      "source": [
        "breeding values:"
      ]
    },
    {
      "cell_type": "code",
      "execution_count": null,
      "metadata": {
        "colab": {
          "base_uri": "https://localhost:8080/"
        },
        "id": "MMMCfmGRQqLd",
        "outputId": "aff2e019-964c-408f-d4ec-8abe7f58318a"
      },
      "outputs": [
        {
          "name": "stdout",
          "output_type": "stream",
          "text": [
            "The correlation is: 0.9997848958650805\n"
          ]
        },
        {
          "data": {
            "text/plain": [
              "100×2 Matrix{Float64}:\n",
              "  1.09503    1.05313\n",
              "  1.8361     1.8312\n",
              "  2.17764    2.18383\n",
              "  0.344712   0.328436\n",
              "  2.56646    2.55718\n",
              " -3.94382   -3.93782\n",
              "  0.923808   0.952068\n",
              " -1.54749   -1.46066\n",
              " -0.572625  -0.553677\n",
              " -0.720548  -0.746947\n",
              " -0.656238  -0.743436\n",
              " -2.43366   -2.45559\n",
              "  3.70776    3.71992\n",
              "  ⋮         \n",
              " -1.61005   -1.66458\n",
              " -2.15351   -2.17042\n",
              "  0.404903   0.371322\n",
              "  2.80143    2.75025\n",
              " -2.98915   -3.00271\n",
              " -2.29629   -2.26483\n",
              " -1.47055   -1.48419\n",
              " -0.586388  -0.632109\n",
              " -2.24757   -2.17141\n",
              "  1.27398    1.28088\n",
              " -1.34386   -1.37246\n",
              " -0.13118   -0.146663"
            ]
          },
          "execution_count": 31,
          "metadata": {},
          "output_type": "execute_result"
        }
      ],
      "source": [
        "EBV_unencrypted=P'*out_encrypted[\"EBV_y_encrypted\"][!,:EBV]\n",
        "println(\"The correlation is: \", cor(out[\"EBV_y\"][!,:EBV],EBV_unencrypted))\n",
        "\n",
        "[out[\"EBV_y\"][!,:EBV] EBV_unencrypted ]"
      ]
    },
    {
      "cell_type": "markdown",
      "metadata": {
        "id": "1jXdsRhl0DeQ"
      },
      "source": [
        "genetic variance:\n",
        "\n"
      ]
    },
    {
      "cell_type": "code",
      "execution_count": null,
      "metadata": {
        "colab": {
          "base_uri": "https://localhost:8080/"
        },
        "id": "6ec-EXrk0Gp6",
        "outputId": "c78a40f9-ba87-4257-b4b1-b648f2d1b6ab"
      },
      "outputs": [
        {
          "data": {
            "text/plain": [
              "1×2 Matrix{Float64}:\n",
              " 3.82667  3.7475"
            ]
          },
          "execution_count": 32,
          "metadata": {},
          "output_type": "execute_result"
        }
      ],
      "source": [
        "[out[\"genetic_variance\"][1,:Estimate] out_encrypted[\"genetic_variance\"][1,:Estimate]]"
      ]
    },
    {
      "cell_type": "markdown",
      "metadata": {
        "id": "gFs7WFnk0JLX"
      },
      "source": [
        "residual variance:"
      ]
    },
    {
      "cell_type": "code",
      "execution_count": null,
      "metadata": {
        "colab": {
          "base_uri": "https://localhost:8080/"
        },
        "id": "3GDLizEV0K80",
        "outputId": "e70058ee-4de3-4f3c-e2a3-ba855f955b00"
      },
      "outputs": [
        {
          "data": {
            "text/plain": [
              "1×2 Matrix{Float64}:\n",
              " 1.98222  1.9833"
            ]
          },
          "execution_count": 33,
          "metadata": {},
          "output_type": "execute_result"
        }
      ],
      "source": [
        "[out[\"residual variance\"][1,:Estimate] out_encrypted[\"residual variance\"][1,:Estimate]] #same"
      ]
    },
    {
      "cell_type": "markdown",
      "metadata": {
        "id": "9FAQMg3D0MUx"
      },
      "source": [
        "heritability:"
      ]
    },
    {
      "cell_type": "code",
      "execution_count": null,
      "metadata": {
        "colab": {
          "base_uri": "https://localhost:8080/"
        },
        "id": "orMv34b20N5m",
        "outputId": "386e874c-eff1-415a-dc9a-932a259f262e"
      },
      "outputs": [
        {
          "data": {
            "text/plain": [
              "1×2 Matrix{Float64}:\n",
              " 0.657371  0.65227"
            ]
          },
          "execution_count": 34,
          "metadata": {},
          "output_type": "execute_result"
        }
      ],
      "source": [
        "[out[\"heritability\"][1,:Estimate] out_encrypted[\"heritability\"][1,:Estimate]] #same"
      ]
    },
    {
      "cell_type": "markdown",
      "metadata": {
        "id": "uNQ_2XSS0QGN"
      },
      "source": [
        "# Joint analysis using encrypted data from multiple contributors"
      ]
    },
    {
      "cell_type": "markdown",
      "metadata": {
        "id": "ioE43jly0YzQ"
      },
      "source": [
        "Simulate data for contributor2. Number of individuals=200."
      ]
    },
    {
      "cell_type": "code",
      "execution_count": null,
      "metadata": {
        "id": "q4gPn1XQ0cN7"
      },
      "outputs": [],
      "source": [
        "n2, p2 = 200,10 #for larger p (e.g.,500), a longer chain is needed\n",
        "M2   = rand([0,1,2],n2,p2);\n",
        "g2   = M2*randn(p2)\n",
        "y2   = g2 + randn(n2)*sqrt(var(g2));\n",
        "M2=M2.-mean(M2,dims=1)\n",
        "y2=y2.-mean(y2);"
      ]
    },
    {
      "cell_type": "markdown",
      "metadata": {
        "id": "4LpPn7-m7nTA"
      },
      "source": [
        "data encryption for contributor2 using its own generated key:"
      ]
    },
    {
      "cell_type": "code",
      "execution_count": null,
      "metadata": {
        "id": "89ktnz0f7naq"
      },
      "outputs": [],
      "source": [
        "# generate P\n",
        "P2    = stiefel(n2,n2,rng=MersenneTwister(123))\n",
        "#data encryption\n",
        "y2_encrypted   = P2*y2;\n",
        "M2_encrypted   = P2*M2;"
      ]
    },
    {
      "cell_type": "markdown",
      "metadata": {
        "id": "wDr-dYcT76da"
      },
      "source": [
        "joint raw data:"
      ]
    },
    {
      "cell_type": "code",
      "execution_count": null,
      "metadata": {
        "colab": {
          "base_uri": "https://localhost:8080/"
        },
        "id": "j5ILjGfq74-3",
        "outputId": "cc64d9f2-358d-4f1c-d42c-0bd319344597"
      },
      "outputs": [
        {
          "name": "stdout",
          "output_type": "stream",
          "text": [
            "(size(M_all), size(y_all)) = ((300, 10), (300,))\n"
          ]
        }
      ],
      "source": [
        "M_all=[M\n",
        "       M2]\n",
        "y_all = [y\n",
        "         y2];\n",
        "\n",
        "@show size(M_all),size(y_all);"
      ]
    },
    {
      "cell_type": "markdown",
      "metadata": {
        "id": "b-hgM-GD8E5k"
      },
      "source": [
        "joint encrypted data:"
      ]
    },
    {
      "cell_type": "code",
      "execution_count": null,
      "metadata": {
        "colab": {
          "base_uri": "https://localhost:8080/"
        },
        "id": "WUCDyf4o8Eew",
        "outputId": "893942be-192c-400b-8ab9-5054af1eb1b9"
      },
      "outputs": [
        {
          "name": "stdout",
          "output_type": "stream",
          "text": [
            "(size(M_all_encrypted), size(y_all_encrypted)) = ((300, 10), (300,))\n"
          ]
        }
      ],
      "source": [
        "M_all_encrypted = [M_encrypted\n",
        "                   M2_encrypted]\n",
        "y_all_encrypted = [y_encrypted\n",
        "                   y2_encrypted];\n",
        "\n",
        "@show size(M_all_encrypted),size(y_all_encrypted);"
      ]
    },
    {
      "cell_type": "markdown",
      "metadata": {
        "id": "VK1quOZR8V3u"
      },
      "source": [
        "# Bayesian variable selection model (BayesC$\\pi$) using joint raw and encrypted data"
      ]
    },
    {
      "cell_type": "markdown",
      "metadata": {
        "id": "xPYYkfUl8aA0"
      },
      "source": [
        "raw data:"
      ]
    },
    {
      "cell_type": "code",
      "execution_count": null,
      "metadata": {
        "colab": {
          "base_uri": "https://localhost:8080/"
        },
        "id": "tdYufgP58O1R",
        "outputId": "d296e978-bf99-454a-f794-b453825799be"
      },
      "outputs": [
        {
          "name": "stdout",
          "output_type": "stream",
          "text": [
            "\u001b[0m\u001b[1mThe marker IDs are set to 1,2,...,#markers\u001b[22m\n",
            "\u001b[0m\u001b[1mThe individual IDs is set to 1,2,...,#observations\u001b[22m\n",
            "Genotype informatin:\n",
            "#markers: 10; #individuals: 300\n",
            "\u001b[31mThe folder results already exists.\u001b[39m\n",
            "\u001b[31mThe folder results1 already exists.\u001b[39m\n",
            "\u001b[32mThe folder results2 is created to save results.\u001b[39m\n",
            "\u001b[32mChecking genotypes...\u001b[39m\n",
            "\u001b[32mChecking phenotypes...\u001b[39m\n",
            "\u001b[32mIndividual IDs (strings) are provided in the first column of the phenotypic data.\u001b[39m\n",
            "\u001b[32mPredicted values for individuals of interest will be obtained as the summation of Any[] (Note that genomic data is always included for now).\u001b[39m\u001b[32mPhenotypes for 300 observations are used in the analysis.These individual IDs are saved in the file IDs_for_individuals_with_phenotypes.txt.\u001b[39m\n",
            "\n",
            "\u001b[0m\u001b[1mA Linear Mixed Model was build using model equations:\u001b[22m\n",
            "\n",
            "y = intercept + genotypes\n",
            "\n",
            "\u001b[0m\u001b[1mModel Information:\u001b[22m\n",
            "\n",
            "Term            C/F          F/R            nLevels\n",
            "intercept       factor       fixed                1\n",
            "\n",
            "\u001b[0m\u001b[1mMCMC Information:\u001b[22m\n",
            "\n",
            "chain_length                                  50000\n",
            "burnin                                            0\n",
            "starting_value                                 true\n",
            "printout_frequency                            50001\n",
            "output_samples_frequency                         50\n",
            "constraint                                    false\n",
            "missing_phenotypes                             true\n",
            "update_priors_frequency                           0\n",
            "seed                                          false\n",
            "\n",
            "\u001b[0m\u001b[1mHyper-parameters Information:\u001b[22m\n",
            "\n",
            "residual variances:                           1.000\n",
            "\n",
            "\u001b[0m\u001b[1mGenomic Information:\u001b[22m\n",
            "\n",
            "complete genomic data (i.e., non-single-step analysis)\n",
            "\n",
            "Genomic Category                          genotypes\n",
            "Method                                       BayesC\n",
            "marker effect variances:                      1.000\n",
            "π                                               0.0\n",
            "estimatePi                                     true\n",
            "estimateScale                                 false\n",
            "\n",
            "\u001b[0m\u001b[1mDegree of freedom for hyper-parameters:\u001b[22m\n",
            "\n",
            "residual variances:                           4.000\n",
            "marker effect variances:                      4.000\n",
            "\n",
            "\n",
            "\n",
            "\u001b[32mThe file results2/MCMC_samples_residual_variance.txt is created to save MCMC samples for residual_variance.\u001b[39m\n",
            "\u001b[32mThe file results2/MCMC_samples_marker_effects_genotypes_y.txt is created to save MCMC samples for marker_effects_genotypes_y.\u001b[39m\n",
            "\u001b[32mThe file results2/MCMC_samples_marker_effects_variances_genotypes.txt is created to save MCMC samples for marker_effects_variances_genotypes.\u001b[39m\n",
            "\u001b[32mThe file results2/MCMC_samples_pi_genotypes.txt is created to save MCMC samples for pi_genotypes.\u001b[39m\n",
            "\u001b[32mThe file results2/MCMC_samples_EBV_y.txt is created to save MCMC samples for EBV_y.\u001b[39m\n",
            "\u001b[32mThe file results2/MCMC_samples_genetic_variance.txt is created to save MCMC samples for genetic_variance.\u001b[39m\n",
            "\u001b[32mThe file results2/MCMC_samples_heritability.txt is created to save MCMC samples for heritability.\u001b[39m\n"
          ]
        },
        {
          "name": "stderr",
          "output_type": "stream",
          "text": [
            "\u001b[32mrunning MCMC ... 100%|███████████████████████████████████| Time: 0:00:01\u001b[39m\n"
          ]
        },
        {
          "name": "stdout",
          "output_type": "stream",
          "text": [
            "\n",
            "\n",
            "\u001b[0m\u001b[1mThe version of Julia and Platform in use:\u001b[22m\n",
            "\n",
            "Julia Version 1.8.5\n",
            "Commit 17cfb8e65ea (2023-01-08 06:45 UTC)\n",
            "Platform Info:\n",
            "  OS: Linux (x86_64-linux-gnu)\n",
            "  CPU: 2 × Intel(R) Xeon(R) CPU @ 2.30GHz\n",
            "  WORD_SIZE: 64\n",
            "  LIBM: libopenlibm\n",
            "  LLVM: libLLVM-13.0.1 (ORCJIT, haswell)\n",
            "  Threads: 4 on 2 virtual cores\n",
            "Environment:\n",
            "  LD_LIBRARY_PATH = /usr/lib64-nvidia\n",
            "  JULIA_NUM_THREADS = 4\n",
            "\n",
            "\n",
            "\u001b[0m\u001b[1mThe analysis has finished. Results are saved in the returned \u001b[22m\u001b[0m\u001b[1mvariable and text files. MCMC samples are saved in text files.\u001b[22m\n",
            "\n",
            "\n"
          ]
        }
      ],
      "source": [
        "genotypes       = get_genotypes(M_all,G,G_is_marker_variance = true,center=false,method=\"BayesC\",quality_control=false)\n",
        "model_equation  = \"y = intercept + genotypes\";\n",
        "model           = build_model(model_equation,R);\n",
        "pheno           = DataFrame(ID=1:(n+n2), y=y_all)\n",
        "out             = runMCMC(model,pheno,chain_length=50_000,double_precision=true);"
      ]
    },
    {
      "cell_type": "markdown",
      "metadata": {
        "id": "aKpXZx9E8ivt"
      },
      "source": [
        "encrypted data:"
      ]
    },
    {
      "cell_type": "code",
      "execution_count": null,
      "metadata": {
        "colab": {
          "base_uri": "https://localhost:8080/"
        },
        "id": "daSV__S78j5J",
        "outputId": "d74404d0-080d-45eb-b625-9c7782bbf1c7"
      },
      "outputs": [
        {
          "name": "stdout",
          "output_type": "stream",
          "text": [
            "\u001b[0m\u001b[1mThe marker IDs are set to 1,2,...,#markers\u001b[22m\n",
            "\u001b[0m\u001b[1mThe individual IDs is set to 1,2,...,#observations\u001b[22m\n",
            "Genotype informatin:\n",
            "#markers: 10; #individuals: 300\n",
            "\u001b[31mThe folder results already exists.\u001b[39m\n",
            "\u001b[31mThe folder results1 already exists.\u001b[39m\n",
            "\u001b[31mThe folder results2 already exists.\u001b[39m\n",
            "\u001b[32mThe folder results3 is created to save results.\u001b[39m\n",
            "\u001b[32mChecking genotypes...\u001b[39m\n",
            "\u001b[32mChecking phenotypes...\u001b[39m\n",
            "\u001b[32mIndividual IDs (strings) are provided in the first column of the phenotypic data.\u001b[39m\n",
            "\u001b[32mPredicted values for individuals of interest will be obtained as the summation of Any[] (Note that genomic data is always included for now).\u001b[39m\u001b[32mPhenotypes for 300 observations are used in the analysis.These individual IDs are saved in the file IDs_for_individuals_with_phenotypes.txt.\u001b[39m\n",
            "\n",
            "\u001b[0m\u001b[1mA Linear Mixed Model was build using model equations:\u001b[22m\n",
            "\n",
            "y_encrypted = intercept + genotypes_encrypted\n",
            "\n",
            "\u001b[0m\u001b[1mModel Information:\u001b[22m\n",
            "\n",
            "Term            C/F          F/R            nLevels\n",
            "intercept       factor       fixed                1\n",
            "\n",
            "\u001b[0m\u001b[1mMCMC Information:\u001b[22m\n",
            "\n",
            "chain_length                                  50000\n",
            "burnin                                            0\n",
            "starting_value                                 true\n",
            "printout_frequency                            50001\n",
            "output_samples_frequency                         50\n",
            "constraint                                    false\n",
            "missing_phenotypes                             true\n",
            "update_priors_frequency                           0\n",
            "seed                                          false\n",
            "\n",
            "\u001b[0m\u001b[1mHyper-parameters Information:\u001b[22m\n",
            "\n",
            "residual variances:                           1.000\n",
            "\n",
            "\u001b[0m\u001b[1mGenomic Information:\u001b[22m\n",
            "\n",
            "complete genomic data (i.e., non-single-step analysis)\n",
            "\n",
            "Genomic Category                genotypes_encrypted\n",
            "Method                                       BayesC\n",
            "marker effect variances:                      1.000\n",
            "π                                               0.0\n",
            "estimatePi                                     true\n",
            "estimateScale                                 false\n",
            "\n",
            "\u001b[0m\u001b[1mDegree of freedom for hyper-parameters:\u001b[22m\n",
            "\n",
            "residual variances:                           4.000\n",
            "marker effect variances:                      4.000\n",
            "\n",
            "\n",
            "\n",
            "\u001b[32mThe file results3/MCMC_samples_residual_variance.txt is created to save MCMC samples for residual_variance.\u001b[39m\n",
            "\u001b[32mThe file results3/MCMC_samples_marker_effects_genotypes_encrypted_y_encrypted.txt is created to save MCMC samples for marker_effects_genotypes_encrypted_y_encrypted.\u001b[39m\n",
            "\u001b[32mThe file results3/MCMC_samples_marker_effects_variances_genotypes_encrypted.txt is created to save MCMC samples for marker_effects_variances_genotypes_encrypted.\u001b[39m\n",
            "\u001b[32mThe file results3/MCMC_samples_pi_genotypes_encrypted.txt is created to save MCMC samples for pi_genotypes_encrypted.\u001b[39m\n",
            "\u001b[32mThe file results3/MCMC_samples_EBV_y_encrypted.txt is created to save MCMC samples for EBV_y_encrypted.\u001b[39m\n",
            "\u001b[32mThe file results3/MCMC_samples_genetic_variance.txt is created to save MCMC samples for genetic_variance.\u001b[39m\n",
            "\u001b[32mThe file results3/MCMC_samples_heritability.txt is created to save MCMC samples for heritability.\u001b[39m\n"
          ]
        },
        {
          "name": "stderr",
          "output_type": "stream",
          "text": [
            "\u001b[32mrunning MCMC ... 100%|███████████████████████████████████| Time: 0:00:01\u001b[39m\n"
          ]
        },
        {
          "name": "stdout",
          "output_type": "stream",
          "text": [
            "\n",
            "\n",
            "\u001b[0m\u001b[1mThe version of Julia and Platform in use:\u001b[22m\n",
            "\n",
            "Julia Version 1.8.5\n",
            "Commit 17cfb8e65ea (2023-01-08 06:45 UTC)\n",
            "Platform Info:\n",
            "  OS: Linux (x86_64-linux-gnu)\n",
            "  CPU: 2 × Intel(R) Xeon(R) CPU @ 2.30GHz\n",
            "  WORD_SIZE: 64\n",
            "  LIBM: libopenlibm\n",
            "  LLVM: libLLVM-13.0.1 (ORCJIT, haswell)\n",
            "  Threads: 4 on 2 virtual cores\n",
            "Environment:\n",
            "  LD_LIBRARY_PATH = /usr/lib64-nvidia\n",
            "  JULIA_NUM_THREADS = 4\n",
            "\n",
            "\n",
            "\u001b[0m\u001b[1mThe analysis has finished. Results are saved in the returned \u001b[22m\u001b[0m\u001b[1mvariable and text files. MCMC samples are saved in text files.\u001b[22m\n",
            "\n",
            "\n"
          ]
        }
      ],
      "source": [
        "genotypes_encrypted       = get_genotypes(M_all_encrypted,G,G_is_marker_variance = true,center=false,method=\"BayesC\",quality_control=false)\n",
        "model_equation_encrypted  =\"y_encrypted = intercept + genotypes_encrypted\";\n",
        "model_encrypted           = build_model(model_equation_encrypted,R);\n",
        "pheno_encrypted           = DataFrame(ID=1:(n+n2),y_encrypted=y_all_encrypted)\n",
        "out_encrypted             = runMCMC(model_encrypted,pheno_encrypted,chain_length=50_000,double_precision=true);"
      ]
    },
    {
      "cell_type": "markdown",
      "metadata": {
        "id": "zWqzrSeP8pbF"
      },
      "source": [
        "marker effects:"
      ]
    },
    {
      "cell_type": "code",
      "execution_count": null,
      "metadata": {
        "colab": {
          "base_uri": "https://localhost:8080/"
        },
        "id": "cJxld-Td8o8T",
        "outputId": "1e3419bc-9171-4888-c79c-60584c3b2156"
      },
      "outputs": [
        {
          "name": "stdout",
          "output_type": "stream",
          "text": [
            "The correlation is: 0.9999313581865804\n"
          ]
        },
        {
          "data": {
            "text/plain": [
              "10×2 Matrix{Float64}:\n",
              "  0.389828     0.406236\n",
              " -0.0454642   -0.0440686\n",
              "  0.00629754  -0.0116026\n",
              "  1.58312      1.59023\n",
              " -0.894963    -0.898297\n",
              " -0.852499    -0.873619\n",
              " -0.310281    -0.313352\n",
              " -0.71418     -0.713442\n",
              " -1.0042      -1.00792\n",
              " -0.814324    -0.819186"
            ]
          },
          "execution_count": 42,
          "metadata": {},
          "output_type": "execute_result"
        }
      ],
      "source": [
        "println(\"The correlation is: \", cor(out[\"marker effects genotypes\"][!,:Estimate],out_encrypted[\"marker effects genotypes_encrypted\"][!,:Estimate]))\n",
        "\n",
        "[out[\"marker effects genotypes\"][!,:Estimate] out_encrypted[\"marker effects genotypes_encrypted\"][!,:Estimate]]"
      ]
    },
    {
      "cell_type": "markdown",
      "metadata": {
        "id": "GWrFSF3Y8twn"
      },
      "source": [
        "estimated breeding values:"
      ]
    },
    {
      "cell_type": "code",
      "execution_count": null,
      "metadata": {
        "colab": {
          "base_uri": "https://localhost:8080/"
        },
        "id": "z4KuCe968tO7",
        "outputId": "f2c4ccf7-f81d-4ad4-ea90-a0c92019758b"
      },
      "outputs": [
        {
          "name": "stdout",
          "output_type": "stream",
          "text": [
            "The correlation is: 0.999935617664424\n"
          ]
        },
        {
          "data": {
            "text/plain": [
              "300×2 Matrix{Float64}:\n",
              " -0.16309    -0.183917\n",
              "  0.0240965   0.00961323\n",
              "  0.142284    0.1275\n",
              " -0.793845   -0.820669\n",
              "  2.90226     2.89855\n",
              " -2.48903    -2.49766\n",
              "  1.01679     1.02696\n",
              " -1.84354    -1.83009\n",
              " -1.61079    -1.61308\n",
              "  1.57299     1.55119\n",
              "  2.92297     2.9329\n",
              "  3.41628     3.44613\n",
              "  3.62974     3.63522\n",
              "  ⋮          \n",
              " -0.907107   -0.907912\n",
              "  1.38673     1.40444\n",
              "  0.314949    0.266132\n",
              "  0.959666    1.00239\n",
              "  3.96908     4.01261\n",
              "  2.35193     2.38322\n",
              " -0.546432   -0.532653\n",
              " -1.15608    -1.1907\n",
              "  3.61686     3.65481\n",
              " -2.21522    -2.25614\n",
              " -3.93044    -4.00279\n",
              "  0.687832    0.719896"
            ]
          },
          "execution_count": 43,
          "metadata": {},
          "output_type": "execute_result"
        }
      ],
      "source": [
        "P_all=[P           zeros(n,n2)\n",
        "       zeros(n2,n) P2]\n",
        "EBV_unencrypted=P_all'*out_encrypted[\"EBV_y_encrypted\"][!,:EBV]\n",
        "println(\"The correlation is: \", cor(out[\"EBV_y\"][!,:EBV],EBV_unencrypted))\n",
        "\n",
        "[out[\"EBV_y\"][!,:EBV] EBV_unencrypted ]"
      ]
    },
    {
      "cell_type": "markdown",
      "metadata": {
        "id": "me64rtxs8zTQ"
      },
      "source": [
        "genetic variance:"
      ]
    },
    {
      "cell_type": "code",
      "execution_count": null,
      "metadata": {
        "colab": {
          "base_uri": "https://localhost:8080/"
        },
        "id": "Y0Go-8NU81na",
        "outputId": "5f0e13ea-7ffa-4199-fcf1-6694bcf689ac"
      },
      "outputs": [
        {
          "data": {
            "text/plain": [
              "1×2 Matrix{Float64}:\n",
              " 4.54082  4.60765"
            ]
          },
          "execution_count": 44,
          "metadata": {},
          "output_type": "execute_result"
        }
      ],
      "source": [
        "[out[\"genetic_variance\"][1,:Estimate] out_encrypted[\"genetic_variance\"][1,:Estimate]]"
      ]
    },
    {
      "cell_type": "markdown",
      "metadata": {
        "id": "pvUNuTKx84Gz"
      },
      "source": [
        "residual variance:"
      ]
    },
    {
      "cell_type": "code",
      "execution_count": null,
      "metadata": {
        "colab": {
          "base_uri": "https://localhost:8080/"
        },
        "id": "6E0WtL7j83mt",
        "outputId": "dcf646b9-b609-4ef4-d6e2-264002f6d1e9"
      },
      "outputs": [
        {
          "data": {
            "text/plain": [
              "1×2 Matrix{Float64}:\n",
              " 10.3848  10.3143"
            ]
          },
          "execution_count": 45,
          "metadata": {},
          "output_type": "execute_result"
        }
      ],
      "source": [
        "[out[\"residual variance\"][1,:Estimate] out_encrypted[\"residual variance\"][1,:Estimate]] #same"
      ]
    },
    {
      "cell_type": "markdown",
      "metadata": {
        "id": "CwfhTfYF87GL"
      },
      "source": [
        "heritability:"
      ]
    },
    {
      "cell_type": "code",
      "execution_count": null,
      "metadata": {
        "colab": {
          "base_uri": "https://localhost:8080/"
        },
        "id": "MpDAPbFa88r9",
        "outputId": "c2996185-ef59-4e54-a249-728840ec74f0"
      },
      "outputs": [
        {
          "data": {
            "text/plain": [
              "1×2 Matrix{Float64}:\n",
              " 0.303191  0.307796"
            ]
          },
          "execution_count": 46,
          "metadata": {},
          "output_type": "execute_result"
        }
      ],
      "source": [
        "[out[\"heritability\"][1,:Estimate] out_encrypted[\"heritability\"][1,:Estimate]] #same"
      ]
    }
  ],
  "metadata": {
    "accelerator": "GPU",
    "colab": {
      "provenance": [],
      "include_colab_link": true
    },
    "kernelspec": {
      "display_name": "Julia",
      "language": "julia",
      "name": "julia"
    },
    "language_info": {
      "file_extension": ".jl",
      "mimetype": "application/julia",
      "name": "julia"
    }
  },
  "nbformat": 4,
  "nbformat_minor": 0
}