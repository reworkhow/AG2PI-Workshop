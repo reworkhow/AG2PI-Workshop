{
 "cells": [
  {
   "cell_type": "code",
   "execution_count": 1,
   "metadata": {
    "colab": {
     "base_uri": "https://localhost:8080/"
    },
    "id": "EEzvvzCl1i0F",
    "outputId": "7857d898-1982-42db-ab16-8105015ac213"
   },
   "outputs": [
    {
     "name": "stdout",
     "output_type": "stream",
     "text": [
      "Julia Version 1.7.1\n",
      "Commit ac5cc99908 (2021-12-22 19:35 UTC)\n",
      "Platform Info:\n",
      "  OS: macOS (arm64-apple-darwin21.2.0)\n",
      "  CPU: Apple M1\n",
      "  WORD_SIZE: 64\n",
      "  LIBM: libopenlibm\n",
      "  LLVM: libLLVM-12.0.1 (ORCJIT, cyclone)\n"
     ]
    }
   ],
   "source": [
    "versioninfo()"
   ]
  },
  {
   "cell_type": "code",
   "execution_count": 2,
   "metadata": {
    "id": "zk6HC4EuokOz"
   },
   "outputs": [],
   "source": [
    "using CSV, DataFrames, Random, Statistics, Distributions, LinearAlgebra, JWAS"
   ]
  },
  {
   "cell_type": "markdown",
   "metadata": {
    "id": "jL-l5cOSpq1b"
   },
   "source": [
    "# Homomorphic encryption using random orthogonal matrix"
   ]
  },
  {
   "cell_type": "code",
   "execution_count": null,
   "metadata": {},
   "outputs": [],
   "source": []
  },
  {
   "cell_type": "markdown",
   "metadata": {
    "id": "z-YKHzP3qv7H"
   },
   "source": [
    "1. Simulate raw genotypes (M) and phenotypes (y) data for a sample of 100 individuals, each with 10 SNPs."
   ]
  },
  {
   "cell_type": "code",
   "execution_count": 3,
   "metadata": {
    "id": "gOgxopfVpp60"
   },
   "outputs": [],
   "source": [
    "Random.seed!(123)\n",
    "n, p = 100,10\n",
    "M  = rand([0.0,1,2],n,p)\n",
    "g  = M*randn(p)\n",
    "y  = g + randn(n)*sqrt(var(g))\n",
    "M = M.-mean(M,dims=1)\n",
    "y = y.-mean(y);"
   ]
  },
  {
   "cell_type": "markdown",
   "metadata": {
    "id": "xl445ENgq2Kw"
   },
   "source": [
    "generate random orthogonal matrix:"
   ]
  },
  {
   "cell_type": "code",
   "execution_count": 4,
   "metadata": {
    "colab": {
     "base_uri": "https://localhost:8080/"
    },
    "id": "7s2gMuhgqB0E",
    "outputId": "b4f649b9-8d01-484f-cee0-db8d4be43148"
   },
   "outputs": [
    {
     "data": {
      "text/plain": [
       "5×5 Matrix{Float64}:\n",
       "  0.0545174  -0.0434924  -0.0755381     0.022179    -0.0868766\n",
       " -0.219804    0.120624   -0.0956059     0.100837    -0.130328\n",
       "  0.181158    0.126938    0.000617421   0.00680411  -0.119745\n",
       " -0.123869    0.0369384  -0.0976296    -0.121432     0.00928307\n",
       "  0.0763924  -0.0964402   0.0865538    -0.0205998   -0.172082"
      ]
     },
     "execution_count": 4,
     "metadata": {},
     "output_type": "execute_result"
    }
   ],
   "source": [
    "function stiefel(n,p;rng)\n",
    "   A  = randn(rng,n,p)\n",
    "   AA = A'*A\n",
    "   return A*AA^(-0.5)\n",
    "end\n",
    "P = stiefel(n,n,rng=MersenneTwister(3))\n",
    "\n",
    "P[1:5,1:5]"
   ]
  },
  {
   "cell_type": "code",
   "execution_count": 5,
   "metadata": {
    "colab": {
     "base_uri": "https://localhost:8080/"
    },
    "id": "SBshQDcmzevz",
    "outputId": "4bee25ee-c600-4c30-c19a-c058d62deebb"
   },
   "outputs": [
    {
     "data": {
      "text/plain": [
       "5×5 Matrix{Float64}:\n",
       "  1.0  -0.0  -0.0  -0.0  -0.0\n",
       " -0.0   1.0   0.0   0.0   0.0\n",
       " -0.0   0.0   1.0   0.0   0.0\n",
       " -0.0   0.0   0.0   1.0   0.0\n",
       " -0.0   0.0   0.0   0.0   1.0"
      ]
     },
     "execution_count": 5,
     "metadata": {},
     "output_type": "execute_result"
    }
   ],
   "source": [
    "round.(P'P,digits=3)[1:5,1:5]"
   ]
  },
  {
   "cell_type": "markdown",
   "metadata": {
    "id": "7_Ea4H0prg7Y"
   },
   "source": [
    "encrypt genotype and phenotype data:"
   ]
  },
  {
   "cell_type": "code",
   "execution_count": 6,
   "metadata": {
    "colab": {
     "base_uri": "https://localhost:8080/"
    },
    "id": "89HOPcdS6QES",
    "outputId": "1b52081d-d9cb-4437-fc1a-bc8e1753a544"
   },
   "outputs": [
    {
     "data": {
      "text/plain": [
       "3×3 Matrix{Float64}:\n",
       " -0.01   0.05  0.95\n",
       " -0.01  -0.95  0.95\n",
       "  0.99   0.05  0.95"
      ]
     },
     "execution_count": 6,
     "metadata": {},
     "output_type": "execute_result"
    }
   ],
   "source": [
    "M[1:3,1:3]"
   ]
  },
  {
   "cell_type": "code",
   "execution_count": 7,
   "metadata": {
    "colab": {
     "base_uri": "https://localhost:8080/"
    },
    "id": "TCRBf-RGrgTB",
    "outputId": "374ae259-f6f7-45d5-9c3e-93170bfa1917"
   },
   "outputs": [
    {
     "data": {
      "text/plain": [
       "3×3 Matrix{Float64}:\n",
       "  0.22479    -1.0301    -0.477804\n",
       "  0.0317817   0.986898   0.720304\n",
       " -1.00543    -0.554276   1.33093"
      ]
     },
     "execution_count": 7,
     "metadata": {},
     "output_type": "execute_result"
    }
   ],
   "source": [
    "#encrypt genotypes P*X\n",
    "M_encrypted = P*M\n",
    "M_encrypted[1:3,1:3]"
   ]
  },
  {
   "cell_type": "code",
   "execution_count": 8,
   "metadata": {
    "colab": {
     "base_uri": "https://localhost:8080/"
    },
    "id": "c_NTeTt76cXy",
    "outputId": "d8cac2ca-dfe7-446d-b243-02f6d25d70b3"
   },
   "outputs": [
    {
     "data": {
      "text/plain": [
       "3-element Vector{Float64}:\n",
       " 1.458375839984994\n",
       " 2.068591943288186\n",
       " 3.6662720880277546"
      ]
     },
     "execution_count": 8,
     "metadata": {},
     "output_type": "execute_result"
    }
   ],
   "source": [
    "y[1:3]"
   ]
  },
  {
   "cell_type": "code",
   "execution_count": 9,
   "metadata": {
    "colab": {
     "base_uri": "https://localhost:8080/"
    },
    "id": "ORB2NgyeqvMy",
    "outputId": "7da57c99-da7a-4d91-90ec-a6311caee758"
   },
   "outputs": [
    {
     "data": {
      "text/plain": [
       "3-element Vector{Float64}:\n",
       "  3.4279651874848494\n",
       " -0.3124339258800296\n",
       "  5.241554432345747"
      ]
     },
     "execution_count": 9,
     "metadata": {},
     "output_type": "execute_result"
    }
   ],
   "source": [
    "#encrypt phenotypes P*y\n",
    "y_encrypted = P*y\n",
    "y_encrypted[1:3]"
   ]
  },
  {
   "cell_type": "markdown",
   "metadata": {
    "id": "LhnJ4d65sOor"
   },
   "source": [
    "## Preserved relationships between SNPs"
   ]
  },
  {
   "cell_type": "code",
   "execution_count": 10,
   "metadata": {
    "colab": {
     "base_uri": "https://localhost:8080/"
    },
    "id": "SOtkhv_xuJ0e",
    "outputId": "9385396c-5a14-489f-f377-51377083e814"
   },
   "outputs": [
    {
     "data": {
      "text/plain": [
       "5×5 Matrix{Float64}:\n",
       "  68.99   -3.95   3.95  -11.11  -2.15\n",
       "  -3.95   66.75   3.25  -14.45  -5.25\n",
       "   3.95    3.25  76.75   -7.55   9.25\n",
       " -11.11  -14.45  -7.55   65.79  -0.65\n",
       "  -2.15   -5.25   9.25   -0.65  54.75"
      ]
     },
     "execution_count": 10,
     "metadata": {},
     "output_type": "execute_result"
    }
   ],
   "source": [
    "(M'M)[1:5,1:5]"
   ]
  },
  {
   "cell_type": "code",
   "execution_count": 11,
   "metadata": {
    "colab": {
     "base_uri": "https://localhost:8080/"
    },
    "id": "hQNNgbkFuNXQ",
    "outputId": "f7c039b2-ae51-4d10-a7e7-c52f56c614a3"
   },
   "outputs": [
    {
     "data": {
      "text/plain": [
       "5×5 Matrix{Float64}:\n",
       "  68.99   -3.95   3.95  -11.11  -2.15\n",
       "  -3.95   66.75   3.25  -14.45  -5.25\n",
       "   3.95    3.25  76.75   -7.55   9.25\n",
       " -11.11  -14.45  -7.55   65.79  -0.65\n",
       "  -2.15   -5.25   9.25   -0.65  54.75"
      ]
     },
     "execution_count": 11,
     "metadata": {},
     "output_type": "execute_result"
    }
   ],
   "source": [
    "(M_encrypted'M_encrypted)[1:5,1:5]"
   ]
  },
  {
   "cell_type": "markdown",
   "metadata": {
    "id": "NDw0WAOFuZfZ"
   },
   "source": [
    "## Scrambled relationships between individuals"
   ]
  },
  {
   "cell_type": "code",
   "execution_count": 12,
   "metadata": {
    "colab": {
     "base_uri": "https://localhost:8080/"
    },
    "id": "f3QvEgrruPug",
    "outputId": "b4fb2809-185a-4d58-c278-e1e9eedba21b"
   },
   "outputs": [
    {
     "data": {
      "text/plain": [
       "5×5 Matrix{Float64}:\n",
       "  6.7559  -3.1641   0.1359  -3.0141   0.3059\n",
       " -3.1641   4.9159   1.2159   2.0659   1.3859\n",
       "  0.1359   1.2159   4.5159  -0.6341   1.6859\n",
       " -3.0141   2.0659  -0.6341   8.2159  -0.4641\n",
       "  0.3059   1.3859   1.6859  -0.4641   2.8559"
      ]
     },
     "execution_count": 12,
     "metadata": {},
     "output_type": "execute_result"
    }
   ],
   "source": [
    "(M*M')[1:5,1:5]"
   ]
  },
  {
   "cell_type": "code",
   "execution_count": 13,
   "metadata": {
    "colab": {
     "base_uri": "https://localhost:8080/"
    },
    "id": "j8o7zsKEugyU",
    "outputId": "9462c1cc-bf7a-4359-f382-985e1b47dbb2"
   },
   "outputs": [
    {
     "data": {
      "text/plain": [
       "5×5 Matrix{Float64}:\n",
       "  5.49998   -0.188062   0.674004   0.414616   0.469399\n",
       " -0.188062   5.7496    -1.18879   -1.15605   -1.62761\n",
       "  0.674004  -1.18879    9.05803   -1.55662    0.489959\n",
       "  0.414616  -1.15605   -1.55662    6.721     -2.54658\n",
       "  0.469399  -1.62761    0.489959  -2.54658   10.9648"
      ]
     },
     "execution_count": 13,
     "metadata": {},
     "output_type": "execute_result"
    }
   ],
   "source": [
    "(M_encrypted*M_encrypted')[1:5,1:5]"
   ]
  },
  {
   "cell_type": "markdown",
   "metadata": {
    "id": "Yc-t_Md0sQas"
   },
   "source": [
    "# Bayesian variable selection model (BayesC$\\pi$) using raw and encrypted data"
   ]
  },
  {
   "cell_type": "code",
   "execution_count": 15,
   "metadata": {
    "colab": {
     "base_uri": "https://localhost:8080/"
    },
    "id": "b4-0_XPpPrs4",
    "outputId": "1a674bbc-14b5-4d7a-c582-ea03062c0245"
   },
   "outputs": [
    {
     "data": {
      "text/plain": [
       "1.0"
      ]
     },
     "execution_count": 15,
     "metadata": {},
     "output_type": "execute_result"
    }
   ],
   "source": [
    "Random.seed!(1)\n",
    "G = R = 1.0"
   ]
  },
  {
   "cell_type": "markdown",
   "metadata": {
    "id": "3DpFgE05z1Ib"
   },
   "source": [
    "Raw data:"
   ]
  },
  {
   "cell_type": "code",
   "execution_count": 16,
   "metadata": {
    "colab": {
     "base_uri": "https://localhost:8080/"
    },
    "id": "lrrqBMqfP8Sl",
    "outputId": "caf3d93a-3cad-41df-f7c9-775bf72ce043"
   },
   "outputs": [
    {
     "name": "stderr",
     "output_type": "stream",
     "text": [
      "\u001b[32mrunning MCMC ... 100%|███████████████████████████████████| Time: 0:00:01\u001b[39m\n"
     ]
    },
    {
     "name": "stdout",
     "output_type": "stream",
     "text": [
      "\u001b[0m\u001b[1mThe marker IDs are set to 1,2,...,#markers\u001b[22m\n",
      "\u001b[0m\u001b[1mThe individual IDs is set to 1,2,...,#observations\u001b[22m\n",
      "Genotype informatin:\n",
      "#markers: 10; #individuals: 100\n",
      "\u001b[32mThe folder results is created to save results.\u001b[39m\n",
      "\u001b[32mChecking genotypes...\u001b[39m\n",
      "\u001b[32mChecking phenotypes...\u001b[39m\n",
      "\u001b[32mIndividual IDs (strings) are provided in the first column of the phenotypic data.\u001b[39m\n",
      "\u001b[32mPredicted values for individuals of interest will be obtained as the summation of Any[] (Note that genomic data is always included for now).\u001b[39m\u001b[32mPhenotypes for 100 observations are used in the analysis.These individual IDs are saved in the file IDs_for_individuals_with_phenotypes.txt.\u001b[39m\n",
      "\n",
      "\u001b[0m\u001b[1mA Linear Mixed Model was build using model equations:\u001b[22m\n",
      "\n",
      "y = intercept + genotypes\n",
      "\n",
      "\u001b[0m\u001b[1mModel Information:\u001b[22m\n",
      "\n",
      "Term            C/F          F/R            nLevels\n",
      "intercept       factor       fixed                1\n",
      "\n",
      "\u001b[0m\u001b[1mMCMC Information:\u001b[22m\n",
      "\n",
      "chain_length                                  50000\n",
      "burnin                                            0\n",
      "starting_value                                 true\n",
      "printout_frequency                            50001\n",
      "output_samples_frequency                         50\n",
      "constraint                                    false\n",
      "missing_phenotypes                             true\n",
      "update_priors_frequency                           0\n",
      "seed                                          false\n",
      "\n",
      "\u001b[0m\u001b[1mHyper-parameters Information:\u001b[22m\n",
      "\n",
      "residual variances:                           1.000\n",
      "\n",
      "\u001b[0m\u001b[1mGenomic Information:\u001b[22m\n",
      "\n",
      "complete genomic data (i.e., non-single-step analysis)\n",
      "\n",
      "Genomic Category                          genotypes\n",
      "Method                                       BayesC\n",
      "marker effect variances:                      1.000\n",
      "π                                               0.0\n",
      "estimatePi                                     true\n",
      "estimateScale                                 false\n",
      "\n",
      "\u001b[0m\u001b[1mDegree of freedom for hyper-parameters:\u001b[22m\n",
      "\n",
      "residual variances:                           4.000\n",
      "marker effect variances:                      4.000\n",
      "\n",
      "\n",
      "\n",
      "\u001b[32mThe file results/MCMC_samples_residual_variance.txt is created to save MCMC samples for residual_variance.\u001b[39m\n",
      "\u001b[32mThe file results/MCMC_samples_marker_effects_genotypes_y.txt is created to save MCMC samples for marker_effects_genotypes_y.\u001b[39m\n",
      "\u001b[32mThe file results/MCMC_samples_marker_effects_variances_genotypes.txt is created to save MCMC samples for marker_effects_variances_genotypes.\u001b[39m\n",
      "\u001b[32mThe file results/MCMC_samples_pi_genotypes.txt is created to save MCMC samples for pi_genotypes.\u001b[39m\n",
      "\u001b[32mThe file results/MCMC_samples_EBV_y.txt is created to save MCMC samples for EBV_y.\u001b[39m\n",
      "\u001b[32mThe file results/MCMC_samples_genetic_variance.txt is created to save MCMC samples for genetic_variance.\u001b[39m\n",
      "\u001b[32mThe file results/MCMC_samples_heritability.txt is created to save MCMC samples for heritability.\u001b[39m\n",
      "\n",
      "\n",
      "\u001b[0m\u001b[1mThe version of Julia and Platform in use:\u001b[22m\n",
      "\n",
      "Julia Version 1.7.1\n",
      "Commit ac5cc99908 (2021-12-22 19:35 UTC)\n",
      "Platform Info:\n",
      "  OS: macOS (arm64-apple-darwin21.2.0)\n",
      "  CPU: Apple M1\n",
      "  WORD_SIZE: 64\n",
      "  LIBM: libopenlibm\n",
      "  LLVM: libLLVM-12.0.1 (ORCJIT, cyclone)\n",
      "\n",
      "\n",
      "\u001b[0m\u001b[1mThe analysis has finished. Results are saved in the returned \u001b[22m\u001b[0m\u001b[1mvariable and text files. MCMC samples are saved in text files.\u001b[22m\n",
      "\n",
      "\n"
     ]
    }
   ],
   "source": [
    "genotypes       = get_genotypes(M,G,G_is_marker_variance = true,center=false,method=\"BayesC\",quality_control=false)\n",
    "model_equation  = \"y = intercept + genotypes\";\n",
    "model           = build_model(model_equation,R);\n",
    "pheno           = DataFrame(ID=1:n,y=y);\n",
    "out             = runMCMC(model,pheno,chain_length=50_000,double_precision=true);"
   ]
  },
  {
   "cell_type": "markdown",
   "metadata": {
    "id": "Zydb-29Xz5es"
   },
   "source": [
    "Encrypted data:"
   ]
  },
  {
   "cell_type": "code",
   "execution_count": 17,
   "metadata": {
    "colab": {
     "base_uri": "https://localhost:8080/"
    },
    "id": "5PVwZZwlvVah",
    "outputId": "d912dee4-c068-4c6a-ea8c-4983eadb5d6e"
   },
   "outputs": [
    {
     "name": "stderr",
     "output_type": "stream",
     "text": [
      "\u001b[32mrunning MCMC ... 100%|███████████████████████████████████| Time: 0:00:00\u001b[39m\n"
     ]
    },
    {
     "name": "stdout",
     "output_type": "stream",
     "text": [
      "\u001b[0m\u001b[1mThe marker IDs are set to 1,2,...,#markers\u001b[22m\n",
      "\u001b[0m\u001b[1mThe individual IDs is set to 1,2,...,#observations\u001b[22m\n",
      "Genotype informatin:\n",
      "#markers: 10; #individuals: 100\n",
      "\u001b[31mThe folder results already exists.\u001b[39m\n",
      "\u001b[32mThe folder results1 is created to save results.\u001b[39m\n",
      "\u001b[32mChecking genotypes...\u001b[39m\n",
      "\u001b[32mChecking phenotypes...\u001b[39m\n",
      "\u001b[32mIndividual IDs (strings) are provided in the first column of the phenotypic data.\u001b[39m\n",
      "\u001b[32mPredicted values for individuals of interest will be obtained as the summation of Any[] (Note that genomic data is always included for now).\u001b[39m\u001b[32mPhenotypes for 100 observations are used in the analysis.These individual IDs are saved in the file IDs_for_individuals_with_phenotypes.txt.\u001b[39m\n",
      "\n",
      "\u001b[0m\u001b[1mA Linear Mixed Model was build using model equations:\u001b[22m\n",
      "\n",
      "y_encrypted = intercept + genotypes_encrypted\n",
      "\n",
      "\u001b[0m\u001b[1mModel Information:\u001b[22m\n",
      "\n",
      "Term            C/F          F/R            nLevels\n",
      "intercept       factor       fixed                1\n",
      "\n",
      "\u001b[0m\u001b[1mMCMC Information:\u001b[22m\n",
      "\n",
      "chain_length                                  50000\n",
      "burnin                                            0\n",
      "starting_value                                 true\n",
      "printout_frequency                            50001\n",
      "output_samples_frequency                         50\n",
      "constraint                                    false\n",
      "missing_phenotypes                             true\n",
      "update_priors_frequency                           0\n",
      "seed                                          false\n",
      "\n",
      "\u001b[0m\u001b[1mHyper-parameters Information:\u001b[22m\n",
      "\n",
      "residual variances:                           1.000\n",
      "\n",
      "\u001b[0m\u001b[1mGenomic Information:\u001b[22m\n",
      "\n",
      "complete genomic data (i.e., non-single-step analysis)\n",
      "\n",
      "Genomic Category                genotypes_encrypted\n",
      "Method                                       BayesC\n",
      "marker effect variances:                      1.000\n",
      "π                                               0.0\n",
      "estimatePi                                     true\n",
      "estimateScale                                 false\n",
      "\n",
      "\u001b[0m\u001b[1mDegree of freedom for hyper-parameters:\u001b[22m\n",
      "\n",
      "residual variances:                           4.000\n",
      "marker effect variances:                      4.000\n",
      "\n",
      "\n",
      "\n",
      "\u001b[32mThe file results1/MCMC_samples_residual_variance.txt is created to save MCMC samples for residual_variance.\u001b[39m\n",
      "\u001b[32mThe file results1/MCMC_samples_marker_effects_genotypes_encrypted_y_encrypted.txt is created to save MCMC samples for marker_effects_genotypes_encrypted_y_encrypted.\u001b[39m\n",
      "\u001b[32mThe file results1/MCMC_samples_marker_effects_variances_genotypes_encrypted.txt is created to save MCMC samples for marker_effects_variances_genotypes_encrypted.\u001b[39m\n",
      "\u001b[32mThe file results1/MCMC_samples_pi_genotypes_encrypted.txt is created to save MCMC samples for pi_genotypes_encrypted.\u001b[39m\n",
      "\u001b[32mThe file results1/MCMC_samples_EBV_y_encrypted.txt is created to save MCMC samples for EBV_y_encrypted.\u001b[39m\n",
      "\u001b[32mThe file results1/MCMC_samples_genetic_variance.txt is created to save MCMC samples for genetic_variance.\u001b[39m\n",
      "\u001b[32mThe file results1/MCMC_samples_heritability.txt is created to save MCMC samples for heritability.\u001b[39m\n",
      "\n",
      "\n",
      "\u001b[0m\u001b[1mThe version of Julia and Platform in use:\u001b[22m\n",
      "\n",
      "Julia Version 1.7.1\n",
      "Commit ac5cc99908 (2021-12-22 19:35 UTC)\n",
      "Platform Info:\n",
      "  OS: macOS (arm64-apple-darwin21.2.0)\n",
      "  CPU: Apple M1\n",
      "  WORD_SIZE: 64\n",
      "  LIBM: libopenlibm\n",
      "  LLVM: libLLVM-12.0.1 (ORCJIT, cyclone)\n",
      "\n",
      "\n",
      "\u001b[0m\u001b[1mThe analysis has finished. Results are saved in the returned \u001b[22m\u001b[0m\u001b[1mvariable and text files. MCMC samples are saved in text files.\u001b[22m\n",
      "\n",
      "\n"
     ]
    }
   ],
   "source": [
    "genotypes_encrypted       = get_genotypes(M_encrypted,G,G_is_marker_variance = true,center=false,method=\"BayesC\",quality_control=false)\n",
    "model_equation_encrypted  =\"y_encrypted = intercept + genotypes_encrypted\";\n",
    "model_encrypted           = build_model(model_equation_encrypted,R);\n",
    "pheno_encrypted           = DataFrame(ID=1:n,y_encrypted=y_encrypted);\n",
    "out_encrypted             = runMCMC(model_encrypted,pheno_encrypted,chain_length=50_000,double_precision=true);"
   ]
  },
  {
   "cell_type": "markdown",
   "metadata": {
    "id": "PAB-O0lGQw1o"
   },
   "source": [
    "marker effects:"
   ]
  },
  {
   "cell_type": "code",
   "execution_count": 18,
   "metadata": {
    "colab": {
     "base_uri": "https://localhost:8080/"
    },
    "id": "CSrxw79nQe_u",
    "outputId": "c59a6149-ff92-4f7f-9ae7-69a35417fd7c"
   },
   "outputs": [
    {
     "name": "stdout",
     "output_type": "stream",
     "text": [
      "The correlation is: 0.9999488849102431\n"
     ]
    },
    {
     "data": {
      "text/plain": [
       "10×2 Matrix{Float64}:\n",
       " -0.033727  -0.0239512\n",
       " -0.501249  -0.491702\n",
       "  1.42025    1.40273\n",
       "  0.480098   0.495795\n",
       " -1.36423   -1.34253\n",
       " -1.0954    -1.09606\n",
       " -0.514992  -0.51188\n",
       "  1.23532    1.2419\n",
       " -0.586576  -0.575818\n",
       " -0.563227  -0.545934"
      ]
     },
     "execution_count": 18,
     "metadata": {},
     "output_type": "execute_result"
    }
   ],
   "source": [
    "println(\"The correlation is: \", cor(out[\"marker effects genotypes\"][!,:Estimate],out_encrypted[\"marker effects genotypes_encrypted\"][!,:Estimate]))\n",
    "\n",
    "[out[\"marker effects genotypes\"][!,:Estimate] out_encrypted[\"marker effects genotypes_encrypted\"][!,:Estimate]]"
   ]
  },
  {
   "cell_type": "markdown",
   "metadata": {
    "id": "BMQkTOkPSUHi"
   },
   "source": [
    "breeding values:"
   ]
  },
  {
   "cell_type": "code",
   "execution_count": 19,
   "metadata": {
    "colab": {
     "base_uri": "https://localhost:8080/"
    },
    "id": "MMMCfmGRQqLd",
    "outputId": "aff2e019-964c-408f-d4ec-8abe7f58318a"
   },
   "outputs": [
    {
     "name": "stdout",
     "output_type": "stream",
     "text": [
      "The correlation is: 0.9999075004670737\n"
     ]
    },
    {
     "data": {
      "text/plain": [
       "100×2 Matrix{Float64}:\n",
       "  1.09276    1.03815\n",
       "  1.82963    1.84236\n",
       "  2.18495    2.16507\n",
       "  0.354344   0.361394\n",
       "  2.55886    2.53898\n",
       " -3.94005   -3.93353\n",
       "  0.925433   0.945145\n",
       " -1.52895   -1.48713\n",
       " -0.571963  -0.547868\n",
       " -0.724062  -0.732451\n",
       " -0.663745  -0.720065\n",
       " -2.43083   -2.4214\n",
       "  3.70173    3.67917\n",
       "  ⋮         \n",
       " -1.6192    -1.65749\n",
       " -2.16146   -2.16063\n",
       "  0.407555   0.373149\n",
       "  2.79154    2.76707\n",
       " -2.99825   -2.97965\n",
       " -2.29444   -2.27933\n",
       " -1.46205   -1.47712\n",
       " -0.605256  -0.629325\n",
       " -2.24281   -2.17889\n",
       "  1.27031    1.26353\n",
       " -1.34205   -1.3431\n",
       " -0.121624  -0.118365"
      ]
     },
     "execution_count": 19,
     "metadata": {},
     "output_type": "execute_result"
    }
   ],
   "source": [
    "EBV_unencrypted=P'*out_encrypted[\"EBV_y_encrypted\"][!,:EBV]\n",
    "println(\"The correlation is: \", cor(out[\"EBV_y\"][!,:EBV],EBV_unencrypted))\n",
    "\n",
    "[out[\"EBV_y\"][!,:EBV] EBV_unencrypted ]"
   ]
  },
  {
   "cell_type": "markdown",
   "metadata": {
    "id": "9FAQMg3D0MUx"
   },
   "source": [
    "heritability:"
   ]
  },
  {
   "cell_type": "code",
   "execution_count": null,
   "metadata": {
    "colab": {
     "base_uri": "https://localhost:8080/"
    },
    "id": "orMv34b20N5m",
    "outputId": "386e874c-eff1-415a-dc9a-932a259f262e"
   },
   "outputs": [
    {
     "data": {
      "text/plain": [
       "1×2 Matrix{Float64}:\n",
       " 0.657371  0.65227"
      ]
     },
     "execution_count": 34,
     "metadata": {},
     "output_type": "execute_result"
    }
   ],
   "source": [
    "[out[\"heritability\"][1,:Estimate] out_encrypted[\"heritability\"][1,:Estimate]] #same"
   ]
  },
  {
   "cell_type": "markdown",
   "metadata": {
    "id": "uNQ_2XSS0QGN"
   },
   "source": [
    "# Joint analysis using encrypted data from multiple contributors"
   ]
  },
  {
   "cell_type": "markdown",
   "metadata": {
    "id": "ioE43jly0YzQ"
   },
   "source": [
    "Simulate data for contributor2. Number of individuals=200."
   ]
  },
  {
   "cell_type": "code",
   "execution_count": null,
   "metadata": {
    "id": "q4gPn1XQ0cN7"
   },
   "outputs": [],
   "source": [
    "n2, p2 = 200,10 #for larger p (e.g.,500), a longer chain is needed\n",
    "M2   = rand([0,1,2],n2,p2);\n",
    "g2   = M2*randn(p2)\n",
    "y2   = g2 + randn(n2)*sqrt(var(g2));\n",
    "M2=M2.-mean(M2,dims=1)\n",
    "y2=y2.-mean(y2);"
   ]
  },
  {
   "cell_type": "markdown",
   "metadata": {
    "id": "4LpPn7-m7nTA"
   },
   "source": [
    "data encryption for contributor2 using its own generated key:"
   ]
  },
  {
   "cell_type": "code",
   "execution_count": null,
   "metadata": {
    "id": "89ktnz0f7naq"
   },
   "outputs": [],
   "source": [
    "# generate P\n",
    "P2    = stiefel(n2,n2,rng=MersenneTwister(123))\n",
    "#data encryption\n",
    "y2_encrypted   = P2*y2;\n",
    "M2_encrypted   = P2*M2;"
   ]
  },
  {
   "cell_type": "markdown",
   "metadata": {
    "id": "wDr-dYcT76da"
   },
   "source": [
    "joint raw data:"
   ]
  },
  {
   "cell_type": "code",
   "execution_count": null,
   "metadata": {
    "colab": {
     "base_uri": "https://localhost:8080/"
    },
    "id": "j5ILjGfq74-3",
    "outputId": "cc64d9f2-358d-4f1c-d42c-0bd319344597"
   },
   "outputs": [
    {
     "name": "stdout",
     "output_type": "stream",
     "text": [
      "(size(M_all), size(y_all)) = ((300, 10), (300,))\n"
     ]
    }
   ],
   "source": [
    "M_all=[M\n",
    "       M2]\n",
    "y_all = [y\n",
    "         y2];\n",
    "\n",
    "@show size(M_all),size(y_all);"
   ]
  },
  {
   "cell_type": "markdown",
   "metadata": {
    "id": "b-hgM-GD8E5k"
   },
   "source": [
    "joint encrypted data:"
   ]
  },
  {
   "cell_type": "code",
   "execution_count": null,
   "metadata": {
    "colab": {
     "base_uri": "https://localhost:8080/"
    },
    "id": "WUCDyf4o8Eew",
    "outputId": "893942be-192c-400b-8ab9-5054af1eb1b9"
   },
   "outputs": [
    {
     "name": "stdout",
     "output_type": "stream",
     "text": [
      "(size(M_all_encrypted), size(y_all_encrypted)) = ((300, 10), (300,))\n"
     ]
    }
   ],
   "source": [
    "M_all_encrypted = [M_encrypted\n",
    "                   M2_encrypted]\n",
    "y_all_encrypted = [y_encrypted\n",
    "                   y2_encrypted];\n",
    "\n",
    "@show size(M_all_encrypted),size(y_all_encrypted);"
   ]
  },
  {
   "cell_type": "markdown",
   "metadata": {
    "id": "VK1quOZR8V3u"
   },
   "source": [
    "# Bayesian variable selection model (BayesC$\\pi$) using joint raw and encrypted data"
   ]
  },
  {
   "cell_type": "markdown",
   "metadata": {
    "id": "xPYYkfUl8aA0"
   },
   "source": [
    "raw data:"
   ]
  },
  {
   "cell_type": "code",
   "execution_count": null,
   "metadata": {
    "colab": {
     "base_uri": "https://localhost:8080/"
    },
    "id": "tdYufgP58O1R",
    "outputId": "d296e978-bf99-454a-f794-b453825799be"
   },
   "outputs": [
    {
     "name": "stdout",
     "output_type": "stream",
     "text": [
      "\u001b[0m\u001b[1mThe marker IDs are set to 1,2,...,#markers\u001b[22m\n",
      "\u001b[0m\u001b[1mThe individual IDs is set to 1,2,...,#observations\u001b[22m\n",
      "Genotype informatin:\n",
      "#markers: 10; #individuals: 300\n",
      "\u001b[31mThe folder results already exists.\u001b[39m\n",
      "\u001b[31mThe folder results1 already exists.\u001b[39m\n",
      "\u001b[32mThe folder results2 is created to save results.\u001b[39m\n",
      "\u001b[32mChecking genotypes...\u001b[39m\n",
      "\u001b[32mChecking phenotypes...\u001b[39m\n",
      "\u001b[32mIndividual IDs (strings) are provided in the first column of the phenotypic data.\u001b[39m\n",
      "\u001b[32mPredicted values for individuals of interest will be obtained as the summation of Any[] (Note that genomic data is always included for now).\u001b[39m\u001b[32mPhenotypes for 300 observations are used in the analysis.These individual IDs are saved in the file IDs_for_individuals_with_phenotypes.txt.\u001b[39m\n",
      "\n",
      "\u001b[0m\u001b[1mA Linear Mixed Model was build using model equations:\u001b[22m\n",
      "\n",
      "y = intercept + genotypes\n",
      "\n",
      "\u001b[0m\u001b[1mModel Information:\u001b[22m\n",
      "\n",
      "Term            C/F          F/R            nLevels\n",
      "intercept       factor       fixed                1\n",
      "\n",
      "\u001b[0m\u001b[1mMCMC Information:\u001b[22m\n",
      "\n",
      "chain_length                                  50000\n",
      "burnin                                            0\n",
      "starting_value                                 true\n",
      "printout_frequency                            50001\n",
      "output_samples_frequency                         50\n",
      "constraint                                    false\n",
      "missing_phenotypes                             true\n",
      "update_priors_frequency                           0\n",
      "seed                                          false\n",
      "\n",
      "\u001b[0m\u001b[1mHyper-parameters Information:\u001b[22m\n",
      "\n",
      "residual variances:                           1.000\n",
      "\n",
      "\u001b[0m\u001b[1mGenomic Information:\u001b[22m\n",
      "\n",
      "complete genomic data (i.e., non-single-step analysis)\n",
      "\n",
      "Genomic Category                          genotypes\n",
      "Method                                       BayesC\n",
      "marker effect variances:                      1.000\n",
      "π                                               0.0\n",
      "estimatePi                                     true\n",
      "estimateScale                                 false\n",
      "\n",
      "\u001b[0m\u001b[1mDegree of freedom for hyper-parameters:\u001b[22m\n",
      "\n",
      "residual variances:                           4.000\n",
      "marker effect variances:                      4.000\n",
      "\n",
      "\n",
      "\n",
      "\u001b[32mThe file results2/MCMC_samples_residual_variance.txt is created to save MCMC samples for residual_variance.\u001b[39m\n",
      "\u001b[32mThe file results2/MCMC_samples_marker_effects_genotypes_y.txt is created to save MCMC samples for marker_effects_genotypes_y.\u001b[39m\n",
      "\u001b[32mThe file results2/MCMC_samples_marker_effects_variances_genotypes.txt is created to save MCMC samples for marker_effects_variances_genotypes.\u001b[39m\n",
      "\u001b[32mThe file results2/MCMC_samples_pi_genotypes.txt is created to save MCMC samples for pi_genotypes.\u001b[39m\n",
      "\u001b[32mThe file results2/MCMC_samples_EBV_y.txt is created to save MCMC samples for EBV_y.\u001b[39m\n",
      "\u001b[32mThe file results2/MCMC_samples_genetic_variance.txt is created to save MCMC samples for genetic_variance.\u001b[39m\n",
      "\u001b[32mThe file results2/MCMC_samples_heritability.txt is created to save MCMC samples for heritability.\u001b[39m\n"
     ]
    },
    {
     "name": "stderr",
     "output_type": "stream",
     "text": [
      "\u001b[32mrunning MCMC ... 100%|███████████████████████████████████| Time: 0:00:01\u001b[39m\n"
     ]
    },
    {
     "name": "stdout",
     "output_type": "stream",
     "text": [
      "\n",
      "\n",
      "\u001b[0m\u001b[1mThe version of Julia and Platform in use:\u001b[22m\n",
      "\n",
      "Julia Version 1.8.5\n",
      "Commit 17cfb8e65ea (2023-01-08 06:45 UTC)\n",
      "Platform Info:\n",
      "  OS: Linux (x86_64-linux-gnu)\n",
      "  CPU: 2 × Intel(R) Xeon(R) CPU @ 2.30GHz\n",
      "  WORD_SIZE: 64\n",
      "  LIBM: libopenlibm\n",
      "  LLVM: libLLVM-13.0.1 (ORCJIT, haswell)\n",
      "  Threads: 4 on 2 virtual cores\n",
      "Environment:\n",
      "  LD_LIBRARY_PATH = /usr/lib64-nvidia\n",
      "  JULIA_NUM_THREADS = 4\n",
      "\n",
      "\n",
      "\u001b[0m\u001b[1mThe analysis has finished. Results are saved in the returned \u001b[22m\u001b[0m\u001b[1mvariable and text files. MCMC samples are saved in text files.\u001b[22m\n",
      "\n",
      "\n"
     ]
    }
   ],
   "source": [
    "genotypes       = get_genotypes(M_all,G,G_is_marker_variance = true,center=false,method=\"BayesC\",quality_control=false)\n",
    "model_equation  = \"y = intercept + genotypes\";\n",
    "model           = build_model(model_equation,R);\n",
    "pheno           = DataFrame(ID=1:(n+n2), y=y_all)\n",
    "out             = runMCMC(model,pheno,chain_length=50_000,double_precision=true);"
   ]
  },
  {
   "cell_type": "markdown",
   "metadata": {
    "id": "aKpXZx9E8ivt"
   },
   "source": [
    "encrypted data:"
   ]
  },
  {
   "cell_type": "code",
   "execution_count": null,
   "metadata": {
    "colab": {
     "base_uri": "https://localhost:8080/"
    },
    "id": "daSV__S78j5J",
    "outputId": "d74404d0-080d-45eb-b625-9c7782bbf1c7"
   },
   "outputs": [
    {
     "name": "stdout",
     "output_type": "stream",
     "text": [
      "\u001b[0m\u001b[1mThe marker IDs are set to 1,2,...,#markers\u001b[22m\n",
      "\u001b[0m\u001b[1mThe individual IDs is set to 1,2,...,#observations\u001b[22m\n",
      "Genotype informatin:\n",
      "#markers: 10; #individuals: 300\n",
      "\u001b[31mThe folder results already exists.\u001b[39m\n",
      "\u001b[31mThe folder results1 already exists.\u001b[39m\n",
      "\u001b[31mThe folder results2 already exists.\u001b[39m\n",
      "\u001b[32mThe folder results3 is created to save results.\u001b[39m\n",
      "\u001b[32mChecking genotypes...\u001b[39m\n",
      "\u001b[32mChecking phenotypes...\u001b[39m\n",
      "\u001b[32mIndividual IDs (strings) are provided in the first column of the phenotypic data.\u001b[39m\n",
      "\u001b[32mPredicted values for individuals of interest will be obtained as the summation of Any[] (Note that genomic data is always included for now).\u001b[39m\u001b[32mPhenotypes for 300 observations are used in the analysis.These individual IDs are saved in the file IDs_for_individuals_with_phenotypes.txt.\u001b[39m\n",
      "\n",
      "\u001b[0m\u001b[1mA Linear Mixed Model was build using model equations:\u001b[22m\n",
      "\n",
      "y_encrypted = intercept + genotypes_encrypted\n",
      "\n",
      "\u001b[0m\u001b[1mModel Information:\u001b[22m\n",
      "\n",
      "Term            C/F          F/R            nLevels\n",
      "intercept       factor       fixed                1\n",
      "\n",
      "\u001b[0m\u001b[1mMCMC Information:\u001b[22m\n",
      "\n",
      "chain_length                                  50000\n",
      "burnin                                            0\n",
      "starting_value                                 true\n",
      "printout_frequency                            50001\n",
      "output_samples_frequency                         50\n",
      "constraint                                    false\n",
      "missing_phenotypes                             true\n",
      "update_priors_frequency                           0\n",
      "seed                                          false\n",
      "\n",
      "\u001b[0m\u001b[1mHyper-parameters Information:\u001b[22m\n",
      "\n",
      "residual variances:                           1.000\n",
      "\n",
      "\u001b[0m\u001b[1mGenomic Information:\u001b[22m\n",
      "\n",
      "complete genomic data (i.e., non-single-step analysis)\n",
      "\n",
      "Genomic Category                genotypes_encrypted\n",
      "Method                                       BayesC\n",
      "marker effect variances:                      1.000\n",
      "π                                               0.0\n",
      "estimatePi                                     true\n",
      "estimateScale                                 false\n",
      "\n",
      "\u001b[0m\u001b[1mDegree of freedom for hyper-parameters:\u001b[22m\n",
      "\n",
      "residual variances:                           4.000\n",
      "marker effect variances:                      4.000\n",
      "\n",
      "\n",
      "\n",
      "\u001b[32mThe file results3/MCMC_samples_residual_variance.txt is created to save MCMC samples for residual_variance.\u001b[39m\n",
      "\u001b[32mThe file results3/MCMC_samples_marker_effects_genotypes_encrypted_y_encrypted.txt is created to save MCMC samples for marker_effects_genotypes_encrypted_y_encrypted.\u001b[39m\n",
      "\u001b[32mThe file results3/MCMC_samples_marker_effects_variances_genotypes_encrypted.txt is created to save MCMC samples for marker_effects_variances_genotypes_encrypted.\u001b[39m\n",
      "\u001b[32mThe file results3/MCMC_samples_pi_genotypes_encrypted.txt is created to save MCMC samples for pi_genotypes_encrypted.\u001b[39m\n",
      "\u001b[32mThe file results3/MCMC_samples_EBV_y_encrypted.txt is created to save MCMC samples for EBV_y_encrypted.\u001b[39m\n",
      "\u001b[32mThe file results3/MCMC_samples_genetic_variance.txt is created to save MCMC samples for genetic_variance.\u001b[39m\n",
      "\u001b[32mThe file results3/MCMC_samples_heritability.txt is created to save MCMC samples for heritability.\u001b[39m\n"
     ]
    },
    {
     "name": "stderr",
     "output_type": "stream",
     "text": [
      "\u001b[32mrunning MCMC ... 100%|███████████████████████████████████| Time: 0:00:01\u001b[39m\n"
     ]
    },
    {
     "name": "stdout",
     "output_type": "stream",
     "text": [
      "\n",
      "\n",
      "\u001b[0m\u001b[1mThe version of Julia and Platform in use:\u001b[22m\n",
      "\n",
      "Julia Version 1.8.5\n",
      "Commit 17cfb8e65ea (2023-01-08 06:45 UTC)\n",
      "Platform Info:\n",
      "  OS: Linux (x86_64-linux-gnu)\n",
      "  CPU: 2 × Intel(R) Xeon(R) CPU @ 2.30GHz\n",
      "  WORD_SIZE: 64\n",
      "  LIBM: libopenlibm\n",
      "  LLVM: libLLVM-13.0.1 (ORCJIT, haswell)\n",
      "  Threads: 4 on 2 virtual cores\n",
      "Environment:\n",
      "  LD_LIBRARY_PATH = /usr/lib64-nvidia\n",
      "  JULIA_NUM_THREADS = 4\n",
      "\n",
      "\n",
      "\u001b[0m\u001b[1mThe analysis has finished. Results are saved in the returned \u001b[22m\u001b[0m\u001b[1mvariable and text files. MCMC samples are saved in text files.\u001b[22m\n",
      "\n",
      "\n"
     ]
    }
   ],
   "source": [
    "genotypes_encrypted       = get_genotypes(M_all_encrypted,G,G_is_marker_variance = true,center=false,method=\"BayesC\",quality_control=false)\n",
    "model_equation_encrypted  =\"y_encrypted = intercept + genotypes_encrypted\";\n",
    "model_encrypted           = build_model(model_equation_encrypted,R);\n",
    "pheno_encrypted           = DataFrame(ID=1:(n+n2),y_encrypted=y_all_encrypted)\n",
    "out_encrypted             = runMCMC(model_encrypted,pheno_encrypted,chain_length=50_000,double_precision=true);"
   ]
  },
  {
   "cell_type": "markdown",
   "metadata": {
    "id": "zWqzrSeP8pbF"
   },
   "source": [
    "marker effects:"
   ]
  },
  {
   "cell_type": "code",
   "execution_count": null,
   "metadata": {
    "colab": {
     "base_uri": "https://localhost:8080/"
    },
    "id": "cJxld-Td8o8T",
    "outputId": "1e3419bc-9171-4888-c79c-60584c3b2156"
   },
   "outputs": [
    {
     "name": "stdout",
     "output_type": "stream",
     "text": [
      "The correlation is: 0.9999313581865804\n"
     ]
    },
    {
     "data": {
      "text/plain": [
       "10×2 Matrix{Float64}:\n",
       "  0.389828     0.406236\n",
       " -0.0454642   -0.0440686\n",
       "  0.00629754  -0.0116026\n",
       "  1.58312      1.59023\n",
       " -0.894963    -0.898297\n",
       " -0.852499    -0.873619\n",
       " -0.310281    -0.313352\n",
       " -0.71418     -0.713442\n",
       " -1.0042      -1.00792\n",
       " -0.814324    -0.819186"
      ]
     },
     "execution_count": 42,
     "metadata": {},
     "output_type": "execute_result"
    }
   ],
   "source": [
    "println(\"The correlation is: \", cor(out[\"marker effects genotypes\"][!,:Estimate],out_encrypted[\"marker effects genotypes_encrypted\"][!,:Estimate]))\n",
    "\n",
    "[out[\"marker effects genotypes\"][!,:Estimate] out_encrypted[\"marker effects genotypes_encrypted\"][!,:Estimate]]"
   ]
  },
  {
   "cell_type": "markdown",
   "metadata": {
    "id": "GWrFSF3Y8twn"
   },
   "source": [
    "estimated breeding values:"
   ]
  },
  {
   "cell_type": "code",
   "execution_count": null,
   "metadata": {
    "colab": {
     "base_uri": "https://localhost:8080/"
    },
    "id": "z4KuCe968tO7",
    "outputId": "f2c4ccf7-f81d-4ad4-ea90-a0c92019758b"
   },
   "outputs": [
    {
     "name": "stdout",
     "output_type": "stream",
     "text": [
      "The correlation is: 0.999935617664424\n"
     ]
    },
    {
     "data": {
      "text/plain": [
       "300×2 Matrix{Float64}:\n",
       " -0.16309    -0.183917\n",
       "  0.0240965   0.00961323\n",
       "  0.142284    0.1275\n",
       " -0.793845   -0.820669\n",
       "  2.90226     2.89855\n",
       " -2.48903    -2.49766\n",
       "  1.01679     1.02696\n",
       " -1.84354    -1.83009\n",
       " -1.61079    -1.61308\n",
       "  1.57299     1.55119\n",
       "  2.92297     2.9329\n",
       "  3.41628     3.44613\n",
       "  3.62974     3.63522\n",
       "  ⋮          \n",
       " -0.907107   -0.907912\n",
       "  1.38673     1.40444\n",
       "  0.314949    0.266132\n",
       "  0.959666    1.00239\n",
       "  3.96908     4.01261\n",
       "  2.35193     2.38322\n",
       " -0.546432   -0.532653\n",
       " -1.15608    -1.1907\n",
       "  3.61686     3.65481\n",
       " -2.21522    -2.25614\n",
       " -3.93044    -4.00279\n",
       "  0.687832    0.719896"
      ]
     },
     "execution_count": 43,
     "metadata": {},
     "output_type": "execute_result"
    }
   ],
   "source": [
    "P_all=[P           zeros(n,n2)\n",
    "       zeros(n2,n) P2]\n",
    "EBV_unencrypted=P_all'*out_encrypted[\"EBV_y_encrypted\"][!,:EBV]\n",
    "println(\"The correlation is: \", cor(out[\"EBV_y\"][!,:EBV],EBV_unencrypted))\n",
    "\n",
    "[out[\"EBV_y\"][!,:EBV] EBV_unencrypted ]"
   ]
  },
  {
   "cell_type": "markdown",
   "metadata": {
    "id": "CwfhTfYF87GL"
   },
   "source": [
    "heritability:"
   ]
  },
  {
   "cell_type": "code",
   "execution_count": null,
   "metadata": {
    "colab": {
     "base_uri": "https://localhost:8080/"
    },
    "id": "MpDAPbFa88r9",
    "outputId": "c2996185-ef59-4e54-a249-728840ec74f0"
   },
   "outputs": [
    {
     "data": {
      "text/plain": [
       "1×2 Matrix{Float64}:\n",
       " 0.303191  0.307796"
      ]
     },
     "execution_count": 46,
     "metadata": {},
     "output_type": "execute_result"
    }
   ],
   "source": [
    "[out[\"heritability\"][1,:Estimate] out_encrypted[\"heritability\"][1,:Estimate]] #same"
   ]
  }
 ],
 "metadata": {
  "accelerator": "GPU",
  "colab": {
   "include_colab_link": true,
   "provenance": []
  },
  "kernelspec": {
   "display_name": "Julia 1.7.1",
   "language": "julia",
   "name": "julia-1.7"
  },
  "language_info": {
   "file_extension": ".jl",
   "mimetype": "application/julia",
   "name": "julia",
   "version": "1.7.1"
  }
 },
 "nbformat": 4,
 "nbformat_minor": 4
}
