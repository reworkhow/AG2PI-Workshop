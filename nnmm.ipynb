{
 "cells": [
  {
   "cell_type": "code",
   "execution_count": null,
   "metadata": {
    "colab": {
     "base_uri": "https://localhost:8080/"
    },
    "id": "GIeFXS0F0zww",
    "outputId": "b4a6bcfc-53c0-43e7-8cc9-db931a0856ec"
   },
   "outputs": [],
   "source": [
    "%%shell\n",
    "set -e\n",
    "\n",
    "#---------------------------------------------------#\n",
    "JULIA_VERSION=\"1.7.1\" # any version ≥ 0.7.0\n",
    "JULIA_PACKAGES=\"IJulia HTTP DataFrames CSV Statistics Random JWAS\"  # CSV DataFrames Random Statistics JWAS\n",
    "JULIA_PACKAGES_IF_GPU=\"CUDA\"\n",
    "JULIA_NUM_THREADS=4\n",
    "#---------------------------------------------------#\n",
    "\n",
    "if [ -n \"$COLAB_GPU\" ] && [ -z `which julia` ]; then\n",
    "  # Install Julia\n",
    "  JULIA_VER=`cut -d '.' -f -2 <<< \"$JULIA_VERSION\"`\n",
    "  echo \"Installing Julia $JULIA_VERSION on the current Colab Runtime...\"\n",
    "  BASE_URL=\"https://julialang-s3.julialang.org/bin/linux/x64\"\n",
    "  URL=\"$BASE_URL/$JULIA_VER/julia-$JULIA_VERSION-linux-x86_64.tar.gz\"\n",
    "  wget -nv $URL -O /tmp/julia.tar.gz # -nv means \"not verbose\"\n",
    "  tar -x -f /tmp/julia.tar.gz -C /usr/local --strip-components 1\n",
    "  rm /tmp/julia.tar.gz\n",
    "\n",
    "  # Install Packages\n",
    "  if [ \"$COLAB_GPU\" = \"1\" ]; then\n",
    "      JULIA_PACKAGES=\"$JULIA_PACKAGES $JULIA_PACKAGES_IF_GPU\"\n",
    "  fi\n",
    "  for PKG in `echo $JULIA_PACKAGES`; do\n",
    "    echo \"Installing Julia package $PKG...\"\n",
    "    julia -e 'using Pkg; pkg\"add '$PKG'; precompile;\"' &> /dev/null\n",
    "  done\n",
    "\n",
    "  # Install kernel and rename it to \"julia\"\n",
    "  echo \"Installing IJulia kernel...\"\n",
    "  julia -e 'using IJulia; IJulia.installkernel(\"julia\", env=Dict(\n",
    "      \"JULIA_NUM_THREADS\"=>\"'\"$JULIA_NUM_THREADS\"'\"))'\n",
    "  KERNEL_DIR=`julia -e \"using IJulia; print(IJulia.kerneldir())\"`\n",
    "  KERNEL_NAME=`ls -d \"$KERNEL_DIR\"/julia*`\n",
    "  mv -f $KERNEL_NAME \"$KERNEL_DIR\"/julia  \n",
    "\n",
    "  echo ''\n",
    "  echo \"Successfully installed `julia -v`!\"\n",
    "  echo \"Please reload this page (press Ctrl+R, ⌘+R, or the F5 key) then\"\n",
    "  echo \"jump to the 'Checking the Installation' section.\"\n",
    "fi"
   ]
  },
  {
   "cell_type": "code",
   "execution_count": null,
   "metadata": {
    "colab": {
     "base_uri": "https://localhost:8080/"
    },
    "id": "EEzvvzCl1i0F",
    "outputId": "20e48b31-4df3-4dd3-e001-eb577f259ebe"
   },
   "outputs": [],
   "source": [
    "versioninfo()"
   ]
  },
  {
   "cell_type": "markdown",
   "metadata": {
    "id": "8TwZi87MiKld"
   },
   "source": [
    "---\n",
    "# Mixed Effects Neural Networks: NNMM\n",
    "\n",
    "* Part 1. Introduction\n",
    "* Part 2. Mixed effects neural network: Genotypes -> Unobserved intemediate traits -> Phenotyes\n",
    "* Part 3. Mixed effects neural network: Genotypes -> (complete/incomplete) Intemediate omics features -> Phenotypes\n",
    "* Part 4. Partial-connected neural networks\n",
    "* Part 5. User-defined relationship between middle layer (intermediate traits) and output layer (phenotype)"
   ]
  },
  {
   "cell_type": "markdown",
   "metadata": {},
   "source": [
    "---\n",
    "## Part 1. introduction\n",
    "\n",
    "### 1. Overview\n",
    "The Mixed Effect Neural Networks (NN-MM) extend linear mixed model (\"MM\") to multilayer neural networks (\"NN\") by adding one middle layer between genotype layer and phenotypes layer. Nodes in the middle layer represent intermediate traits, e.g., the known intermediate omics features such as gene expression levels can be incorporated in the middle layer. These three sequential layers form a unified network. \n",
    "\n",
    "![](https://github.com/zhaotianjing/figures/blob/main/omics_example.png?raw=true)\n",
    "\n",
    "NN-MM allow any patterns of missing data in the middle layer, and missing data will be sampled. In the figure above, for an individual, the gene expression levels of the first two genes are 0.9 and 0.1, respectively, and the gene expression level of the last gene is missing to be sampled. The missing patterns of gene expression levels can be different for different individuals."
   ]
  },
  {
   "cell_type": "markdown",
   "metadata": {},
   "source": [
    "### 2. Extend linear mixed model to multilayer neural networks\n",
    "\n",
    "Multiple independent single-trait mixed models are used to model the relationships between input layer (genotypes) and middle layer (intermediate traits). Activation functions in the neural network are used to approximate the linear/nonlinear relationships between middle layer (intermediate traits) and output layer (phenotypes). Missing values in the middle layer (intermediate traits) are sampled by Hamiltonian Monte Carlo based on the upstream genotype layer and downstream phenotype layer.\n",
    "\n",
    "Details can be found in our publications:\n",
    "\n",
    "> * Tianjing Zhao, Jian Zeng, and Hao Cheng. Extend mixed models to multilayer neural networks for genomic prediction including intermediate omics data, GENETICS, 2022; [https://doi.org/10.1093/genetics/iyac034](https://doi.org/10.1093/genetics/iyac034). \n",
    "> * Tianjing Zhao, Rohan Fernando, and Hao Cheng. Interpretable artificial neural networks incorporating Bayesian alphabet models for genome-wide prediction and association studies, G3 Genes|Genomes|Genetics, 2021;  [https://doi.org/10.1093/g3journal/jkab228](https://doi.org/10.1093/g3journal/jkab228)"
   ]
  },
  {
   "cell_type": "markdown",
   "metadata": {},
   "source": [
    "### 3. Flexibility\n",
    "\n",
    "NN-MM can fit fully-connected neural networks ((a),(b)), or partial-connected neural networks ((c),(d)). Also, the relationship between middle layer (intermediate traits) and output layer (phenotypes) can be based on activation functions ((a),(c)), or pre-defined by a user-defined function ((b),(d)).\n",
    "\n",
    "![](https://github.com/zhaotianjing/figures/blob/main/wiki_full_vs_partial.png?raw=true)"
   ]
  },
  {
   "cell_type": "markdown",
   "metadata": {},
   "source": [
    "### 4. Multi-threaded parallelism\n",
    "\n",
    "By default, multiple single-trait models will be used to model the relationships between input layer (genotypes) and middle layer (intermediate traits). Multi-threaded parallelism will be used for parallel computing. The number of threads can be checked by running `Threads.nthreads()` in Julia. Usually, using multiple threads will be about 3 times faster than using a single thread.\n",
    "\n",
    "The number of execution threads is controlled by using the -t/--threads command-line argument (requires at least Julia 1.5). \n",
    "\n",
    "For example, to start Julia with 4 threads:\n",
    "```\n",
    "julia --threads 4\n",
    "```\n",
    "\n",
    "If you're using Juno via IDE like Atom, all threads will be loaded automatically. "
   ]
  },
  {
   "cell_type": "markdown",
   "metadata": {
    "id": "SRyIvW0uisY1"
   },
   "source": [
    "---\n",
    "## Part 2. Mixed effects neural network: Genotypes -> Unobserved intemediate traits -> Phenotyes"
   ]
  },
  {
   "cell_type": "markdown",
   "metadata": {
    "id": "AzGsm1Hni0ap"
   },
   "source": [
    "Tips: please center the phenotypes to have zero means."
   ]
  },
  {
   "cell_type": "markdown",
   "metadata": {
    "id": "KihgjX2Ui3Sd"
   },
   "source": [
    "### Example(a): fully-connected neural networks, all intemediate traits are unobserved\n",
    "- nonlinear function (to define relationship between middle layer and phenotye): tanh (other supported activation functions: \"sigmoid\", \"relu\", \"leakyrelu\", \"linear\")\n",
    "- number of nodes in the middle layer: 3\n",
    "- Bayesian model: multiple independent single-trait BayesC (to sample marker effects on intemediate traits). Note, to use multi-trait Bayesian Alphabet models, please set `mega_trait=false` in `runMCMC()` function.\n",
    "- sample the unobserved intemediate traits in the middle layer: Hamiltonian Monte Carlo\n",
    "\n",
    "![](https://github.com/zhaotianjing/figures/blob/main/part2_example.png?raw=true)"
   ]
  },
  {
   "cell_type": "code",
   "execution_count": null,
   "metadata": {
    "colab": {
     "base_uri": "https://localhost:8080/"
    },
    "id": "8qHIYW7FjBYq",
    "outputId": "a0e607f1-4029-47ec-8848-45d5e0e81268"
   },
   "outputs": [],
   "source": [
    "# Step 1: Load packages\n",
    "using JWAS,DataFrames,CSV,Statistics,JWAS.Datasets,Random\n",
    "Random.seed!(123)\n",
    "\n",
    "# Step 2: Read data \n",
    "phenofile  = dataset(\"phenotypes.csv\") #get example data path\n",
    "genofile   = dataset(\"genotypes.csv\")  #get example data path\n",
    "\n",
    "phenotypes = CSV.read(phenofile,DataFrame,delim = ',',header=true,missingstrings=[\"NA\"]) #read phenotypes (output layer)\n",
    "genotypes  = get_genotypes(genofile,separator=',',method=\"BayesC\");                      #read genotypes  (input layer)\n",
    "\n",
    "\n",
    "# Step 3: Build Model Equations \n",
    "model_equation  =\"y1 = intercept + genotypes\"  #name of phenotypes is \"y1\" in the phenotypes data\n",
    "                                               #name of genotypes is \"genotypes\" (user-defined in the previous step)\n",
    "                                               #the single-trait mixed model used between input and each node in middle layer is: middle node = intercept + genotypes\n",
    "model = build_model(model_equation,\n",
    "                    num_hidden_nodes=3,         #number of nodes in middle layer is 3\n",
    "                    nonlinear_function=\"tanh\"); #tanh function is used to approximate relationship between middle layer and phenotype\n",
    "\n",
    "\n",
    "# Step 4: Run Analysis\n",
    "out=runMCMC(model,phenotypes,chain_length=5000); \n",
    "\n",
    "# Step 5: Check Accuruacy\n",
    "results    = innerjoin(out[\"EBV_NonLinear\"], phenotypes, on = :ID) \n",
    "accuruacy  = cor(results[!,:EBV],results[!,:bv1])"
   ]
  },
  {
   "cell_type": "markdown",
   "metadata": {
    "id": "pZY0NQpOjDyQ"
   },
   "source": [
    "### Example output files\n",
    "\n",
    "The i-th middle nodes will be named as \"trait name\"+\"i\". In our example, the observed trait is named \"y1\", and there are 3 middle nodes, so the middle nodes are named as \"y11\", \"y12\", and \"y13\", respectively.\n",
    "\n",
    "Below is a list of files containing estimates and standard deviations for variables of interest. \n",
    "\n",
    "| file name      | description |\n",
    "| -----------    | ----------- |\n",
    "| EBV_NonLinear.txt | estimated breeding values for observed trait  |\n",
    "| EBV_y11.txt       | estimated breeding values for middle node 1      |\n",
    "| EBV_y12.txt       | estimated breeding values for middle node 2      |\n",
    "| EBV_y13.txt       | estimated breeding values for middle node 3      |\n",
    "|genetic_variance.txt                   | estimated genetic variance-covariance of all middle nodes |\n",
    "|heritability.txt                       | estimated heritability of all middle nodes                |\n",
    "|location_parameters.txt                | estimated bias of all middle nodes                        |\n",
    "|neural_networks_bias_and_weights.txt.  | estimated bias of phenotypes and weights between middle nodes and phenotypes|\n",
    "|pi_genotypes.txt                       | estimated pi of all middle nodes                          | \n",
    "|marker_effects_genotypes.txt           | estimated marker effects of all middle nodes              |\n",
    "|residual_variance.txt                  | estimated residual variance-covariance for all middle nodes| \n",
    "\n",
    "Below is a list of files containing MCMC samples for variables of interest. \n",
    "\n",
    "| file name      | description |\n",
    "| -----------    | ----------- |\n",
    "| MCMC_samples_EBV_NonLinear.txt     | MCMC samples from the posterior distribution of breeding values for phenotypes  |\n",
    "| MCMC_samples_EBV_y11.txt     | MCMC samples from the posterior distribution of breeding values for middle node 1       |\n",
    "| MCMC_samples_EBV_y12.txt     | MCMC samples from the posterior distribution of breeding values for middle node 2       |\n",
    "| MCMC_samples_EBV_y13.txt     | MCMC samples from the posterior distribution of breeding values for middle node 3       |\n",
    "|MCMC_samples_genetic_variance.txt                   | MCMC samples from the posterior distribution of genetic variance-covariance for all middle nodes   |\n",
    "|MCMC_samples_heritability.txt                       | MCMC samples from the posterior distribution of heritability for all middle nodes                                | \n",
    "|MCMC_samples_marker_effects_genotypes_y11            |MCMC samples from the posterior distribution of marker effects for middle node 1           |\n",
    "|MCMC_samples_marker_effects_genotypes_y12            |MCMC samples from the posterior distribution of marker effects for middle node 2           |\n",
    "|MCMC_samples_marker_effects_genotypes_y13            |MCMC samples from the posterior distribution of marker effects for middle node 3           |\n",
    "|MCMC_samples_marker_effects_variances_genotypes.txt | MCMC samples from the posterior distribution of marker effect variance for all middle nodes        |\n",
    "|MCMC_samples_neural_networks_bias_and_weights.txt.  | MCMC samples from the posterior distribution of bias of observed trait and weights between middle nodes and phenotypes|\n",
    "|MCMC_samples_pi_genotypes.txt                       | MCMC samples from the posterior distribution of pi for all middle nodes                                          |\n",
    "|MCMC_samples_residual_variance.txt                  |  MCMC samples from the posterior distribution of residual variance-covariance for all middle nodes |"
   ]
  },
  {
   "cell_type": "markdown",
   "metadata": {
    "id": "MfgOn5-wjf9x"
   },
   "source": [
    "---\n",
    "## Part 3: Mixed effects neural network: Genotypes -> (complete/incomplete) Intemediate omics features -> Phenotypes"
   ]
  },
  {
   "cell_type": "markdown",
   "metadata": {
    "id": "m9Zb05i5jiWt"
   },
   "source": [
    "Tips:\n",
    "* Put the names of omics features in the `build_model()` function through the `latent_traits` argument.\n",
    "* If there are many omics features (e.g., 1000), it is recommanded to set `printout_model_info=false` in the `runMCMC()` function.\n",
    "* Missing omics data for individuals in the training dataset (i.e., individuals with phenotypes) is allowed. When you read a file with missing values via the `CSV.read()` function, the `missingstrings` argument should be used to set sentinel values that will be parsed as `missing`.\n",
    "* For individuals in the testing dataset (i.e., individuals without phenotypes), if the testing individuals have complete omics data, then incorporating the omics data of those individuals may improve the relationship between input layer (genotype) and middle layer (omics)."
   ]
  },
  {
   "cell_type": "markdown",
   "metadata": {
    "id": "yAwP8SSBjk_d"
   },
   "source": [
    "### example(o1): fully-connected neural networks with observed intemediate omics features"
   ]
  },
  {
   "cell_type": "markdown",
   "metadata": {
    "id": "tBZ9Ck7Fjpuj"
   },
   "source": [
    "* nonlinear function (to define relationship between omics and phenotye): sigmoid (other supported activation functions: \"tanh\", \"relu\", \"leakyrelu\", \"linear\")\n",
    "* number of omics features in the middle layer: 10\n",
    "* Bayesian model: multiple independent single-trait BayesC (to sample marker effects on intemediate omics)\n",
    "* sample the missing omics in the middle layer: Hamiltonian Monte Carlo\n",
    "\n",
    "![](https://github.com/zhaotianjing/figures/blob/main/part3_example.png?raw=true)\n"
   ]
  },
  {
   "cell_type": "code",
   "execution_count": null,
   "metadata": {
    "colab": {
     "base_uri": "https://localhost:8080/"
    },
    "id": "xq_-NevmjsEo",
    "outputId": "33f8dd8a-9661-43b1-b576-967923fbf28c"
   },
   "outputs": [],
   "source": [
    "# Step 1: Load packages\n",
    "using JWAS,DataFrames,CSV,Statistics,JWAS.Datasets, Random, HTTP #HTTP to download demo data from github\n",
    "Random.seed!(123)\n",
    "\n",
    "# Step 2: Read data (from github)\n",
    "phenofile  = HTTP.get(\"https://raw.githubusercontent.com/zhaotianjing/nnmm_doc/main/data_simulation/y.csv\").body;\n",
    "omicsfile  = HTTP.get(\"https://raw.githubusercontent.com/zhaotianjing/nnmm_doc/main/data_simulation/omics.csv\").body;\n",
    "genofile   = HTTP.get(\"https://raw.githubusercontent.com/zhaotianjing/nnmm_doc/main/data_simulation/geno_n100_p200.csv\").body;\n",
    "phenotypes = CSV.read(phenofile,DataFrame);\n",
    "omics      = CSV.read(omicsfile,DataFrame);\n",
    "geno_df    = CSV.read(genofile,DataFrame);\n",
    "\n",
    "omics_names = names(omics)[2:end];  #get names of omics\n",
    "insertcols!(omics,2,:y => phenotypes[:,:y], :bv => phenotypes[:,:bv]); #phenotype and omics should be in the same dataframe\n",
    "\n",
    "genotypes = get_genotypes(geno_df,separator=',',method=\"BayesC\");\n",
    "\n",
    "# Step 3: Build Model Equations\n",
    "model_equation  =\"y = intercept + genotypes\" #name of phenotypes is \"y\"\n",
    "                                             #name of genotypes is \"genotypes\" (user-defined in the previous step)\n",
    "                                             #the single-trait mixed model used between input and each omics is: omics = intercept + genotypes\n",
    "model = build_model(model_equation,\n",
    "\t\t            num_hidden_nodes=10,          #number of omics in middle layer is 3\n",
    "                    latent_traits=omics_names,    #name of all omics\n",
    "\t\t            nonlinear_function=\"sigmoid\"); #sigmoid function is used to approximate relationship between omics and phenotypes\n",
    "\n",
    "# Step 4: Run Analysis\n",
    "out=runMCMC(model, omics, chain_length=5000, printout_model_info=false);\n",
    "\n",
    "# Step 5: Check Accuruacy\n",
    "results    = innerjoin(out[\"EBV_NonLinear\"], omics, on = :ID);\n",
    "accuruacy  = cor(results[!,:EBV],results[!,:bv])"
   ]
  },
  {
   "cell_type": "markdown",
   "metadata": {
    "id": "FHKhNZhNjw0i"
   },
   "source": [
    "### Include a residual that is not mediated by other omics features"
   ]
  },
  {
   "cell_type": "markdown",
   "metadata": {
    "id": "tujNalisjxfA"
   },
   "source": [
    "To include residuals polygenic component (i.e. directly from genotypes to phenotypes, not mediated by omics features), you can additional hidden nodes in the middle layer (see example (o2)). This can also be achieved in a partial-connected neural network in a same manner.\n",
    "\n",
    "![](https://github.com/zhaotianjing/figures/blob/main/wiki_omics_residual.png?raw=true)"
   ]
  },
  {
   "cell_type": "markdown",
   "metadata": {
    "id": "KLPgnDHnj17f"
   },
   "source": [
    "### example(o2): fully-connected neural network with residuals"
   ]
  },
  {
   "cell_type": "markdown",
   "metadata": {
    "id": "ZFik2tgJj35S"
   },
   "source": [
    "For all individuals, this extra hidden node will be treated as unknown to be sampled."
   ]
  },
  {
   "cell_type": "code",
   "execution_count": null,
   "metadata": {
    "colab": {
     "base_uri": "https://localhost:8080/"
    },
    "id": "5Sft3sbmj8mh",
    "outputId": "c183472a-2051-4f48-d59b-18f078b7a337"
   },
   "outputs": [],
   "source": [
    "# Step 1: Load packages\n",
    "using JWAS,DataFrames,CSV,Statistics,JWAS.Datasets, Random, HTTP \n",
    "Random.seed!(123)\n",
    "\n",
    "# Step 2: Read data (from github)\n",
    "phenofile  = HTTP.get(\"https://raw.githubusercontent.com/zhaotianjing/nnmm_doc/main/data_simulation/y.csv\").body\n",
    "omicsfile  = HTTP.get(\"https://raw.githubusercontent.com/zhaotianjing/nnmm_doc/main/data_simulation/omics.csv\").body\n",
    "genofile   = HTTP.get(\"https://raw.githubusercontent.com/zhaotianjing/nnmm_doc/main/data_simulation/geno_n100_p200.csv\").body\n",
    "phenotypes = CSV.read(phenofile,DataFrame)\n",
    "omics      = CSV.read(omicsfile,DataFrame)\n",
    "geno_df    = CSV.read(genofile,DataFrame)\n",
    "\n",
    "insertcols!(omics, :residual => missing)  #create a hidden node to account for residuals\n",
    "omics[!,:residual] = convert(Vector{Union{Missing,Float64}}, omics[!,:residual]) #transform the datatype is required for Julia\n",
    "omics_names = names(omics)[2:end]  #get names of 10 omics and 1 hidden node\n",
    "insertcols!(omics,2,:y => phenotypes[:,:y], :bv => phenotypes[:,:bv]) #phenotype and omics should be in the same dataframe\n",
    "\n",
    "genotypes = get_genotypes(geno_df,separator=',',method=\"BayesC\")\n",
    "\n",
    "# Step 3: Build Model Equations\n",
    "model_equation  =\"y = intercept + genotypes\" \n",
    "model = build_model(model_equation,\n",
    "\t\t    num_hidden_nodes=11,   #10 omcis and 1 hidden node\n",
    "                    latent_traits=omics_names,\n",
    "\t\t    nonlinear_function=\"sigmoid\")\n",
    "\n",
    "# Step 4: Run Analysis\n",
    "out = runMCMC(model,omics,chain_length=5000,printout_model_info=false)\n",
    "\n",
    "# Step 5: Check Accuruacy\n",
    "results    = innerjoin(out[\"EBV_NonLinear\"], omics, on = :ID)\n",
    "accuruacy  = cor(results[!,:EBV],results[!,:bv])"
   ]
  },
  {
   "cell_type": "markdown",
   "metadata": {
    "id": "IkJ5afBajHfU"
   },
   "source": [
    "Users can also add extra hidden nodes in the partial-connected neural network. Please check next documentation for building a partial-connected neural network."
   ]
  },
  {
   "cell_type": "markdown",
   "metadata": {
    "id": "OH_Ju5ubi64H"
   },
   "source": [
    "### Output files"
   ]
  },
  {
   "cell_type": "markdown",
   "metadata": {
    "id": "ljLcdjJ2kEpj"
   },
   "source": [
    "Same as those described in Part2."
   ]
  },
  {
   "cell_type": "markdown",
   "metadata": {
    "id": "k21p3lxikHm9"
   },
   "source": [
    "### Julia Tips:"
   ]
  },
  {
   "cell_type": "markdown",
   "metadata": {
    "id": "bxte7OKDkIgF"
   },
   "source": [
    "* You may want to set missing values manually, for example, setting the phenotypes for individuals in testing dataset as `missing`. Firstly, the type of  columns should be changed to allow `missing`, e.g., `phenotypes[!,:y] =  convert(Vector{Union{Missing,Float64}}, phenotypes[!,:y])`. Then, `missing` can be set manually, e.g., `phenotypes[10:11,:y1] .= missing` forces the 10th and 11th elements to be `missing`."
   ]
  },
  {
   "cell_type": "markdown",
   "metadata": {
    "id": "IUdn28tEkNsG"
   },
   "source": [
    "## Part 4: Partial-connected neural networks"
   ]
  },
  {
   "cell_type": "markdown",
   "metadata": {
    "id": "xQ6oWZDmkONK"
   },
   "source": [
    "In partial-connected neural networks, SNPs can be divided into groups by users, and each group connects to its own intermediate trait in the middle layer.  Genotype groups should be loaded seperatly."
   ]
  },
  {
   "cell_type": "markdown",
   "metadata": {
    "id": "WHdQ4SegkQmJ"
   },
   "source": [
    "### example(c): partial-connected neural networks, all intemediate traits are unobserved"
   ]
  },
  {
   "cell_type": "markdown",
   "metadata": {
    "id": "gZ2GUlpBkSuq"
   },
   "source": [
    "- nonlinear function (to define relationship between middle layer and phenotye): tanh\n",
    "- number of nodes in the middle layer: 3\n",
    "- Bayesian model (to sample marker effects on intemediate traits): \n",
    "  - genotype group 1: single-trait BayesA\n",
    "  - genotype group 2: single-trait BayesB\n",
    "  - genotype group 3: single-trait BayesC\n",
    "- sample the unobserved intemediate traits in the middle layer: Hamiltonian Monte Carlo\n",
    "\n",
    "![](https://github.com/zhaotianjing/figures/blob/main/partial_example.png?raw=true)"
   ]
  },
  {
   "cell_type": "code",
   "execution_count": null,
   "metadata": {
    "colab": {
     "base_uri": "https://localhost:8080/"
    },
    "id": "kR0wLjaPkYhf",
    "outputId": "6797db6b-3e49-4a1a-f74c-5e94aaa0402d"
   },
   "outputs": [],
   "source": [
    "# Step 1: Load packages\n",
    "using JWAS,DataFrames,CSV,Statistics,JWAS.Datasets,Random\n",
    "Random.seed!(123)\n",
    "\n",
    "# Step 2: Read data\n",
    "phenofile   = dataset(\"phenotypes.csv\")       \n",
    "genofile1   = dataset(\"genotypes_group1.csv\")  #path of genotype group1\n",
    "genofile2   = dataset(\"genotypes_group2.csv\")  #path of genotype group2\n",
    "genofile3   = dataset(\"genotypes_group3.csv\")  #path of genotype group3\n",
    "\n",
    "phenotypes = CSV.read(phenofile,DataFrame,delim = ',',header=true,missingstrings=[\"NA\"])\n",
    "geno1  = get_genotypes(genofile1,separator=',',method=\"BayesA\");   #read genotype group1\n",
    "geno2  = get_genotypes(genofile2,separator=',',method=\"BayesB\");   #read genotype group2\n",
    "geno3  = get_genotypes(genofile3,separator=',',method=\"BayesC\");   #read genotype group3\n",
    "\n",
    "# Step 3: Build Model Equations\n",
    "model_equation = \"y1 = intercept + geno1 + geno2 + geno3\";  #middle node1=intercept + geno1\n",
    "                                                            #middle node2=intercept + geno2\n",
    "                                                            #middle node3=intercept + geno3\n",
    "model = build_model(model_equation,nonlinear_function=\"tanh\")\n",
    "\n",
    "# Step 4: Run Analysis\n",
    "out = runMCMC(model, phenotypes, chain_length=5000);\n",
    "\n",
    "# Step 5: Check Accuruacy\n",
    "results    = innerjoin(out[\"EBV_NonLinear\"], phenotypes, on = :ID)\n",
    "accuruacy  = cor(results[!,:EBV],results[!,:bv1])"
   ]
  },
  {
   "cell_type": "markdown",
   "metadata": {
    "id": "oYiLsR7zkb3-"
   },
   "source": [
    "### example(o3): partial-connected neural networks with intermediate omics data"
   ]
  },
  {
   "cell_type": "markdown",
   "metadata": {
    "id": "LxYHDXZwkeXX"
   },
   "source": [
    "* Same as for fully-connected neural network with intermediate omics data, the names of omics features should be put in the `build_model()` function through the `latent_traits` argument. The order of omics and the order of genotype groups in the model equation should be consistant.\n",
    "\n",
    "In below example, we assume genotype group i only affect omics i (here i =1,...,5).\n",
    "\n",
    "![](https://github.com/zhaotianjing/figures/blob/main/part4_partial_omics.png?raw=true)"
   ]
  },
  {
   "cell_type": "code",
   "execution_count": null,
   "metadata": {
    "colab": {
     "base_uri": "https://localhost:8080/"
    },
    "id": "YPZYWmMJkh0g",
    "outputId": "ee007542-583f-44f7-c84f-4b0ce988aa05"
   },
   "outputs": [],
   "source": [
    "# Step 1: Load packages\n",
    "using JWAS,DataFrames,CSV,Statistics,JWAS.Datasets,Random,HTTP \n",
    "Random.seed!(1)\n",
    "\n",
    "# Step 2: Read data\n",
    "phenofile  = HTTP.get(\"https://raw.githubusercontent.com/zhaotianjing/nnmm_doc/main/data_simulation/y.csv\").body\n",
    "omicsfile  = HTTP.get(\"https://raw.githubusercontent.com/zhaotianjing/nnmm_doc/main/data_simulation/omics.csv\").body\n",
    "\n",
    "genofile1   = HTTP.get(\"https://raw.githubusercontent.com/zhaotianjing/nnmm_doc/main/data_simulation/geno_group1.csv\").body\n",
    "genofile2   = HTTP.get(\"https://raw.githubusercontent.com/zhaotianjing/nnmm_doc/main/data_simulation/geno_group2.csv\").body\n",
    "genofile3   = HTTP.get(\"https://raw.githubusercontent.com/zhaotianjing/nnmm_doc/main/data_simulation/geno_group3.csv\").body\n",
    "genofile4   = HTTP.get(\"https://raw.githubusercontent.com/zhaotianjing/nnmm_doc/main/data_simulation/geno_group4.csv\").body\n",
    "genofile5   = HTTP.get(\"https://raw.githubusercontent.com/zhaotianjing/nnmm_doc/main/data_simulation/geno_group5.csv\").body\n",
    "\n",
    "phenotypes  = CSV.read(phenofile,DataFrame)\n",
    "omics       = CSV.read(omicsfile,DataFrame)[:,1:6] #only use first 5 omics for demonstration\n",
    "omics_names = names(omics)[2:end] #get names of omics\n",
    "insertcols!(omics,2,:y => phenotypes[:,:y], :bv => phenotypes[:,:bv]) #phenotype and omics should be in the same dataframe\n",
    "\n",
    "geno1_df    = CSV.read(genofile1,DataFrame)\n",
    "geno2_df    = CSV.read(genofile2,DataFrame)\n",
    "geno3_df    = CSV.read(genofile3,DataFrame)\n",
    "geno4_df    = CSV.read(genofile4,DataFrame)\n",
    "geno5_df    = CSV.read(genofile5,DataFrame)\n",
    "\n",
    "geno1  = get_genotypes(geno1_df,separator=',',method=\"BayesA\");\n",
    "geno2  = get_genotypes(geno2_df,separator=',',method=\"BayesB\");\n",
    "geno3  = get_genotypes(geno3_df,separator=',',method=\"BayesC\");\n",
    "geno4  = get_genotypes(geno4_df,separator=',',method=\"RR-BLUP\");\n",
    "geno5  = get_genotypes(geno5_df,separator=',',method=\"BayesL\");\n",
    "\n",
    "\n",
    "# Step 3: Build Model Equations\n",
    "model_equation = \"y = intercept + geno1 + geno2 + geno3 + geno4 + geno5\"; #omics1=intercept+geno1; omics2=intercept+geno2; ...\n",
    "model = build_model(model_equation,\n",
    "                    num_hidden_nodes=5,\n",
    "                    nonlinear_function=\"sigmoid\",\n",
    "                    latent_traits=omics_names)\n",
    "\n",
    "# Step 4: Run Analysis\n",
    "out = runMCMC(model, omics, chain_length=5000, printout_model_info=false);\n",
    "\n",
    "# Step 5: Check Accuruacy\n",
    "results    = innerjoin(out[\"EBV_NonLinear\"], omics, on = :ID)\n",
    "accuruacy  = cor(results[!,:EBV],results[!,:bv])"
   ]
  },
  {
   "cell_type": "markdown",
   "metadata": {
    "id": "iBMr-EAXkk8Q"
   },
   "source": [
    "## Part 5: User-defined relationship between middle layer (intermediate traits) and output layer (phenotype)"
   ]
  },
  {
   "cell_type": "markdown",
   "metadata": {
    "id": "ahTWnGRUkncR"
   },
   "source": [
    "* Firstly, a function should be pre-defined by user, where each function argument represents the input from a intermediate trait. For example, with two omics, we can have `myfunction(omics1,omics2) = sqrt(omics1^2 / (omics1^2 + omics2^2))`)\n",
    "* Then, put the name of the user-define function in the `nonlinear_function` arugument when build the model."
   ]
  },
  {
   "cell_type": "markdown",
   "metadata": {
    "id": "bDHz-3jQkpfY"
   },
   "source": [
    "### example(b): user-defined relationship between middle layer (intermediate traits) and output layer (phenotype)"
   ]
  },
  {
   "cell_type": "markdown",
   "metadata": {
    "id": "MIqvMgLXkrta"
   },
   "source": [
    "- number of nodes in the middle layer: 2\n",
    "- nonlinear function (to define relationship between middle nodes and phenotype): y = sqrt(x1^2 / (x1^2 + x2^2))\n",
    "- sample the missing omics in the middle layer: Matropolis-Hastings\n",
    "\n",
    "All the other code are the same as before, except Step 3: Build Model Equations. Note that user-defined relationship is supported in both fully-connected and partial-connected neural network. "
   ]
  },
  {
   "cell_type": "markdown",
   "metadata": {
    "id": "5PQkmteAkuDQ"
   },
   "source": [
    "\n",
    "```\n",
    "# Step 3: Build Model Equations\n",
    "myfunction(x1,x2) = sqrt(x1^2 / (x1^2 + x2^2))\n",
    "model = build_model(model_equation,\n",
    "                    num_hidden_nodes=2,\n",
    "                    nonlinear_function=myfunction);\n",
    "```"
   ]
  }
 ],
 "metadata": {
  "accelerator": "GPU",
  "colab": {
   "collapsed_sections": [],
   "name": "nnmm.ipynb",
   "provenance": []
  },
  "kernelspec": {
   "display_name": "Julia 1.7.3",
   "language": "julia",
   "name": "julia-1.7"
  },
  "language_info": {
   "file_extension": ".jl",
   "mimetype": "application/julia",
   "name": "julia",
   "version": "1.7.3"
  }
 },
 "nbformat": 4,
 "nbformat_minor": 2
}
