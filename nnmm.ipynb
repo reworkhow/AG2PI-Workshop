{
  "cells": [
    {
      "cell_type": "code",
      "execution_count": null,
      "metadata": {
        "colab": {
          "base_uri": "https://localhost:8080/"
        },
        "id": "GIeFXS0F0zww",
        "outputId": "b4a6bcfc-53c0-43e7-8cc9-db931a0856ec"
      },
      "outputs": [
        {
          "output_type": "stream",
          "name": "stdout",
          "text": [
            "Installing Julia 1.7.1 on the current Colab Runtime...\n",
            "2022-07-23 05:16:51 URL:https://storage.googleapis.com/julialang2/bin/linux/x64/1.7/julia-1.7.1-linux-x86_64.tar.gz [123374573/123374573] -> \"/tmp/julia.tar.gz\" [1]\n",
            "Installing Julia package IJulia...\n",
            "Installing Julia package CUDA...\n",
            "Installing IJulia kernel...\n",
            "\u001b[36m\u001b[1m[ \u001b[22m\u001b[39m\u001b[36m\u001b[1mInfo: \u001b[22m\u001b[39mInstalling julia kernelspec in /root/.local/share/jupyter/kernels/julia-1.7\n",
            "\n",
            "Successfully installed julia version 1.7.1!\n",
            "Please reload this page (press Ctrl+R, ⌘+R, or the F5 key) then\n",
            "jump to the 'Checking the Installation' section.\n"
          ]
        },
        {
          "output_type": "execute_result",
          "data": {
            "text/plain": [
              ""
            ]
          },
          "metadata": {},
          "execution_count": 1
        }
      ],
      "source": [
        "%%shell\n",
        "set -e\n",
        "\n",
        "#---------------------------------------------------#\n",
        "JULIA_VERSION=\"1.7.1\" # any version ≥ 0.7.0\n",
        "JULIA_PACKAGES=\"IJulia\"  # CSV DataFrames Random Statistics JWAS\n",
        "JULIA_PACKAGES_IF_GPU=\"CUDA\"\n",
        "JULIA_NUM_THREADS=4\n",
        "#---------------------------------------------------#\n",
        "\n",
        "if [ -n \"$COLAB_GPU\" ] && [ -z `which julia` ]; then\n",
        "  # Install Julia\n",
        "  JULIA_VER=`cut -d '.' -f -2 <<< \"$JULIA_VERSION\"`\n",
        "  echo \"Installing Julia $JULIA_VERSION on the current Colab Runtime...\"\n",
        "  BASE_URL=\"https://julialang-s3.julialang.org/bin/linux/x64\"\n",
        "  URL=\"$BASE_URL/$JULIA_VER/julia-$JULIA_VERSION-linux-x86_64.tar.gz\"\n",
        "  wget -nv $URL -O /tmp/julia.tar.gz # -nv means \"not verbose\"\n",
        "  tar -x -f /tmp/julia.tar.gz -C /usr/local --strip-components 1\n",
        "  rm /tmp/julia.tar.gz\n",
        "\n",
        "  # Install Packages\n",
        "  if [ \"$COLAB_GPU\" = \"1\" ]; then\n",
        "      JULIA_PACKAGES=\"$JULIA_PACKAGES $JULIA_PACKAGES_IF_GPU\"\n",
        "  fi\n",
        "  for PKG in `echo $JULIA_PACKAGES`; do\n",
        "    echo \"Installing Julia package $PKG...\"\n",
        "    julia -e 'using Pkg; pkg\"add '$PKG'; precompile;\"' &> /dev/null\n",
        "  done\n",
        "\n",
        "  # Install kernel and rename it to \"julia\"\n",
        "  echo \"Installing IJulia kernel...\"\n",
        "  julia -e 'using IJulia; IJulia.installkernel(\"julia\", env=Dict(\n",
        "      \"JULIA_NUM_THREADS\"=>\"'\"$JULIA_NUM_THREADS\"'\"))'\n",
        "  KERNEL_DIR=`julia -e \"using IJulia; print(IJulia.kerneldir())\"`\n",
        "  KERNEL_NAME=`ls -d \"$KERNEL_DIR\"/julia*`\n",
        "  mv -f $KERNEL_NAME \"$KERNEL_DIR\"/julia  \n",
        "\n",
        "  echo ''\n",
        "  echo \"Successfully installed `julia -v`!\"\n",
        "  echo \"Please reload this page (press Ctrl+R, ⌘+R, or the F5 key) then\"\n",
        "  echo \"jump to the 'Checking the Installation' section.\"\n",
        "fi"
      ]
    },
    {
      "cell_type": "code",
      "execution_count": null,
      "metadata": {
        "colab": {
          "base_uri": "https://localhost:8080/"
        },
        "id": "EEzvvzCl1i0F",
        "outputId": "20e48b31-4df3-4dd3-e001-eb577f259ebe"
      },
      "outputs": [
        {
          "output_type": "stream",
          "name": "stdout",
          "text": [
            "Julia Version 1.7.1\n",
            "Commit ac5cc99908 (2021-12-22 19:35 UTC)\n",
            "Platform Info:\n",
            "  OS: Linux (x86_64-pc-linux-gnu)\n",
            "  CPU: Intel(R) Xeon(R) CPU @ 2.20GHz\n",
            "  WORD_SIZE: 64\n",
            "  LIBM: libopenlibm\n",
            "  LLVM: libLLVM-12.0.1 (ORCJIT, broadwell)\n",
            "Environment:\n",
            "  JULIA_NUM_THREADS = 4\n"
          ]
        }
      ],
      "source": [
        "versioninfo()"
      ]
    },
    {
      "cell_type": "markdown",
      "source": [
        "# Mixed Effects Neural Networks NNMM"
      ],
      "metadata": {
        "id": "8TwZi87MiKld"
      }
    },
    {
      "cell_type": "markdown",
      "source": [
        "# Part1. introduction"
      ],
      "metadata": {
        "id": "hbDdRhb5iN4M"
      }
    },
    {
      "cell_type": "markdown",
      "source": [
        "## 1. Overview\n",
        "The Mixed Effects Neural Networks (NN-MM) extend linear mixed model (\"MM\") to multilayer neural networks (\"NN\") by adding one middle layer between genotype layer and phenotypes layer. Nodes in the middle layer represent intermediate traits, e.g., the known intermediate omics features such as gene expression levels can be incorporated in the middle layer. These three sequential layers form a unified network. \n",
        "\n",
        "![](https://github.com/zhaotianjing/figures/blob/main/omics_example.png?raw=true)\n",
        "\n",
        "NN-MM allow any patterns of missing data in the middle layer, and missing data will be sampled. In below figure, for an individual, the gene expression levels of the first two genes are 0.9 and 0.1, respectively, and the gene expression level of the last gene is missing to be sampled. The missing patterns of gene expression levels can be different for different individuals.\n",
        "\n"
      ],
      "metadata": {
        "id": "mPi_7NKfiQpq"
      }
    },
    {
      "cell_type": "markdown",
      "source": [
        "## 2. Extend linear mixed model to multilayer neural networks\n",
        "\n",
        "Multiple independent single-trait mixed models are used to model the relationships between input layer (genotypes) and middle layer (intermediate traits). Activation functions in the neural network are used to approximate the linear/nonlinear relationships between middle layer (intermediate traits) and output layer (phenotypes). Missing values in the middle layer (intermediate traits) are sampled by Hamiltonian Monte Carlo based on the upstream genotype layer and downstream phenotype layer.\n",
        "\n",
        "Details can be found in our publications:\n",
        "\n",
        "> * Tianjing Zhao, Jian Zeng, and Hao Cheng. Extend mixed models to multilayer neural networks for genomic prediction including intermediate omics data, GENETICS, 2022; [https://doi.org/10.1093/genetics/iyac034](https://doi.org/10.1093/genetics/iyac034). \n",
        "> * Tianjing Zhao, Rohan Fernando, and Hao Cheng. Interpretable artificial neural networks incorporating Bayesian alphabet models for genome-wide prediction and association studies, G3 Genes|Genomes|Genetics, 2021;  [https://doi.org/10.1093/g3journal/jkab228](https://doi.org/10.1093/g3journal/jkab228)"
      ],
      "metadata": {
        "id": "WVWP5cyNiWlm"
      }
    },
    {
      "cell_type": "markdown",
      "source": [
        "## 3. Flexibility\n",
        "\n",
        "NN-MM can fit fully-connected neural networks ((a),(b)), or partial-connected neural networks ((c),(d)). Also, the relationship between middle layer (intermediate traits) and output layer (phenotypes) can be based on activation functions ((a),(c)), or pre-defined by a user-defined function ((b),(d)).\n",
        "\n",
        "![](https://github.com/zhaotianjing/figures/blob/main/wiki_full_vs_partial.png?raw=true)"
      ],
      "metadata": {
        "id": "BhGi0jA7ig4K"
      }
    },
    {
      "cell_type": "markdown",
      "source": [
        "## 4. Multi-threaded parallelism\n",
        "\n",
        "By default, multiple single-trait models will be used to model the relationships between input layer (genotypes) and middle layer (intermediate traits). Multi-threaded parallelism will be used for parallel computing. The number of threads can be checked by running `Threads.nthreads()` in Julia. Usually, using multiple threads will be about 3 times faster than using a single thread.\n",
        "\n",
        "The number of execution threads is controlled by using the -t/--threads command-line argument (requires at least Julia 1.5). \n",
        "\n",
        "For example, to start Julia with 4 threads:\n",
        "\n",
        "```\n",
        "julia --threads 4\n",
        "```\n",
        "\n",
        "If you're using Juno via IDE like Atom, all threads will be loaded automatically. "
      ],
      "metadata": {
        "id": "3phfmF1bihnG"
      }
    },
    {
      "cell_type": "markdown",
      "source": [
        "# Part 2: Mixed effects neural network: Genotypes -> Unobserved intemediate traits -> Phenotyes"
      ],
      "metadata": {
        "id": "SRyIvW0uisY1"
      }
    },
    {
      "cell_type": "markdown",
      "source": [
        "Tips: please center the phenotypes to have zero mean."
      ],
      "metadata": {
        "id": "AzGsm1Hni0ap"
      }
    },
    {
      "cell_type": "markdown",
      "source": [
        "## Example(a): fully-connected neural networks, all intemediate traits are unobserved\n",
        "- nonlinear function (to define relationship between middle layer and phenotye): tanh (other supported activation functions: \"sigmoid\", \"relu\", \"leakyrelu\", \"linear\")\n",
        "- number of nodes in the middle layer: 3\n",
        "- Bayesian model: multiple independent single-trait BayesC (to sample marker effects on intemediate traits). Note, to use multi-trait Bayesian Alphabet models, please set `mega_trait=false` in `runMCMC()` function.\n",
        "- sample the unobserved intemediate traits in the middle layer: Hamiltonian Monte Carlo\n",
        "\n",
        "![](https://github.com/zhaotianjing/figures/blob/main/part2_example.png?raw=true)"
      ],
      "metadata": {
        "id": "KihgjX2Ui3Sd"
      }
    },
    {
      "cell_type": "code",
      "source": [
        "# Step 1: Load packages\n",
        "using JWAS,DataFrames,CSV,Statistics,JWAS.Datasets,Random\n",
        "Random.seed!(123)\n",
        "\n",
        "# Step 2: Read data \n",
        "phenofile  = dataset(\"phenotypes.csv\") #get example data path\n",
        "genofile   = dataset(\"genotypes.csv\")  #get example data path\n",
        "\n",
        "phenotypes = CSV.read(phenofile,DataFrame,delim = ',',header=true,missingstrings=[\"NA\"]) #read phenotypes (output layer)\n",
        "genotypes  = get_genotypes(genofile,separator=',',method=\"BayesC\");                      #read genotypes  (input layer)\n",
        "\n",
        "\n",
        "# Step 3: Build Model Equations \n",
        "model_equation  =\"y1 = intercept + genotypes\"  #name of phenotypes is \"y1\" in the phenotypes data\n",
        "                                               #name of genotypes is \"genotypes\" (user-defined in the previous step)\n",
        "                                               #the single-trait mixed model used between input and each node in middle layer is: middle node = intercept + genotypes\n",
        "model = build_model(model_equation,\n",
        "\t\t    num_hidden_nodes=3,            #number of nodes in middle layer is 3\n",
        "\t\t    nonlinear_function=\"tanh\");    #tanh function is used to approximate relationship between middle layer and phenotype\n",
        "\n",
        "\n",
        "# Step 4: Run Analysis\n",
        "out=runMCMC(model,phenotypes,chain_length=5000); \n",
        "\n",
        "# Step 5: Check Accuruacy\n",
        "results    = innerjoin(out[\"EBV_NonLinear\"], phenotypes, on = :ID) \n",
        "accuruacy  = cor(results[!,:EBV],results[!,:bv1])"
      ],
      "metadata": {
        "id": "8qHIYW7FjBYq",
        "outputId": "a0e607f1-4029-47ec-8848-45d5e0e81268",
        "colab": {
          "base_uri": "https://localhost:8080/"
        }
      },
      "execution_count": null,
      "outputs": [
        {
          "output_type": "stream",
          "name": "stderr",
          "text": [
            "\u001b[32mrunning MCMC ... 100%|███████████████████████████████████| Time: 0:00:47\u001b[39m\n"
          ]
        },
        {
          "output_type": "stream",
          "name": "stdout",
          "text": [
            "\u001b[32mThe delimiterd in genotypes.csv is ','. \u001b[39m\u001b[32mThe header (marker IDs) is provided in genotypes.csv.\u001b[39m\n",
            "\u001b[0m\u001b[1mMissing values (9.0) are replaced by column means.\u001b[22m\n",
            "\u001b[0m\u001b[1m59 loci which are fixed or have minor allele frequency < 0.01 are removed.\u001b[22m\n",
            "Genotype informatin:\n",
            "#markers: 941; #individuals: 60\n",
            "\u001b[32mBayesian Neural Network is used with following information: \u001b[39m\n",
            "\u001b[32m - Neural network:         fully connected neural network. \u001b[39m\n",
            "\u001b[32m - Number of hidden nodes: 3. \u001b[39m\n",
            "\u001b[32m - Nonlinear function:     tanh.\u001b[39m\n",
            "\u001b[32m - Sampler:                Hamiltonian Monte Carlo. \u001b[39m\n",
            "\u001b[32mThe folder results is created to save results.\u001b[39m\n",
            "\u001b[32mChecking genotypes...\u001b[39m\n",
            "\u001b[32mChecking phenotypes...\u001b[39m\n",
            "\u001b[32mIndividual IDs (strings) are provided in the first column of the phenotypic data.\u001b[39m\n",
            "\u001b[31mIn this complete genomic data (non-single-step) analyis, 40 phenotyped individuals are not genotyped. These are removed from the analysis.\u001b[39m\n",
            "\u001b[32mPredicted values for individuals of interest will be obtained as the summation of Any[] (Note that genomic data is always included for now).\u001b[39m\u001b[32mPhenotypes for 60 observations are used in the analysis.These individual IDs are saved in the file IDs_for_individuals_with_phenotypes.txt.\u001b[39m\n",
            "\u001b[32mPrior information for genomic variance is not provided and is generated from the data.\u001b[39m\n",
            "\u001b[32mPrior information for residual variance is not provided and is generated from the data.\u001b[39m\n",
            "\n",
            "\u001b[0mPi (Π) is not provided.\n",
            "\u001b[0mPi (Π) is generated assuming all markers have effects on all traits.\n",
            "\n",
            "The prior for marker effects covariance matrix is calculated from genetic covariance matrix and Π.\n",
            "The mean of the prior for the marker effects covariance matrix is:\n",
            " 0.003625  0.0       0.0\n",
            " 0.0       0.003625  0.0\n",
            " 0.0       0.0       0.003625\n",
            "\n",
            "\n",
            "\u001b[32m - Bayesian Alphabet:                multiple independent single-trait Bayesian models are used to sample marker effect. \u001b[39m\n",
            "\u001b[32m - Multi-threaded parallelism:       4 threads are used to run single-trait models in parallel. \u001b[39m\n",
            "\n",
            "\u001b[0m\u001b[1mA Linear Mixed Model was build using model equations:\u001b[22m\n",
            "\n",
            "y11=intercept + genotypes\n",
            "y12=intercept + genotypes\n",
            "y13=intercept + genotypes\n",
            "\n",
            "\u001b[0m\u001b[1mModel Information:\u001b[22m\n",
            "\n",
            "Term            C/F          F/R            nLevels\n",
            "intercept       factor       fixed                1\n",
            "\n",
            "\u001b[0m\u001b[1mMCMC Information:\u001b[22m\n",
            "\n",
            "chain_length                                   5000\n",
            "burnin                                            0\n",
            "starting_value                                 true\n",
            "printout_frequency                             5001\n",
            "output_samples_frequency                          5\n",
            "constraint                                     true\n",
            "missing_phenotypes                            false\n",
            "update_priors_frequency                           0\n",
            "seed                                          false\n",
            "\n",
            "\u001b[0m\u001b[1mHyper-parameters Information:\u001b[22m\n",
            "\n",
            "residual variances:           \n",
            " 1.247  0.0    0.0\n",
            " 0.0    1.247  0.0\n",
            " 0.0    0.0    1.247\n",
            "\n",
            "\u001b[0m\u001b[1mGenomic Information:\u001b[22m\n",
            "\n",
            "complete genomic data (i.e., non-single-step analysis)\n",
            "\n",
            "Genomic Category                          genotypes\n",
            "Method                                       BayesC\n",
            "genetic variances (genomic):  \n",
            " 1.247  0.0    0.0\n",
            " 0.0    1.247  0.0\n",
            " 0.0    0.0    1.247\n",
            "marker effect variances:      \n",
            " 0.004  0.0    0.0\n",
            " 0.0    0.004  0.0\n",
            " 0.0    0.0    0.004\n",
            "\n",
            "Π: (Y(yes):included; N(no):excluded)\n",
            "\n",
            "[\"y11\", \"y12\", \"y13\"]         probability\n",
            "[\"N\", \"Y\", \"N\"]                 0.0\n",
            "[\"Y\", \"N\", \"Y\"]                 0.0\n",
            "[\"N\", \"N\", \"Y\"]                 0.0\n",
            "[\"Y\", \"N\", \"N\"]                 0.0\n",
            "[\"N\", \"N\", \"N\"]                 0.0\n",
            "[\"Y\", \"Y\", \"Y\"]                 1.0\n",
            "[\"N\", \"Y\", \"Y\"]                 0.0\n",
            "[\"Y\", \"Y\", \"N\"]                 0.0\n",
            "\n",
            "estimatePi                                     true\n",
            "estimateScale                                 false\n",
            "\n",
            "\u001b[0m\u001b[1mDegree of freedom for hyper-parameters:\u001b[22m\n",
            "\n",
            "residual variances:                           4.000\n",
            "marker effect variances:                      4.000\n",
            "\n",
            "\n",
            "\n",
            "\u001b[32mThe file results/MCMC_samples_residual_variance.txt is created to save MCMC samples for residual_variance.\u001b[39m\n",
            "\u001b[32mThe file results/MCMC_samples_marker_effects_genotypes_y11.txt is created to save MCMC samples for marker_effects_genotypes_y11.\u001b[39m\n",
            "\u001b[32mThe file results/MCMC_samples_marker_effects_genotypes_y12.txt is created to save MCMC samples for marker_effects_genotypes_y12.\u001b[39m\n",
            "\u001b[32mThe file results/MCMC_samples_marker_effects_genotypes_y13.txt is created to save MCMC samples for marker_effects_genotypes_y13.\u001b[39m\n",
            "\u001b[32mThe file results/MCMC_samples_marker_effects_variances_genotypes.txt is created to save MCMC samples for marker_effects_variances_genotypes.\u001b[39m\n",
            "\u001b[32mThe file results/MCMC_samples_pi_genotypes.txt is created to save MCMC samples for pi_genotypes.\u001b[39m\n",
            "\u001b[32mThe file results/MCMC_samples_EBV_y11.txt is created to save MCMC samples for EBV_y11.\u001b[39m\n",
            "\u001b[32mThe file results/MCMC_samples_EBV_y12.txt is created to save MCMC samples for EBV_y12.\u001b[39m\n",
            "\u001b[32mThe file results/MCMC_samples_EBV_y13.txt is created to save MCMC samples for EBV_y13.\u001b[39m\n",
            "\u001b[32mThe file results/MCMC_samples_genetic_variance.txt is created to save MCMC samples for genetic_variance.\u001b[39m\n",
            "\u001b[32mThe file results/MCMC_samples_heritability.txt is created to save MCMC samples for heritability.\u001b[39m\n",
            "\u001b[32mThe file results/MCMC_samples_EBV_NonLinear.txt is created to save MCMC samples for EBV_NonLinear.\u001b[39m\n",
            "\u001b[32mThe file results/MCMC_samples_neural_networks_bias_and_weights.txt is created to save MCMC samples for neural_networks_bias_and_weights.\u001b[39m\n",
            "\n",
            "\n",
            "\u001b[0m\u001b[1mThe version of Julia and Platform in use:\u001b[22m\n",
            "\n",
            "Julia Version 1.7.1\n",
            "Commit ac5cc99908 (2021-12-22 19:35 UTC)\n",
            "Platform Info:\n",
            "  OS: Linux (x86_64-pc-linux-gnu)\n",
            "  CPU: Intel(R) Xeon(R) CPU @ 2.20GHz\n",
            "  WORD_SIZE: 64\n",
            "  LIBM: libopenlibm\n",
            "  LLVM: libLLVM-12.0.1 (ORCJIT, broadwell)\n",
            "Environment:\n",
            "  JULIA_NUM_THREADS = 4\n",
            "\n",
            "\n",
            "\u001b[0m\u001b[1mThe analysis has finished. Results are saved in the returned \u001b[22m\u001b[0m\u001b[1mvariable and text files. MCMC samples are saved in text files.\u001b[22m\n",
            "\n",
            "\n"
          ]
        },
        {
          "output_type": "execute_result",
          "data": {
            "text/plain": [
              "0.6901375998176583"
            ]
          },
          "metadata": {},
          "execution_count": 2
        }
      ]
    },
    {
      "cell_type": "markdown",
      "source": [
        "## Example output files\n",
        "\n",
        "The i-th middle nodes will be named as \"trait name\"+\"i\". In our example, the observed trait is named \"y1\", and there are 3 middle nodes, so the middle nodes are named as \"y11\", \"y12\", and \"y13\", respectively.\n",
        "\n",
        "Below is a list of files containing estimates and standard deviations for variables of interest. \n",
        "\n",
        "| file name      | description |\n",
        "| -----------    | ----------- |\n",
        "| EBV_NonLinear.txt | estimated breeding values for observed trait  |\n",
        "| EBV_y11.txt       | estimated breeding values for middle node 1      |\n",
        "| EBV_y12.txt       | estimated breeding values for middle node 2      |\n",
        "| EBV_y13.txt       | estimated breeding values for middle node 3      |\n",
        "|genetic_variance.txt                   | estimated genetic variance-covariance of all middle nodes |\n",
        "|heritability.txt                       | estimated heritability of all middle nodes                |\n",
        "|location_parameters.txt                | estimated bias of all middle nodes                        |\n",
        "|neural_networks_bias_and_weights.txt.  | estimated bias of phenotypes and weights between middle nodes and phenotypes|\n",
        "|pi_genotypes.txt                       | estimated pi of all middle nodes                          | \n",
        "|marker_effects_genotypes.txt           | estimated marker effects of all middle nodes              |\n",
        "|residual_variance.txt                  | estimated residual variance-covariance for all middle nodes| \n",
        "\n",
        "Below is a list of files containing MCMC samples for variables of interest. \n",
        "\n",
        "| file name      | description |\n",
        "| -----------    | ----------- |\n",
        "| MCMC_samples_EBV_NonLinear.txt     | MCMC samples from the posterior distribution of breeding values for phenotypes  |\n",
        "| MCMC_samples_EBV_y11.txt     | MCMC samples from the posterior distribution of breeding values for middle node 1       |\n",
        "| MCMC_samples_EBV_y12.txt     | MCMC samples from the posterior distribution of breeding values for middle node 2       |\n",
        "| MCMC_samples_EBV_y13.txt     | MCMC samples from the posterior distribution of breeding values for middle node 3       |\n",
        "|MCMC_samples_genetic_variance.txt                   | MCMC samples from the posterior distribution of genetic variance-covariance for all middle nodes   |\n",
        "|MCMC_samples_heritability.txt                       | MCMC samples from the posterior distribution of heritability for all middle nodes                                | \n",
        "|MCMC_samples_marker_effects_genotypes_y11            |MCMC samples from the posterior distribution of marker effects for middle node 1           |\n",
        "|MCMC_samples_marker_effects_genotypes_y12            |MCMC samples from the posterior distribution of marker effects for middle node 2           |\n",
        "|MCMC_samples_marker_effects_genotypes_y13            |MCMC samples from the posterior distribution of marker effects for middle node 3           |\n",
        "|MCMC_samples_marker_effects_variances_genotypes.txt | MCMC samples from the posterior distribution of marker effect variance for all middle nodes        |\n",
        "|MCMC_samples_neural_networks_bias_and_weights.txt.  | MCMC samples from the posterior distribution of bias of observed trait and weights between middle nodes and phenotypes|\n",
        "|MCMC_samples_pi_genotypes.txt                       | MCMC samples from the posterior distribution of pi for all middle nodes                                          |\n",
        "|MCMC_samples_residual_variance.txt                  |  MCMC samples from the posterior distribution of residual variance-covariance for all middle nodes |"
      ],
      "metadata": {
        "id": "pZY0NQpOjDyQ"
      }
    },
    {
      "cell_type": "markdown",
      "source": [
        "# Part 3: Mixed effects neural network: Genotypes -> (complete/incomplete) Intemediate omics features -> Phenotyes"
      ],
      "metadata": {
        "id": "MfgOn5-wjf9x"
      }
    },
    {
      "cell_type": "markdown",
      "source": [
        "Tips:\n",
        "* Put the names of omics features in the `build_model()` function through the `latent_traits` argument.\n",
        "* If there are many omics features (e.g., 1000), it is recommanded to set `printout_model_info=false` in the `runMCMC()` function.\n",
        "* Missing omics data for individuals in the training dataset (i.e., individuals with phenotypes) is allowed. When you read a file with missing values via the `CSV.read()` function, the `missingstrings` argument should be used to set sentinel values that will be parsed as `missing`.\n",
        "* For individuals in the testing dataset (i.e., individuals without phenotypes), if the testing individuals have complete omics data, then incorporating the omics data of those individuals may improve the relationship between input layer (genotype) and middle layer (omics)."
      ],
      "metadata": {
        "id": "m9Zb05i5jiWt"
      }
    },
    {
      "cell_type": "markdown",
      "source": [
        "## example(o1): fully-connected neural networks with observed intemediate omics features"
      ],
      "metadata": {
        "id": "yAwP8SSBjk_d"
      }
    },
    {
      "cell_type": "markdown",
      "source": [
        "* nonlinear function (to define relationship between omics and phenotye): sigmoid (other supported activation functions: \"tanh\", \"relu\", \"leakyrelu\", \"linear\")\n",
        "* number of omics features in the middle layer: 10\n",
        "* Bayesian model: multiple independent single-trait BayesC (to sample marker effects on intemediate omics)\n",
        "* sample the missing omics in the middle layer: Hamiltonian Monte Carlo\n",
        "\n",
        "![](https://github.com/zhaotianjing/figures/blob/main/part3_example.png?raw=true)\n"
      ],
      "metadata": {
        "id": "tBZ9Ck7Fjpuj"
      }
    },
    {
      "cell_type": "code",
      "source": [
        "# Step 1: Load packages\n",
        "using JWAS,DataFrames,CSV,Statistics,JWAS.Datasets, Random, HTTP #HTTP to download demo data from github\n",
        "Random.seed!(123)\n",
        "\n",
        "# Step 2: Read data (from github)\n",
        "phenofile  = HTTP.get(\"https://raw.githubusercontent.com/zhaotianjing/nnmm_doc/main/data_simulation/y.csv\").body;\n",
        "omicsfile  = HTTP.get(\"https://raw.githubusercontent.com/zhaotianjing/nnmm_doc/main/data_simulation/omics.csv\").body;\n",
        "genofile   = HTTP.get(\"https://raw.githubusercontent.com/zhaotianjing/nnmm_doc/main/data_simulation/geno_n100_p200.csv\").body;\n",
        "phenotypes = CSV.read(phenofile,DataFrame);\n",
        "omics      = CSV.read(omicsfile,DataFrame);\n",
        "geno_df    = CSV.read(genofile,DataFrame);\n",
        "\n",
        "omics_names = names(omics)[2:end];  #get names of omics\n",
        "insertcols!(omics,2,:y => phenotypes[:,:y], :bv => phenotypes[:,:bv]); #phenotype and omics should be in the same dataframe\n",
        "\n",
        "genotypes = get_genotypes(geno_df,separator=',',method=\"BayesC\");\n",
        "\n",
        "# Step 3: Build Model Equations\n",
        "model_equation  =\"y = intercept + genotypes\" #name of phenotypes is \"y\"\n",
        "                                             #name of genotypes is \"genotypes\" (user-defined in the previous step)\n",
        "                                             #the single-trait mixed model used between input and each omics is: omics = intercept + genotypes\n",
        "model = build_model(model_equation,\n",
        "\t\t    num_hidden_nodes=10,          #number of omics in middle layer is 3\n",
        "                    latent_traits=omics_names,    #name of all omics\n",
        "\t\t    nonlinear_function=\"sigmoid\"); #sigmoid function is used to approximate relationship between omics and phenotypes\n",
        "\n",
        "# Step 4: Run Analysis\n",
        "out=runMCMC(model, omics, chain_length=5000, printout_model_info=false);\n",
        "\n",
        "# Step 5: Check Accuruacy\n",
        "results    = innerjoin(out[\"EBV_NonLinear\"], omics, on = :ID);\n",
        "accuruacy  = cor(results[!,:EBV],results[!,:bv])"
      ],
      "metadata": {
        "id": "xq_-NevmjsEo",
        "outputId": "33f8dd8a-9661-43b1-b576-967923fbf28c",
        "colab": {
          "base_uri": "https://localhost:8080/"
        }
      },
      "execution_count": null,
      "outputs": [
        {
          "output_type": "stream",
          "name": "stderr",
          "text": [
            "\u001b[32mrunning MCMC ... 100%|███████████████████████████████████| Time: 0:00:39\u001b[39m\n"
          ]
        },
        {
          "output_type": "stream",
          "name": "stdout",
          "text": [
            "The first column in the dataframe should be individual IDs.\n",
            "The data type of markers should be Number.\n",
            "\u001b[0m\u001b[1mMissing values (9.0) are replaced by column means.\u001b[22m\n",
            "\u001b[0m\u001b[1m3 loci which are fixed or have minor allele frequency < 0.01 are removed.\u001b[22m\n",
            "Genotype informatin:\n",
            "#markers: 197; #individuals: 100\n",
            "\u001b[32mBayesian Neural Network is used with following information: \u001b[39m\n",
            "\u001b[32m - Neural network:         fully connected neural network. \u001b[39m\n",
            "\u001b[32m - Number of hidden nodes: 10. \u001b[39m\n",
            "\u001b[32m - Nonlinear function:     sigmoid.\u001b[39m\n",
            "\u001b[32m - Sampler:                Hamiltonian Monte Carlo. \u001b[39m\n",
            "\u001b[32m - Omics data:             10 intermediate omics features are included.\u001b[39m\n",
            "\u001b[31mThe folder results already exists.\u001b[39m\n",
            "\u001b[32mThe folder results1 is created to save results.\u001b[39m\n",
            "\u001b[32mChecking genotypes...\u001b[39m\n",
            "\u001b[32mChecking phenotypes...\u001b[39m\n",
            "\u001b[32mIndividual IDs (strings) are provided in the first column of the phenotypic data.\u001b[39m\n",
            "\u001b[32mPredicted values for individuals of interest will be obtained as the summation of Any[] (Note that genomic data is always included for now).\u001b[39m\u001b[32mPhenotypes for 100 observations are used in the analysis.These individual IDs are saved in the file IDs_for_individuals_with_phenotypes.txt.\u001b[39m\n",
            "\u001b[32mPrior information for genomic variance is not provided and is generated from the data.\u001b[39m\n",
            "\u001b[32mPrior information for residual variance is not provided and is generated from the data.\u001b[39m\n",
            "\n",
            "\u001b[0mPi (Π) is not provided.\n",
            "\u001b[0mPi (Π) is generated assuming all markers have effects on all traits.\n",
            "\n",
            "The prior for marker effects covariance matrix is calculated from genetic covariance matrix and Π.\n",
            "The mean of the prior for the marker effects covariance matrix is:\n",
            "\n",
            "\n",
            "\n",
            "\u001b[32m - Bayesian Alphabet:                multiple independent single-trait Bayesian models are used to sample marker effect. \u001b[39m\n",
            "\u001b[32m - Multi-threaded parallelism:       4 threads are used to run single-trait models in parallel. \u001b[39m\n",
            "\n",
            "\u001b[0m\u001b[1mA Linear Mixed Model was build using model equations:\u001b[22m\n",
            "\n",
            "y1=intercept + genotypes\n",
            "y2=intercept + genotypes\n",
            "y3=intercept + genotypes\n",
            "y4=intercept + genotypes\n",
            "y5=intercept + genotypes\n",
            "y6=intercept + genotypes\n",
            "y7=intercept + genotypes\n",
            "y8=intercept + genotypes\n",
            "y9=intercept + genotypes\n",
            "y10=intercept + genotypes\n",
            "\n",
            "\u001b[0m\u001b[1mModel Information:\u001b[22m\n",
            "\n",
            "Term            C/F          F/R            nLevels\n",
            "intercept       factor       fixed                1\n",
            "\n",
            "\u001b[32mThe file results1/MCMC_samples_residual_variance.txt is created to save MCMC samples for residual_variance.\u001b[39m\n",
            "\u001b[32mThe file results1/MCMC_samples_marker_effects_genotypes_omics1.txt is created to save MCMC samples for marker_effects_genotypes_omics1.\u001b[39m\n",
            "\u001b[32mThe file results1/MCMC_samples_marker_effects_genotypes_omics2.txt is created to save MCMC samples for marker_effects_genotypes_omics2.\u001b[39m\n",
            "\u001b[32mThe file results1/MCMC_samples_marker_effects_genotypes_omics3.txt is created to save MCMC samples for marker_effects_genotypes_omics3.\u001b[39m\n",
            "\u001b[32mThe file results1/MCMC_samples_marker_effects_genotypes_omics4.txt is created to save MCMC samples for marker_effects_genotypes_omics4.\u001b[39m\n",
            "\u001b[32mThe file results1/MCMC_samples_marker_effects_genotypes_omics5.txt is created to save MCMC samples for marker_effects_genotypes_omics5.\u001b[39m\n",
            "\u001b[32mThe file results1/MCMC_samples_marker_effects_genotypes_omics6.txt is created to save MCMC samples for marker_effects_genotypes_omics6.\u001b[39m\n",
            "\u001b[32mThe file results1/MCMC_samples_marker_effects_genotypes_omics7.txt is created to save MCMC samples for marker_effects_genotypes_omics7.\u001b[39m\n",
            "\u001b[32mThe file results1/MCMC_samples_marker_effects_genotypes_omics8.txt is created to save MCMC samples for marker_effects_genotypes_omics8.\u001b[39m\n",
            "\u001b[32mThe file results1/MCMC_samples_marker_effects_genotypes_omics9.txt is created to save MCMC samples for marker_effects_genotypes_omics9.\u001b[39m\n",
            "\u001b[32mThe file results1/MCMC_samples_marker_effects_genotypes_omics10.txt is created to save MCMC samples for marker_effects_genotypes_omics10.\u001b[39m\n",
            "\u001b[32mThe file results1/MCMC_samples_marker_effects_variances_genotypes.txt is created to save MCMC samples for marker_effects_variances_genotypes.\u001b[39m\n",
            "\u001b[32mThe file results1/MCMC_samples_pi_genotypes.txt is created to save MCMC samples for pi_genotypes.\u001b[39m\n",
            "\u001b[32mThe file results1/MCMC_samples_EBV_omics1.txt is created to save MCMC samples for EBV_omics1.\u001b[39m\n",
            "\u001b[32mThe file results1/MCMC_samples_EBV_omics2.txt is created to save MCMC samples for EBV_omics2.\u001b[39m\n",
            "\u001b[32mThe file results1/MCMC_samples_EBV_omics3.txt is created to save MCMC samples for EBV_omics3.\u001b[39m\n",
            "\u001b[32mThe file results1/MCMC_samples_EBV_omics4.txt is created to save MCMC samples for EBV_omics4.\u001b[39m\n",
            "\u001b[32mThe file results1/MCMC_samples_EBV_omics5.txt is created to save MCMC samples for EBV_omics5.\u001b[39m\n",
            "\u001b[32mThe file results1/MCMC_samples_EBV_omics6.txt is created to save MCMC samples for EBV_omics6.\u001b[39m\n",
            "\u001b[32mThe file results1/MCMC_samples_EBV_omics7.txt is created to save MCMC samples for EBV_omics7.\u001b[39m\n",
            "\u001b[32mThe file results1/MCMC_samples_EBV_omics8.txt is created to save MCMC samples for EBV_omics8.\u001b[39m\n",
            "\u001b[32mThe file results1/MCMC_samples_EBV_omics9.txt is created to save MCMC samples for EBV_omics9.\u001b[39m\n",
            "\u001b[32mThe file results1/MCMC_samples_EBV_omics10.txt is created to save MCMC samples for EBV_omics10.\u001b[39m\n",
            "\u001b[32mThe file results1/MCMC_samples_genetic_variance.txt is created to save MCMC samples for genetic_variance.\u001b[39m\n",
            "\u001b[32mThe file results1/MCMC_samples_heritability.txt is created to save MCMC samples for heritability.\u001b[39m\n",
            "\u001b[32mThe file results1/MCMC_samples_EBV_NonLinear.txt is created to save MCMC samples for EBV_NonLinear.\u001b[39m\n",
            "\u001b[32mThe file results1/MCMC_samples_neural_networks_bias_and_weights.txt is created to save MCMC samples for neural_networks_bias_and_weights.\u001b[39m\n",
            "\n",
            "\n",
            "\u001b[0m\u001b[1mThe version of Julia and Platform in use:\u001b[22m\n",
            "\n",
            "Julia Version 1.7.1\n",
            "Commit ac5cc99908 (2021-12-22 19:35 UTC)\n",
            "Platform Info:\n",
            "  OS: Linux (x86_64-pc-linux-gnu)\n",
            "  CPU: Intel(R) Xeon(R) CPU @ 2.20GHz\n",
            "  WORD_SIZE: 64\n",
            "  LIBM: libopenlibm\n",
            "  LLVM: libLLVM-12.0.1 (ORCJIT, broadwell)\n",
            "Environment:\n",
            "  JULIA_NUM_THREADS = 4\n",
            "\n",
            "\n",
            "\u001b[0m\u001b[1mThe analysis has finished. Results are saved in the returned \u001b[22m\u001b[0m\u001b[1mvariable and text files. MCMC samples are saved in text files.\u001b[22m\n",
            "\n",
            "\n"
          ]
        },
        {
          "output_type": "execute_result",
          "data": {
            "text/plain": [
              "0.8093959363681122"
            ]
          },
          "metadata": {},
          "execution_count": 3
        }
      ]
    },
    {
      "cell_type": "markdown",
      "source": [
        "## Includes a residual that is not mediated by other omics features"
      ],
      "metadata": {
        "id": "FHKhNZhNjw0i"
      }
    },
    {
      "cell_type": "markdown",
      "source": [
        "To include residuals polygenic component (i.e. directly from genotypes to phenotypes, not mediated by omics features), you can additional hidden nodes in the middle layer (see example (o2)). This can also be achieved in a partial-connected neural network in a same manner.\n",
        "\n",
        "![](https://github.com/zhaotianjing/figures/blob/main/wiki_omics_residual.png?raw=true)"
      ],
      "metadata": {
        "id": "tujNalisjxfA"
      }
    },
    {
      "cell_type": "markdown",
      "source": [
        "### example(o2): fully-connected neural network with residuals"
      ],
      "metadata": {
        "id": "KLPgnDHnj17f"
      }
    },
    {
      "cell_type": "markdown",
      "source": [
        "For all individuals, this extra hidden node will be treated as unknown to be sampled."
      ],
      "metadata": {
        "id": "ZFik2tgJj35S"
      }
    },
    {
      "cell_type": "code",
      "source": [
        "# Step 1: Load packages\n",
        "using JWAS,DataFrames,CSV,Statistics,JWAS.Datasets, Random, HTTP \n",
        "Random.seed!(123)\n",
        "\n",
        "# Step 2: Read data (from github)\n",
        "phenofile  = HTTP.get(\"https://raw.githubusercontent.com/zhaotianjing/nnmm_doc/main/data_simulation/y.csv\").body\n",
        "omicsfile  = HTTP.get(\"https://raw.githubusercontent.com/zhaotianjing/nnmm_doc/main/data_simulation/omics.csv\").body\n",
        "genofile   = HTTP.get(\"https://raw.githubusercontent.com/zhaotianjing/nnmm_doc/main/data_simulation/geno_n100_p200.csv\").body\n",
        "phenotypes = CSV.read(phenofile,DataFrame)\n",
        "omics      = CSV.read(omicsfile,DataFrame)\n",
        "geno_df    = CSV.read(genofile,DataFrame)\n",
        "\n",
        "insertcols!(omics, :residual => missing)  #create a hidden node to account for residuals\n",
        "omics[!,:residual] = convert(Vector{Union{Missing,Float64}}, omics[!,:residual]) #transform the datatype is required for Julia\n",
        "omics_names = names(omics)[2:end]  #get names of 10 omics and 1 hidden node\n",
        "insertcols!(omics,2,:y => phenotypes[:,:y], :bv => phenotypes[:,:bv]) #phenotype and omics should be in the same dataframe\n",
        "\n",
        "genotypes = get_genotypes(geno_df,separator=',',method=\"BayesC\")\n",
        "\n",
        "# Step 3: Build Model Equations\n",
        "model_equation  =\"y = intercept + genotypes\" \n",
        "model = build_model(model_equation,\n",
        "\t\t    num_hidden_nodes=11,   #10 omcis and 1 hidden node\n",
        "                    latent_traits=omics_names,\n",
        "\t\t    nonlinear_function=\"sigmoid\")\n",
        "\n",
        "# Step 4: Run Analysis\n",
        "out = runMCMC(model,omics,chain_length=5000,printout_model_info=false)\n",
        "\n",
        "# Step 5: Check Accuruacy\n",
        "results    = innerjoin(out[\"EBV_NonLinear\"], omics, on = :ID)\n",
        "accuruacy  = cor(results[!,:EBV],results[!,:bv])"
      ],
      "metadata": {
        "id": "5Sft3sbmj8mh",
        "outputId": "c183472a-2051-4f48-d59b-18f078b7a337",
        "colab": {
          "base_uri": "https://localhost:8080/"
        }
      },
      "execution_count": null,
      "outputs": [
        {
          "output_type": "stream",
          "name": "stderr",
          "text": [
            "\u001b[32mrunning MCMC ... 100%|███████████████████████████████████| Time: 0:00:42\u001b[39m\n"
          ]
        },
        {
          "output_type": "stream",
          "name": "stdout",
          "text": [
            "The first column in the dataframe should be individual IDs.\n",
            "The data type of markers should be Number.\n",
            "\u001b[0m\u001b[1mMissing values (9.0) are replaced by column means.\u001b[22m\n",
            "\u001b[0m\u001b[1m3 loci which are fixed or have minor allele frequency < 0.01 are removed.\u001b[22m\n",
            "Genotype informatin:\n",
            "#markers: 197; #individuals: 100\n",
            "\u001b[32mBayesian Neural Network is used with following information: \u001b[39m\n",
            "\u001b[32m - Neural network:         fully connected neural network. \u001b[39m\n",
            "\u001b[32m - Number of hidden nodes: 11. \u001b[39m\n",
            "\u001b[32m - Nonlinear function:     sigmoid.\u001b[39m\n",
            "\u001b[32m - Sampler:                Hamiltonian Monte Carlo. \u001b[39m\n",
            "\u001b[32m - Omics data:             11 intermediate omics features are included.\u001b[39m\n",
            "\u001b[31mThe folder results already exists.\u001b[39m\n",
            "\u001b[31mThe folder results1 already exists.\u001b[39m\n",
            "\u001b[32mThe folder results2 is created to save results.\u001b[39m\n",
            "\u001b[32mChecking genotypes...\u001b[39m\n",
            "\u001b[32mChecking phenotypes...\u001b[39m\n",
            "\u001b[32mIndividual IDs (strings) are provided in the first column of the phenotypic data.\u001b[39m\n",
            "\u001b[32mPredicted values for individuals of interest will be obtained as the summation of Any[] (Note that genomic data is always included for now).\u001b[39m\u001b[32mPhenotypes for 100 observations are used in the analysis.These individual IDs are saved in the file IDs_for_individuals_with_phenotypes.txt.\u001b[39m\n",
            "\u001b[32mPrior information for genomic variance is not provided and is generated from the data.\u001b[39m\n",
            "\u001b[32mPrior information for residual variance is not provided and is generated from the data.\u001b[39m\n",
            "\n",
            "\u001b[0mPi (Π) is not provided.\n",
            "\u001b[0mPi (Π) is generated assuming all markers have effects on all traits.\n",
            "\n",
            "The prior for marker effects covariance matrix is calculated from genetic covariance matrix and Π.\n",
            "The mean of the prior for the marker effects covariance matrix is:\n",
            "\n",
            "\n",
            "\n",
            "\u001b[32m - Bayesian Alphabet:                multiple independent single-trait Bayesian models are used to sample marker effect. \u001b[39m\n",
            "\u001b[32m - Multi-threaded parallelism:       4 threads are used to run single-trait models in parallel. \u001b[39m\n",
            "\n",
            "\u001b[0m\u001b[1mA Linear Mixed Model was build using model equations:\u001b[22m\n",
            "\n",
            "y1=intercept + genotypes\n",
            "y2=intercept + genotypes\n",
            "y3=intercept + genotypes\n",
            "y4=intercept + genotypes\n",
            "y5=intercept + genotypes\n",
            "y6=intercept + genotypes\n",
            "y7=intercept + genotypes\n",
            "y8=intercept + genotypes\n",
            "y9=intercept + genotypes\n",
            "y10=intercept + genotypes\n",
            "y11=intercept + genotypes\n",
            "\n",
            "\u001b[0m\u001b[1mModel Information:\u001b[22m\n",
            "\n",
            "Term            C/F          F/R            nLevels\n",
            "intercept       factor       fixed                1\n",
            "\n",
            "\u001b[32mThe file results2/MCMC_samples_residual_variance.txt is created to save MCMC samples for residual_variance.\u001b[39m\n",
            "\u001b[32mThe file results2/MCMC_samples_marker_effects_genotypes_omics1.txt is created to save MCMC samples for marker_effects_genotypes_omics1.\u001b[39m\n",
            "\u001b[32mThe file results2/MCMC_samples_marker_effects_genotypes_omics2.txt is created to save MCMC samples for marker_effects_genotypes_omics2.\u001b[39m\n",
            "\u001b[32mThe file results2/MCMC_samples_marker_effects_genotypes_omics3.txt is created to save MCMC samples for marker_effects_genotypes_omics3.\u001b[39m\n",
            "\u001b[32mThe file results2/MCMC_samples_marker_effects_genotypes_omics4.txt is created to save MCMC samples for marker_effects_genotypes_omics4.\u001b[39m\n",
            "\u001b[32mThe file results2/MCMC_samples_marker_effects_genotypes_omics5.txt is created to save MCMC samples for marker_effects_genotypes_omics5.\u001b[39m\n",
            "\u001b[32mThe file results2/MCMC_samples_marker_effects_genotypes_omics6.txt is created to save MCMC samples for marker_effects_genotypes_omics6.\u001b[39m\n",
            "\u001b[32mThe file results2/MCMC_samples_marker_effects_genotypes_omics7.txt is created to save MCMC samples for marker_effects_genotypes_omics7.\u001b[39m\n",
            "\u001b[32mThe file results2/MCMC_samples_marker_effects_genotypes_omics8.txt is created to save MCMC samples for marker_effects_genotypes_omics8.\u001b[39m\n",
            "\u001b[32mThe file results2/MCMC_samples_marker_effects_genotypes_omics9.txt is created to save MCMC samples for marker_effects_genotypes_omics9.\u001b[39m\n",
            "\u001b[32mThe file results2/MCMC_samples_marker_effects_genotypes_omics10.txt is created to save MCMC samples for marker_effects_genotypes_omics10.\u001b[39m\n",
            "\u001b[32mThe file results2/MCMC_samples_marker_effects_genotypes_residual.txt is created to save MCMC samples for marker_effects_genotypes_residual.\u001b[39m\n",
            "\u001b[32mThe file results2/MCMC_samples_marker_effects_variances_genotypes.txt is created to save MCMC samples for marker_effects_variances_genotypes.\u001b[39m\n",
            "\u001b[32mThe file results2/MCMC_samples_pi_genotypes.txt is created to save MCMC samples for pi_genotypes.\u001b[39m\n",
            "\u001b[32mThe file results2/MCMC_samples_EBV_omics1.txt is created to save MCMC samples for EBV_omics1.\u001b[39m\n",
            "\u001b[32mThe file results2/MCMC_samples_EBV_omics2.txt is created to save MCMC samples for EBV_omics2.\u001b[39m\n",
            "\u001b[32mThe file results2/MCMC_samples_EBV_omics3.txt is created to save MCMC samples for EBV_omics3.\u001b[39m\n",
            "\u001b[32mThe file results2/MCMC_samples_EBV_omics4.txt is created to save MCMC samples for EBV_omics4.\u001b[39m\n",
            "\u001b[32mThe file results2/MCMC_samples_EBV_omics5.txt is created to save MCMC samples for EBV_omics5.\u001b[39m\n",
            "\u001b[32mThe file results2/MCMC_samples_EBV_omics6.txt is created to save MCMC samples for EBV_omics6.\u001b[39m\n",
            "\u001b[32mThe file results2/MCMC_samples_EBV_omics7.txt is created to save MCMC samples for EBV_omics7.\u001b[39m\n",
            "\u001b[32mThe file results2/MCMC_samples_EBV_omics8.txt is created to save MCMC samples for EBV_omics8.\u001b[39m\n",
            "\u001b[32mThe file results2/MCMC_samples_EBV_omics9.txt is created to save MCMC samples for EBV_omics9.\u001b[39m\n",
            "\u001b[32mThe file results2/MCMC_samples_EBV_omics10.txt is created to save MCMC samples for EBV_omics10.\u001b[39m\n",
            "\u001b[32mThe file results2/MCMC_samples_EBV_residual.txt is created to save MCMC samples for EBV_residual.\u001b[39m\n",
            "\u001b[32mThe file results2/MCMC_samples_genetic_variance.txt is created to save MCMC samples for genetic_variance.\u001b[39m\n",
            "\u001b[32mThe file results2/MCMC_samples_heritability.txt is created to save MCMC samples for heritability.\u001b[39m\n",
            "\u001b[32mThe file results2/MCMC_samples_EBV_NonLinear.txt is created to save MCMC samples for EBV_NonLinear.\u001b[39m\n",
            "\u001b[32mThe file results2/MCMC_samples_neural_networks_bias_and_weights.txt is created to save MCMC samples for neural_networks_bias_and_weights.\u001b[39m\n",
            "\n",
            "\n",
            "\u001b[0m\u001b[1mThe version of Julia and Platform in use:\u001b[22m\n",
            "\n",
            "Julia Version 1.7.1\n",
            "Commit ac5cc99908 (2021-12-22 19:35 UTC)\n",
            "Platform Info:\n",
            "  OS: Linux (x86_64-pc-linux-gnu)\n",
            "  CPU: Intel(R) Xeon(R) CPU @ 2.20GHz\n",
            "  WORD_SIZE: 64\n",
            "  LIBM: libopenlibm\n",
            "  LLVM: libLLVM-12.0.1 (ORCJIT, broadwell)\n",
            "Environment:\n",
            "  JULIA_NUM_THREADS = 4\n",
            "\n",
            "\n",
            "\u001b[0m\u001b[1mThe analysis has finished. Results are saved in the returned \u001b[22m\u001b[0m\u001b[1mvariable and text files. MCMC samples are saved in text files.\u001b[22m\n",
            "\n",
            "\n"
          ]
        },
        {
          "output_type": "execute_result",
          "data": {
            "text/plain": [
              "0.8151671841620234"
            ]
          },
          "metadata": {},
          "execution_count": 4
        }
      ]
    },
    {
      "cell_type": "markdown",
      "source": [
        "Users can also add extra hidden nodes in the partial-connected neural network. Please check next documentation for building a partial-connected neural network."
      ],
      "metadata": {
        "id": "IkJ5afBajHfU"
      }
    },
    {
      "cell_type": "markdown",
      "source": [
        "## Output files"
      ],
      "metadata": {
        "id": "OH_Ju5ubi64H"
      }
    },
    {
      "cell_type": "markdown",
      "source": [
        "Same as those described in Part2."
      ],
      "metadata": {
        "id": "ljLcdjJ2kEpj"
      }
    },
    {
      "cell_type": "markdown",
      "source": [
        "### Julia Tips:"
      ],
      "metadata": {
        "id": "k21p3lxikHm9"
      }
    },
    {
      "cell_type": "markdown",
      "source": [
        "* You may want to set missing values manually, for example, setting the phenotypes for individuals in testing dataset as `missing`. Firstly, the type of  columns should be changed to allow `missing`, e.g., `phenotypes[!,:y] =  convert(Vector{Union{Missing,Float64}}, phenotypes[!,:y])`. Then, `missing` can be set manually, e.g., `phenotypes[10:11,:y1] .= missing` forces the 10th and 11th elements to be `missing`."
      ],
      "metadata": {
        "id": "bxte7OKDkIgF"
      }
    },
    {
      "cell_type": "markdown",
      "source": [
        "# Part 4: Partial-connected neural networks"
      ],
      "metadata": {
        "id": "IUdn28tEkNsG"
      }
    },
    {
      "cell_type": "markdown",
      "source": [
        "In partial-connected neural networks, SNPs can be divided into groups by users, and each group connects to its own intermediate trait in the middle layer.  Genotype groups should be loaded seperatly."
      ],
      "metadata": {
        "id": "xQ6oWZDmkONK"
      }
    },
    {
      "cell_type": "markdown",
      "source": [
        "## example(c): partial-connected neural networks, all intemediate traits are unobserved"
      ],
      "metadata": {
        "id": "WHdQ4SegkQmJ"
      }
    },
    {
      "cell_type": "markdown",
      "source": [
        "- nonlinear function (to define relationship between middle layer and phenotye): tanh\n",
        "- number of nodes in the middle layer: 3\n",
        "- Bayesian model (to sample marker effects on intemediate traits): \n",
        "  - genotype group 1: single-trait BayesA\n",
        "  - genotype group 2: single-trait BayesB\n",
        "  - genotype group 3: single-trait BayesC\n",
        "- sample the unobserved intemediate traits in the middle layer: Hamiltonian Monte Carlo\n",
        "\n",
        "![](https://github.com/zhaotianjing/figures/blob/main/partial_example.png?raw=true)"
      ],
      "metadata": {
        "id": "gZ2GUlpBkSuq"
      }
    },
    {
      "cell_type": "code",
      "source": [
        "# Step 1: Load packages\n",
        "using JWAS,DataFrames,CSV,Statistics,JWAS.Datasets,Random\n",
        "Random.seed!(123)\n",
        "\n",
        "# Step 2: Read data\n",
        "phenofile   = dataset(\"phenotypes.csv\")       \n",
        "genofile1   = dataset(\"genotypes_group1.csv\")  #path of genotype group1\n",
        "genofile2   = dataset(\"genotypes_group2.csv\")  #path of genotype group2\n",
        "genofile3   = dataset(\"genotypes_group3.csv\")  #path of genotype group3\n",
        "\n",
        "phenotypes = CSV.read(phenofile,DataFrame,delim = ',',header=true,missingstrings=[\"NA\"])\n",
        "geno1  = get_genotypes(genofile1,separator=',',method=\"BayesA\");   #read genotype group1\n",
        "geno2  = get_genotypes(genofile2,separator=',',method=\"BayesB\");   #read genotype group2\n",
        "geno3  = get_genotypes(genofile3,separator=',',method=\"BayesC\");   #read genotype group3\n",
        "\n",
        "# Step 3: Build Model Equations\n",
        "model_equation = \"y1 = intercept + geno1 + geno2 + geno3\";  #middle node1=intercept + geno1\n",
        "                                                            #middle node2=intercept + geno2\n",
        "                                                            #middle node3=intercept + geno3\n",
        "model = build_model(model_equation,nonlinear_function=\"tanh\")\n",
        "\n",
        "# Step 4: Run Analysis\n",
        "out = runMCMC(model, phenotypes, chain_length=5000);\n",
        "\n",
        "# Step 5: Check Accuruacy\n",
        "results    = innerjoin(out[\"EBV_NonLinear\"], phenotypes, on = :ID)\n",
        "accuruacy  = cor(results[!,:EBV],results[!,:bv1])"
      ],
      "metadata": {
        "id": "kR0wLjaPkYhf",
        "outputId": "6797db6b-3e49-4a1a-f74c-5e94aaa0402d",
        "colab": {
          "base_uri": "https://localhost:8080/"
        }
      },
      "execution_count": null,
      "outputs": [
        {
          "output_type": "stream",
          "name": "stdout",
          "text": [
            "\u001b[32mThe delimiterd in genotypes_group1.csv is ','. \u001b[39m\u001b[32mThe header (marker IDs) is provided in genotypes_group1.csv.\u001b[39m\n",
            "\u001b[0m\u001b[1mMissing values (9.0) are replaced by column means.\u001b[22m\n",
            "\u001b[0m\u001b[1m10 loci which are fixed or have minor allele frequency < 0.01 are removed.\u001b[22m\n",
            "Genotype informatin:\n",
            "#markers: 190; #individuals: 60\n",
            "\u001b[32mThe delimiterd in genotypes_group2.csv is ','. \u001b[39m\u001b[32mThe header (marker IDs) is provided in genotypes_group2.csv.\u001b[39m\n",
            "\u001b[0m\u001b[1mMissing values (9.0) are replaced by column means.\u001b[22m\n",
            "\u001b[0m\u001b[1m19 loci which are fixed or have minor allele frequency < 0.01 are removed.\u001b[22m\n",
            "Genotype informatin:\n",
            "#markers: 281; #individuals: 60\n",
            "\u001b[32mThe delimiterd in genotypes_group3.csv is ','. \u001b[39m\u001b[32mThe header (marker IDs) is provided in genotypes_group3.csv.\u001b[39m\n",
            "\u001b[0m\u001b[1mMissing values (9.0) are replaced by column means.\u001b[22m\n",
            "\u001b[0m\u001b[1m30 loci which are fixed or have minor allele frequency < 0.01 are removed.\u001b[22m\n",
            "Genotype informatin:\n",
            "#markers: 470; #individuals: 60\n",
            "\u001b[32mBayesian Neural Network is used with following information: \u001b[39m\n",
            "\u001b[32m - Neural network:         partially connected neural network. \u001b[39m\n",
            "\u001b[32m - Number of hidden nodes: 3. \u001b[39m\n",
            "\u001b[32m - Nonlinear function:     tanh.\u001b[39m\n",
            "\u001b[32m - Sampler:                Hamiltonian Monte Carlo. \u001b[39m\n",
            "\u001b[31mThe folder results already exists.\u001b[39m\n",
            "\u001b[31mThe folder results1 already exists.\u001b[39m\n",
            "\u001b[31mThe folder results2 already exists.\u001b[39m\n",
            "\u001b[32mThe folder results3 is created to save results.\u001b[39m\n",
            "\u001b[31mBayesA runs with estimatePi = false.\u001b[39m\n",
            "BayesA is equivalent to BayesB with known π=0. BayesB with known π=0 runs.\n",
            "\u001b[32mChecking genotypes...\u001b[39m\n",
            "\u001b[32mChecking phenotypes...\u001b[39m\n",
            "\u001b[32mIndividual IDs (strings) are provided in the first column of the phenotypic data.\u001b[39m\n",
            "\u001b[31mIn this complete genomic data (non-single-step) analyis, 40 phenotyped individuals are not genotyped. These are removed from the analysis.\u001b[39m\n",
            "\u001b[32mPredicted values for individuals of interest will be obtained as the summation of Any[] (Note that genomic data is always included for now).\u001b[39m\u001b[32mPhenotypes for 60 observations are used in the analysis.These individual IDs are saved in the file IDs_for_individuals_with_phenotypes.txt.\u001b[39m\n",
            "\u001b[32mPrior information for genomic variance is not provided and is generated from the data.\u001b[39m\n",
            "\u001b[32mPrior information for genomic variance is not provided and is generated from the data.\u001b[39m\n",
            "\u001b[32mPrior information for genomic variance is not provided and is generated from the data.\u001b[39m\n",
            "\u001b[32mPrior information for residual variance is not provided and is generated from the data.\u001b[39m\n",
            "\n",
            "\u001b[0mPi (Π) is not provided.\n",
            "\u001b[0mPi (Π) is generated assuming all markers have effects on all traits.\n",
            "\n",
            "The prior for marker effects covariance matrix is calculated from genetic covariance matrix and Π.\n",
            "The mean of the prior for the marker effects covariance matrix is:\n",
            " 0.006098  0.0       0.0\n",
            " 0.0       0.006098  0.0\n",
            " 0.0       0.0       0.006098\n",
            "\n",
            "\n",
            "\n",
            "\u001b[0mPi (Π) is not provided.\n",
            "\u001b[0mPi (Π) is generated assuming all markers have effects on all traits.\n",
            "\n",
            "The prior for marker effects covariance matrix is calculated from genetic covariance matrix and Π.\n",
            "The mean of the prior for the marker effects covariance matrix is:\n",
            " 0.004028  0.0       0.0\n",
            " 0.0       0.004028  0.0\n",
            " 0.0       0.0       0.004028\n",
            "\n",
            "\n",
            "\n",
            "\u001b[0mPi (Π) is not provided.\n",
            "\u001b[0mPi (Π) is generated assuming all markers have effects on all traits.\n",
            "\n",
            "The prior for marker effects covariance matrix is calculated from genetic covariance matrix and Π.\n",
            "The mean of the prior for the marker effects covariance matrix is:\n",
            " 0.002408  0.0       0.0\n",
            " 0.0       0.002408  0.0\n",
            " 0.0       0.0       0.002408\n",
            "\n",
            "\n",
            "\u001b[32m - Bayesian Alphabet:                multiple independent single-trait Bayesian models are used to sample marker effect. \u001b[39m\n",
            "\u001b[32m - Multi-threaded parallelism:       4 threads are used to run single-trait models in parallel. \u001b[39m\n",
            "\n",
            "\u001b[0m\u001b[1mA Linear Mixed Model was build using model equations:\u001b[22m\n",
            "\n",
            "y11=intercept+geno1\n",
            "y12=intercept+geno2\n",
            "y13=intercept+geno3\n",
            "\n",
            "\u001b[0m\u001b[1mModel Information:\u001b[22m\n",
            "\n",
            "Term            C/F          F/R            nLevels\n",
            "intercept       factor       fixed                1\n",
            "\n",
            "\u001b[0m\u001b[1mMCMC Information:\u001b[22m\n",
            "\n",
            "chain_length                                   5000\n",
            "burnin                                            0\n",
            "starting_value                                 true\n",
            "printout_frequency                             5001\n",
            "output_samples_frequency                          5\n",
            "constraint                                     true\n",
            "missing_phenotypes                            false\n",
            "update_priors_frequency                           0\n",
            "seed                                          false\n",
            "\n",
            "\u001b[0m\u001b[1mHyper-parameters Information:\u001b[22m\n",
            "\n",
            "residual variances:           \n",
            " 1.247  0.0    0.0\n",
            " 0.0    1.247  0.0\n",
            " 0.0    0.0    1.247\n",
            "\n",
            "\u001b[0m\u001b[1mGenomic Information:\u001b[22m\n",
            "\n",
            "complete genomic data (i.e., non-single-step analysis)\n",
            "\n",
            "Genomic Category                              geno1\n",
            "Method                                       BayesB\n",
            "genetic variances (genomic):                  0.416\n",
            "marker effect variances:                      0.006\n",
            "\n",
            "Π: (Y(yes):included; N(no):excluded)\n",
            "\n",
            "[\"y11\", \"y12\", \"y13\"]         probability\n",
            "[\"N\", \"Y\", \"N\"]                 0.0\n",
            "[\"Y\", \"N\", \"Y\"]                 0.0\n",
            "[\"N\", \"N\", \"Y\"]                 0.0\n",
            "[\"Y\", \"N\", \"N\"]                 0.0\n",
            "[\"N\", \"N\", \"N\"]                 0.0\n",
            "[\"Y\", \"Y\", \"Y\"]                 1.0\n",
            "[\"N\", \"Y\", \"Y\"]                 0.0\n",
            "[\"Y\", \"Y\", \"N\"]                 0.0\n",
            "\n",
            "estimatePi                                    false\n",
            "estimateScale                                 false\n",
            "genetic variances (genomic):                  0.416\n",
            "marker effect variances:                      0.004\n",
            "\n",
            "Π: (Y(yes):included; N(no):excluded)\n",
            "\n",
            "[\"y11\", \"y12\", \"y13\"]         probability\n",
            "[\"N\", \"Y\", \"N\"]                 0.0\n",
            "[\"Y\", \"N\", \"Y\"]                 0.0\n",
            "[\"N\", \"N\", \"Y\"]                 0.0\n",
            "[\"Y\", \"N\", \"N\"]                 0.0\n",
            "[\"N\", \"N\", \"N\"]                 0.0\n",
            "[\"Y\", \"Y\", \"Y\"]                 1.0\n",
            "[\"N\", \"Y\", \"Y\"]                 0.0\n",
            "[\"Y\", \"Y\", \"N\"]                 0.0\n",
            "\n",
            "estimatePi                                     true\n",
            "estimateScale                                 false\n",
            "genetic variances (genomic):                  0.416\n",
            "marker effect variances:                      0.002\n",
            "\n",
            "Π: (Y(yes):included; N(no):excluded)\n",
            "\n",
            "[\"y11\", \"y12\", \"y13\"]         probability\n",
            "[\"N\", \"Y\", \"N\"]                 0.0\n",
            "[\"Y\", \"N\", \"Y\"]                 0.0\n",
            "[\"N\", \"N\", \"Y\"]                 0.0\n",
            "[\"Y\", \"N\", \"N\"]                 0.0\n",
            "[\"N\", \"N\", \"N\"]                 0.0\n",
            "[\"Y\", \"Y\", \"Y\"]                 1.0\n",
            "[\"N\", \"Y\", \"Y\"]                 0.0\n",
            "[\"Y\", \"Y\", \"N\"]                 0.0\n",
            "\n",
            "estimatePi                                     true\n",
            "estimateScale                                 false\n",
            "\n",
            "Genomic Category                              geno2\n",
            "Method                                       BayesB\n",
            "genetic variances (genomic):                  0.416\n",
            "marker effect variances:                      0.006\n",
            "\n",
            "Π: (Y(yes):included; N(no):excluded)\n",
            "\n",
            "[\"y11\", \"y12\", \"y13\"]         probability\n",
            "[\"N\", \"Y\", \"N\"]                 0.0\n",
            "[\"Y\", \"N\", \"Y\"]                 0.0\n",
            "[\"N\", \"N\", \"Y\"]                 0.0\n",
            "[\"Y\", \"N\", \"N\"]                 0.0\n",
            "[\"N\", \"N\", \"N\"]                 0.0\n",
            "[\"Y\", \"Y\", \"Y\"]                 1.0\n",
            "[\"N\", \"Y\", \"Y\"]                 0.0\n",
            "[\"Y\", \"Y\", \"N\"]                 0.0\n",
            "\n",
            "estimatePi                                    false\n",
            "estimateScale                                 false\n",
            "genetic variances (genomic):                  0.416\n",
            "marker effect variances:                      0.004\n",
            "\n",
            "Π: (Y(yes):included; N(no):excluded)\n",
            "\n",
            "[\"y11\", \"y12\", \"y13\"]         probability\n",
            "[\"N\", \"Y\", \"N\"]                 0.0\n",
            "[\"Y\", \"N\", \"Y\"]                 0.0\n",
            "[\"N\", \"N\", \"Y\"]                 0.0\n",
            "[\"Y\", \"N\", \"N\"]                 0.0\n",
            "[\"N\", \"N\", \"N\"]                 0.0\n",
            "[\"Y\", \"Y\", \"Y\"]                 1.0\n",
            "[\"N\", \"Y\", \"Y\"]                 0.0\n",
            "[\"Y\", \"Y\", \"N\"]                 0.0\n",
            "\n",
            "estimatePi                                     true\n",
            "estimateScale                                 false\n",
            "genetic variances (genomic):                  0.416\n",
            "marker effect variances:                      0.002\n",
            "\n",
            "Π: (Y(yes):included; N(no):excluded)\n",
            "\n",
            "[\"y11\", \"y12\", \"y13\"]         probability\n",
            "[\"N\", \"Y\", \"N\"]                 0.0\n",
            "[\"Y\", \"N\", \"Y\"]                 0.0\n",
            "[\"N\", \"N\", \"Y\"]                 0.0\n",
            "[\"Y\", \"N\", \"N\"]                 0.0\n",
            "[\"N\", \"N\", \"N\"]                 0.0\n",
            "[\"Y\", \"Y\", \"Y\"]                 1.0\n",
            "[\"N\", \"Y\", \"Y\"]                 0.0\n",
            "[\"Y\", \"Y\", \"N\"]                 0.0\n",
            "\n",
            "estimatePi                                     true\n",
            "estimateScale                                 false\n",
            "\n",
            "Genomic Category                              geno3\n",
            "Method                                       BayesC\n",
            "genetic variances (genomic):                  0.416\n",
            "marker effect variances:                      0.006\n",
            "\n",
            "Π: (Y(yes):included; N(no):excluded)\n",
            "\n",
            "[\"y11\", \"y12\", \"y13\"]         probability\n",
            "[\"N\", \"Y\", \"N\"]                 0.0\n",
            "[\"Y\", \"N\", \"Y\"]                 0.0\n",
            "[\"N\", \"N\", \"Y\"]                 0.0\n",
            "[\"Y\", \"N\", \"N\"]                 0.0\n",
            "[\"N\", \"N\", \"N\"]                 0.0\n",
            "[\"Y\", \"Y\", \"Y\"]                 1.0\n",
            "[\"N\", \"Y\", \"Y\"]                 0.0\n",
            "[\"Y\", \"Y\", \"N\"]                 0.0\n",
            "\n",
            "estimatePi                                    false\n",
            "estimateScale                                 false\n",
            "genetic variances (genomic):                  0.416\n",
            "marker effect variances:                      0.004\n",
            "\n",
            "Π: (Y(yes):included; N(no):excluded)\n",
            "\n",
            "[\"y11\", \"y12\", \"y13\"]         probability\n",
            "[\"N\", \"Y\", \"N\"]                 0.0\n",
            "[\"Y\", \"N\", \"Y\"]                 0.0\n",
            "[\"N\", \"N\", \"Y\"]                 0.0\n",
            "[\"Y\", \"N\", \"N\"]                 0.0\n",
            "[\"N\", \"N\", \"N\"]                 0.0\n",
            "[\"Y\", \"Y\", \"Y\"]                 1.0\n",
            "[\"N\", \"Y\", \"Y\"]                 0.0\n",
            "[\"Y\", \"Y\", \"N\"]                 0.0\n",
            "\n",
            "estimatePi                                     true\n",
            "estimateScale                                 false\n",
            "genetic variances (genomic):                  0.416\n",
            "marker effect variances:                      0.002\n",
            "\n",
            "Π: (Y(yes):included; N(no):excluded)\n",
            "\n",
            "[\"y11\", \"y12\", \"y13\"]         probability\n",
            "[\"N\", \"Y\", \"N\"]                 0.0\n",
            "[\"Y\", \"N\", \"Y\"]                 0.0\n",
            "[\"N\", \"N\", \"Y\"]                 0.0\n",
            "[\"Y\", \"N\", \"N\"]                 0.0\n",
            "[\"N\", \"N\", \"N\"]                 0.0\n",
            "[\"Y\", \"Y\", \"Y\"]                 1.0\n"
          ]
        },
        {
          "output_type": "stream",
          "name": "stderr",
          "text": [
            "\u001b[32mrunning MCMC ... 100%|███████████████████████████████████| Time: 0:00:08\u001b[39m\n"
          ]
        },
        {
          "output_type": "stream",
          "name": "stdout",
          "text": [
            "[\"N\", \"Y\", \"Y\"]                 0.0\n",
            "[\"Y\", \"Y\", \"N\"]                 0.0\n",
            "\n",
            "estimatePi                                     true\n",
            "estimateScale                                 false\n",
            "\n",
            "\u001b[0m\u001b[1mDegree of freedom for hyper-parameters:\u001b[22m\n",
            "\n",
            "residual variances:                           4.000\n",
            "marker effect variances:                      4.000\n",
            "\n",
            "\n",
            "\n",
            "\u001b[32mThe file results3/MCMC_samples_residual_variance.txt is created to save MCMC samples for residual_variance.\u001b[39m\n",
            "\u001b[32mThe file results3/MCMC_samples_marker_effects_geno1_y11.txt is created to save MCMC samples for marker_effects_geno1_y11.\u001b[39m\n",
            "\u001b[32mThe file results3/MCMC_samples_marker_effects_variances_geno1.txt is created to save MCMC samples for marker_effects_variances_geno1.\u001b[39m\n",
            "\u001b[32mThe file results3/MCMC_samples_pi_geno1.txt is created to save MCMC samples for pi_geno1.\u001b[39m\n",
            "\u001b[32mThe file results3/MCMC_samples_marker_effects_geno2_y12.txt is created to save MCMC samples for marker_effects_geno2_y12.\u001b[39m\n",
            "\u001b[32mThe file results3/MCMC_samples_marker_effects_variances_geno2.txt is created to save MCMC samples for marker_effects_variances_geno2.\u001b[39m\n",
            "\u001b[32mThe file results3/MCMC_samples_pi_geno2.txt is created to save MCMC samples for pi_geno2.\u001b[39m\n",
            "\u001b[32mThe file results3/MCMC_samples_marker_effects_geno3_y13.txt is created to save MCMC samples for marker_effects_geno3_y13.\u001b[39m\n",
            "\u001b[32mThe file results3/MCMC_samples_marker_effects_variances_geno3.txt is created to save MCMC samples for marker_effects_variances_geno3.\u001b[39m\n",
            "\u001b[32mThe file results3/MCMC_samples_pi_geno3.txt is created to save MCMC samples for pi_geno3.\u001b[39m\n",
            "\u001b[32mThe file results3/MCMC_samples_EBV_y11.txt is created to save MCMC samples for EBV_y11.\u001b[39m\n",
            "\u001b[32mThe file results3/MCMC_samples_EBV_y12.txt is created to save MCMC samples for EBV_y12.\u001b[39m\n",
            "\u001b[32mThe file results3/MCMC_samples_EBV_y13.txt is created to save MCMC samples for EBV_y13.\u001b[39m\n",
            "\u001b[32mThe file results3/MCMC_samples_genetic_variance.txt is created to save MCMC samples for genetic_variance.\u001b[39m\n",
            "\u001b[32mThe file results3/MCMC_samples_heritability.txt is created to save MCMC samples for heritability.\u001b[39m\n",
            "\u001b[32mThe file results3/MCMC_samples_EBV_NonLinear.txt is created to save MCMC samples for EBV_NonLinear.\u001b[39m\n",
            "\u001b[32mThe file results3/MCMC_samples_neural_networks_bias_and_weights.txt is created to save MCMC samples for neural_networks_bias_and_weights.\u001b[39m\n",
            "\n",
            "\n",
            "\u001b[0m\u001b[1mThe version of Julia and Platform in use:\u001b[22m\n",
            "\n",
            "Julia Version 1.7.1\n",
            "Commit ac5cc99908 (2021-12-22 19:35 UTC)\n",
            "Platform Info:\n",
            "  OS: Linux (x86_64-pc-linux-gnu)\n",
            "  CPU: Intel(R) Xeon(R) CPU @ 2.20GHz\n",
            "  WORD_SIZE: 64\n",
            "  LIBM: libopenlibm\n",
            "  LLVM: libLLVM-12.0.1 (ORCJIT, broadwell)\n",
            "Environment:\n",
            "  JULIA_NUM_THREADS = 4\n",
            "\n",
            "\n",
            "\u001b[0m\u001b[1mThe analysis has finished. Results are saved in the returned \u001b[22m\u001b[0m\u001b[1mvariable and text files. MCMC samples are saved in text files.\u001b[22m\n",
            "\n",
            "\n"
          ]
        },
        {
          "output_type": "execute_result",
          "data": {
            "text/plain": [
              "0.5965304569392736"
            ]
          },
          "metadata": {},
          "execution_count": 5
        }
      ]
    },
    {
      "cell_type": "markdown",
      "source": [
        "## example(o3): partial-connected neural networks with intermediate omics data"
      ],
      "metadata": {
        "id": "oYiLsR7zkb3-"
      }
    },
    {
      "cell_type": "markdown",
      "source": [
        "* Same as for fully-connected neural network with intermediate omics data, the names of omics features should be put in the `build_model()` function through the `latent_traits` argument. The order of omics and the order of genotype groups in the model equation should be consistant.\n",
        "\n",
        "In below example, we assume genotype group i only affect omics i (here i =1,...,5).\n",
        "\n",
        "![](https://github.com/zhaotianjing/figures/blob/main/part4_partial_omics.png?raw=true)"
      ],
      "metadata": {
        "id": "LxYHDXZwkeXX"
      }
    },
    {
      "cell_type": "code",
      "source": [
        "# Step 1: Load packages\n",
        "using JWAS,DataFrames,CSV,Statistics,JWAS.Datasets,Random,HTTP \n",
        "Random.seed!(1)\n",
        "\n",
        "# Step 2: Read data\n",
        "phenofile  = HTTP.get(\"https://raw.githubusercontent.com/zhaotianjing/nnmm_doc/main/data_simulation/y.csv\").body\n",
        "omicsfile  = HTTP.get(\"https://raw.githubusercontent.com/zhaotianjing/nnmm_doc/main/data_simulation/omics.csv\").body\n",
        "\n",
        "genofile1   = HTTP.get(\"https://raw.githubusercontent.com/zhaotianjing/nnmm_doc/main/data_simulation/geno_group1.csv\").body\n",
        "genofile2   = HTTP.get(\"https://raw.githubusercontent.com/zhaotianjing/nnmm_doc/main/data_simulation/geno_group2.csv\").body\n",
        "genofile3   = HTTP.get(\"https://raw.githubusercontent.com/zhaotianjing/nnmm_doc/main/data_simulation/geno_group3.csv\").body\n",
        "genofile4   = HTTP.get(\"https://raw.githubusercontent.com/zhaotianjing/nnmm_doc/main/data_simulation/geno_group4.csv\").body\n",
        "genofile5   = HTTP.get(\"https://raw.githubusercontent.com/zhaotianjing/nnmm_doc/main/data_simulation/geno_group5.csv\").body\n",
        "\n",
        "phenotypes  = CSV.read(phenofile,DataFrame)\n",
        "omics       = CSV.read(omicsfile,DataFrame)[:,1:6] #only use first 5 omics for demonstration\n",
        "omics_names = names(omics)[2:end] #get names of omics\n",
        "insertcols!(omics,2,:y => phenotypes[:,:y], :bv => phenotypes[:,:bv]) #phenotype and omics should be in the same dataframe\n",
        "\n",
        "geno1_df    = CSV.read(genofile1,DataFrame)\n",
        "geno2_df    = CSV.read(genofile2,DataFrame)\n",
        "geno3_df    = CSV.read(genofile3,DataFrame)\n",
        "geno4_df    = CSV.read(genofile4,DataFrame)\n",
        "geno5_df    = CSV.read(genofile5,DataFrame)\n",
        "\n",
        "geno1  = get_genotypes(geno1_df,separator=',',method=\"BayesA\");\n",
        "geno2  = get_genotypes(geno2_df,separator=',',method=\"BayesB\");\n",
        "geno3  = get_genotypes(geno3_df,separator=',',method=\"BayesC\");\n",
        "geno4  = get_genotypes(geno4_df,separator=',',method=\"RR-BLUP\");\n",
        "geno5  = get_genotypes(geno5_df,separator=',',method=\"BayesL\");\n",
        "\n",
        "\n",
        "# Step 3: Build Model Equations\n",
        "model_equation = \"y = intercept + geno1 + geno2 + geno3 + geno4 + geno5\"; #omics1=intercept+geno1; omics2=intercept+geno2; ...\n",
        "model = build_model(model_equation,\n",
        "\t\t    num_hidden_nodes=5,\n",
        "\t\t    nonlinear_function=\"sigmoid\",\n",
        "\t            latent_traits=omics_names)\n",
        "\n",
        "# Step 4: Run Analysis\n",
        "out = runMCMC(model, omics, chain_length=5000, printout_model_info=false);\n",
        "\n",
        "# Step 5: Check Accuruacy\n",
        "results    = innerjoin(out[\"EBV_NonLinear\"], omics, on = :ID)\n",
        "accuruacy  = cor(results[!,:EBV],results[!,:bv])"
      ],
      "metadata": {
        "id": "YPZYWmMJkh0g",
        "outputId": "ee007542-583f-44f7-c84f-4b0ce988aa05",
        "colab": {
          "base_uri": "https://localhost:8080/"
        }
      },
      "execution_count": null,
      "outputs": [
        {
          "output_type": "stream",
          "name": "stderr",
          "text": [
            "\u001b[32mrunning MCMC ... 100%|███████████████████████████████████| Time: 0:00:03\u001b[39m\n"
          ]
        },
        {
          "output_type": "stream",
          "name": "stdout",
          "text": [
            "The first column in the dataframe should be individual IDs.\n",
            "The data type of markers should be Number.\n",
            "\u001b[0m\u001b[1mMissing values (9.0) are replaced by column means.\u001b[22m\n",
            "\u001b[0m\u001b[1m0 loci which are fixed or have minor allele frequency < 0.01 are removed.\u001b[22m\n",
            "Genotype informatin:\n",
            "#markers: 20; #individuals: 100\n",
            "The first column in the dataframe should be individual IDs.\n",
            "The data type of markers should be Number.\n",
            "\u001b[0m\u001b[1mMissing values (9.0) are replaced by column means.\u001b[22m\n",
            "\u001b[0m\u001b[1m0 loci which are fixed or have minor allele frequency < 0.01 are removed.\u001b[22m\n",
            "Genotype informatin:\n",
            "#markers: 20; #individuals: 100\n",
            "The first column in the dataframe should be individual IDs.\n",
            "The data type of markers should be Number.\n",
            "\u001b[0m\u001b[1mMissing values (9.0) are replaced by column means.\u001b[22m\n",
            "\u001b[0m\u001b[1m0 loci which are fixed or have minor allele frequency < 0.01 are removed.\u001b[22m\n",
            "Genotype informatin:\n",
            "#markers: 20; #individuals: 100\n",
            "The first column in the dataframe should be individual IDs.\n",
            "The data type of markers should be Number.\n",
            "\u001b[0m\u001b[1mMissing values (9.0) are replaced by column means.\u001b[22m\n",
            "\u001b[0m\u001b[1m0 loci which are fixed or have minor allele frequency < 0.01 are removed.\u001b[22m\n",
            "Genotype informatin:\n",
            "#markers: 20; #individuals: 100\n",
            "The first column in the dataframe should be individual IDs.\n",
            "The data type of markers should be Number.\n",
            "\u001b[0m\u001b[1mMissing values (9.0) are replaced by column means.\u001b[22m\n",
            "\u001b[0m\u001b[1m0 loci which are fixed or have minor allele frequency < 0.01 are removed.\u001b[22m\n",
            "Genotype informatin:\n",
            "#markers: 20; #individuals: 100\n",
            "\u001b[32mBayesian Neural Network is used with following information: \u001b[39m\n",
            "\u001b[32m - Neural network:         partially connected neural network. \u001b[39m\n",
            "\u001b[32m - Number of hidden nodes: 5. \u001b[39m\n",
            "\u001b[32m - Nonlinear function:     sigmoid.\u001b[39m\n",
            "\u001b[32m - Sampler:                Hamiltonian Monte Carlo. \u001b[39m\n",
            "\u001b[32m - Omics data:             5 intermediate omics features are included.\u001b[39m\n",
            "\u001b[31mThe folder results already exists.\u001b[39m\n",
            "\u001b[31mThe folder results1 already exists.\u001b[39m\n",
            "\u001b[31mThe folder results2 already exists.\u001b[39m\n",
            "\u001b[31mThe folder results3 already exists.\u001b[39m\n",
            "\u001b[32mThe folder results4 is created to save results.\u001b[39m\n",
            "\u001b[31mBayesA runs with estimatePi = false.\u001b[39m\n",
            "BayesA is equivalent to BayesB with known π=0. BayesB with known π=0 runs.\n",
            "\u001b[31mRR-BLUP runs with estimatePi = false.\u001b[39m\n",
            "\u001b[31mBayesL runs with estimatePi = false.\u001b[39m\n",
            "\u001b[32mChecking genotypes...\u001b[39m\n",
            "\u001b[32mChecking phenotypes...\u001b[39m\n",
            "\u001b[32mIndividual IDs (strings) are provided in the first column of the phenotypic data.\u001b[39m\n",
            "\u001b[32mPredicted values for individuals of interest will be obtained as the summation of Any[] (Note that genomic data is always included for now).\u001b[39m\u001b[32mPhenotypes for 100 observations are used in the analysis.These individual IDs are saved in the file IDs_for_individuals_with_phenotypes.txt.\u001b[39m\n",
            "\u001b[32mPrior information for genomic variance is not provided and is generated from the data.\u001b[39m\n",
            "\u001b[32mPrior information for genomic variance is not provided and is generated from the data.\u001b[39m\n",
            "\u001b[32mPrior information for genomic variance is not provided and is generated from the data.\u001b[39m\n",
            "\u001b[32mPrior information for genomic variance is not provided and is generated from the data.\u001b[39m\n",
            "\u001b[32mPrior information for genomic variance is not provided and is generated from the data.\u001b[39m\n",
            "\u001b[32mPrior information for residual variance is not provided and is generated from the data.\u001b[39m\n",
            "\n",
            "\u001b[0mPi (Π) is not provided.\n",
            "\u001b[0mPi (Π) is generated assuming all markers have effects on all traits.\n",
            "\n",
            "The prior for marker effects covariance matrix is calculated from genetic covariance matrix and Π.\n",
            "The mean of the prior for the marker effects covariance matrix is:\n",
            "\n",
            "\n",
            "\n",
            "\n",
            "\u001b[0mPi (Π) is not provided.\n",
            "\u001b[0mPi (Π) is generated assuming all markers have effects on all traits.\n",
            "\n",
            "The prior for marker effects covariance matrix is calculated from genetic covariance matrix and Π.\n",
            "The mean of the prior for the marker effects covariance matrix is:\n",
            "\n",
            "\n",
            "\n",
            "\n",
            "\u001b[0mPi (Π) is not provided.\n",
            "\u001b[0mPi (Π) is generated assuming all markers have effects on all traits.\n",
            "\n",
            "The prior for marker effects covariance matrix is calculated from genetic covariance matrix and Π.\n",
            "The mean of the prior for the marker effects covariance matrix is:\n",
            "\n",
            "\n",
            "\n",
            "\n",
            "The prior for marker effects covariance matrix is calculated from genetic covariance matrix and Π.\n",
            "The mean of the prior for the marker effects covariance matrix is:\n",
            "\n",
            "\n",
            "\n",
            "\n",
            "The prior for marker effects covariance matrix is calculated from genetic covariance matrix and Π.\n",
            "The mean of the prior for the marker effects covariance matrix is:\n",
            "\n",
            "\n",
            "\n",
            "\u001b[32m - Bayesian Alphabet:                multiple independent single-trait Bayesian models are used to sample marker effect. \u001b[39m\n",
            "\u001b[32m - Multi-threaded parallelism:       4 threads are used to run single-trait models in parallel. \u001b[39m\n",
            "\n",
            "\u001b[0m\u001b[1mA Linear Mixed Model was build using model equations:\u001b[22m\n",
            "\n",
            "y1=intercept+geno1\n",
            "y2=intercept+geno2\n",
            "y3=intercept+geno3\n",
            "y4=intercept+geno4\n",
            "y5=intercept+geno5\n",
            "\n",
            "\u001b[0m\u001b[1mModel Information:\u001b[22m\n",
            "\n",
            "Term            C/F          F/R            nLevels\n",
            "intercept       factor       fixed                1\n",
            "\n",
            "\u001b[32mThe file results4/MCMC_samples_residual_variance.txt is created to save MCMC samples for residual_variance.\u001b[39m\n",
            "\u001b[32mThe file results4/MCMC_samples_marker_effects_geno1_omics1.txt is created to save MCMC samples for marker_effects_geno1_omics1.\u001b[39m\n",
            "\u001b[32mThe file results4/MCMC_samples_marker_effects_variances_geno1.txt is created to save MCMC samples for marker_effects_variances_geno1.\u001b[39m\n",
            "\u001b[32mThe file results4/MCMC_samples_pi_geno1.txt is created to save MCMC samples for pi_geno1.\u001b[39m\n",
            "\u001b[32mThe file results4/MCMC_samples_marker_effects_geno2_omics2.txt is created to save MCMC samples for marker_effects_geno2_omics2.\u001b[39m\n",
            "\u001b[32mThe file results4/MCMC_samples_marker_effects_variances_geno2.txt is created to save MCMC samples for marker_effects_variances_geno2.\u001b[39m\n",
            "\u001b[32mThe file results4/MCMC_samples_pi_geno2.txt is created to save MCMC samples for pi_geno2.\u001b[39m\n",
            "\u001b[32mThe file results4/MCMC_samples_marker_effects_geno3_omics3.txt is created to save MCMC samples for marker_effects_geno3_omics3.\u001b[39m\n",
            "\u001b[32mThe file results4/MCMC_samples_marker_effects_variances_geno3.txt is created to save MCMC samples for marker_effects_variances_geno3.\u001b[39m\n",
            "\u001b[32mThe file results4/MCMC_samples_pi_geno3.txt is created to save MCMC samples for pi_geno3.\u001b[39m\n",
            "\u001b[32mThe file results4/MCMC_samples_marker_effects_geno4_omics4.txt is created to save MCMC samples for marker_effects_geno4_omics4.\u001b[39m\n",
            "\u001b[32mThe file results4/MCMC_samples_marker_effects_variances_geno4.txt is created to save MCMC samples for marker_effects_variances_geno4.\u001b[39m\n",
            "\u001b[32mThe file results4/MCMC_samples_pi_geno4.txt is created to save MCMC samples for pi_geno4.\u001b[39m\n",
            "\u001b[32mThe file results4/MCMC_samples_marker_effects_geno5_omics5.txt is created to save MCMC samples for marker_effects_geno5_omics5.\u001b[39m\n",
            "\u001b[32mThe file results4/MCMC_samples_marker_effects_variances_geno5.txt is created to save MCMC samples for marker_effects_variances_geno5.\u001b[39m\n",
            "\u001b[32mThe file results4/MCMC_samples_pi_geno5.txt is created to save MCMC samples for pi_geno5.\u001b[39m\n",
            "\u001b[32mThe file results4/MCMC_samples_EBV_omics1.txt is created to save MCMC samples for EBV_omics1.\u001b[39m\n",
            "\u001b[32mThe file results4/MCMC_samples_EBV_omics2.txt is created to save MCMC samples for EBV_omics2.\u001b[39m\n",
            "\u001b[32mThe file results4/MCMC_samples_EBV_omics3.txt is created to save MCMC samples for EBV_omics3.\u001b[39m\n",
            "\u001b[32mThe file results4/MCMC_samples_EBV_omics4.txt is created to save MCMC samples for EBV_omics4.\u001b[39m\n",
            "\u001b[32mThe file results4/MCMC_samples_EBV_omics5.txt is created to save MCMC samples for EBV_omics5.\u001b[39m\n",
            "\u001b[32mThe file results4/MCMC_samples_genetic_variance.txt is created to save MCMC samples for genetic_variance.\u001b[39m\n",
            "\u001b[32mThe file results4/MCMC_samples_heritability.txt is created to save MCMC samples for heritability.\u001b[39m\n",
            "\u001b[32mThe file results4/MCMC_samples_EBV_NonLinear.txt is created to save MCMC samples for EBV_NonLinear.\u001b[39m\n",
            "\u001b[32mThe file results4/MCMC_samples_neural_networks_bias_and_weights.txt is created to save MCMC samples for neural_networks_bias_and_weights.\u001b[39m\n",
            "\n",
            "\n",
            "\u001b[0m\u001b[1mThe version of Julia and Platform in use:\u001b[22m\n",
            "\n",
            "Julia Version 1.7.1\n",
            "Commit ac5cc99908 (2021-12-22 19:35 UTC)\n",
            "Platform Info:\n",
            "  OS: Linux (x86_64-pc-linux-gnu)\n",
            "  CPU: Intel(R) Xeon(R) CPU @ 2.20GHz\n",
            "  WORD_SIZE: 64\n",
            "  LIBM: libopenlibm\n",
            "  LLVM: libLLVM-12.0.1 (ORCJIT, broadwell)\n",
            "Environment:\n",
            "  JULIA_NUM_THREADS = 4\n",
            "\n",
            "\n",
            "\u001b[0m\u001b[1mThe analysis has finished. Results are saved in the returned \u001b[22m\u001b[0m\u001b[1mvariable and text files. MCMC samples are saved in text files.\u001b[22m\n",
            "\n",
            "\n"
          ]
        },
        {
          "output_type": "execute_result",
          "data": {
            "text/plain": [
              "0.44276514311316234"
            ]
          },
          "metadata": {},
          "execution_count": 6
        }
      ]
    },
    {
      "cell_type": "markdown",
      "source": [
        "# Part 5: User-defined relationship between middle layer (intermediate traits) and output layer (phenotype)"
      ],
      "metadata": {
        "id": "iBMr-EAXkk8Q"
      }
    },
    {
      "cell_type": "markdown",
      "source": [
        "* Firstly, a function should be pre-defined by user, where each function argument represents the input from a intermediate trait. For example, with two omics, we can have `pig_growth(omics1,omics2) = sqrt(omics1^2 / (omics1^2 + omics2^2))`)\n",
        "* Then, put the name of the user-define function in the `nonlinear_function` arugument when build the model."
      ],
      "metadata": {
        "id": "ahTWnGRUkncR"
      }
    },
    {
      "cell_type": "markdown",
      "source": [
        "### example(b): user-defined relationship between middle layer (intermediate traits) and output layer (phenotype)"
      ],
      "metadata": {
        "id": "bDHz-3jQkpfY"
      }
    },
    {
      "cell_type": "markdown",
      "source": [
        "- number of nodes in the middle layer: 2\n",
        "- nonlinear function (to define relationship between middle nodes and phenotype): y = sqrt(x1^2 / (x1^2 + x2^2))\n",
        "- sample the missing omics in the middle layer: Matropolis-Hastings\n",
        "\n",
        "All the other code are the same as before, except Step 3: Build Model Equations. Note that user-defined relationship is supported in both fully-connected and partial-connected neural network. "
      ],
      "metadata": {
        "id": "MIqvMgLXkrta"
      }
    },
    {
      "cell_type": "markdown",
      "source": [
        "\n",
        "```\n",
        "# Step 3: Build Model Equations\n",
        "pig_growth(x1,x2) = sqrt(x1^2 / (x1^2 + x2^2))\n",
        "model = build_model(model_equation,\n",
        "                    num_hidden_nodes=2,\n",
        "                    nonlinear_function=pig_growth);\n",
        "```"
      ],
      "metadata": {
        "id": "5PQkmteAkuDQ"
      }
    }
  ],
  "metadata": {
    "accelerator": "GPU",
    "colab": {
      "collapsed_sections": [],
      "name": "nnmm.ipynb",
      "provenance": []
    },
    "kernelspec": {
      "display_name": "Julia",
      "language": "julia",
      "name": "julia"
    },
    "language_info": {
      "file_extension": ".jl",
      "mimetype": "application/julia",
      "name": "julia"
    }
  },
  "nbformat": 4,
  "nbformat_minor": 0
}